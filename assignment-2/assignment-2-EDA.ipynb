{
 "cells": [
  {
   "cell_type": "markdown",
   "id": "ab796d9b",
   "metadata": {},
   "source": [
    "### imports"
   ]
  },
  {
   "cell_type": "code",
   "execution_count": 1,
   "id": "3cec730f",
   "metadata": {},
   "outputs": [],
   "source": [
    "import numpy as np\n",
    "import pandas as pd \n",
    "import seaborn as sns\n",
    "import time\n",
    "from sklearn.model_selection import train_test_split, cross_val_score, KFold\n",
    "from sklearn.preprocessing import normalize\n",
    "import matplotlib.pyplot as plt\n",
    "import pickle\n",
    "\n"
   ]
  },
  {
   "cell_type": "markdown",
   "id": "1b8423ac",
   "metadata": {},
   "source": [
    "### load training and testing sets"
   ]
  },
  {
   "cell_type": "code",
   "execution_count": 2,
   "id": "730774e3",
   "metadata": {},
   "outputs": [],
   "source": [
    "#if loaded train file exists\n",
    "try:\n",
    "    with open('data/train-data.pickle', 'rb') as handle:\n",
    "        train = pickle.load(handle)\n",
    "#if not load and save\n",
    "except:\n",
    "    !unzip data/training_set_VU_DM.csv.zip\n",
    "    train = pd.read_csv('training_set_VU_DM.csv')\n",
    "    !rm training_set_VU_DM.csv\n",
    "    with open('data/train-data.pickle', 'wb') as handle:\n",
    "        pickle.dump(train, handle)\n",
    "\n",
    "#if loaded test file exists\n",
    "try:\n",
    "    with open('data/test-data.pickle', 'rb') as handle:\n",
    "        test = pickle.load(handle)\n",
    "#if not load and save\n",
    "except:\n",
    "    !unzip data/test_set_VU_DM.csv.zip\n",
    "    test = pd.read_csv('test_set_VU_DM.csv')\n",
    "    !rm test_set_VU_DM.csv\n",
    "    with open('data/test-data.pickle', 'wb') as handle:\n",
    "        pickle.dump(test, handle)"
   ]
  },
  {
   "cell_type": "markdown",
   "id": "3bf6c0eb",
   "metadata": {},
   "source": [
    "### Total columns"
   ]
  },
  {
   "cell_type": "code",
   "execution_count": 3,
   "id": "12d74cc5",
   "metadata": {},
   "outputs": [],
   "source": [
    "def grades(data_frame):\n",
    "    return data_frame['click_bool'] + data_frame['booking_bool']*4 #if booked then clicked, booked = 5\n",
    "\n",
    "def target_function(data_frame):\n",
    "    #lklhd = hotel_booking_likelihood(data_frame)\n",
    "    #data_frame_out = data_frame.merge(lklhd, how='left', left_on='prop_id', right_on='prop_id')\n",
    "    \n",
    "    #x = data_frame['lklhd'].values #0.26-0.28\n",
    "    #x = grades(data_frame) + data_frame['lklhd'].values #same as grading 1 click 5 book\n",
    "    #x = grades(data_frame) \n",
    "    x = data_frame['grades'] \n",
    "    \n",
    "    #x = (data_frame['click_bool'] + data_frame['booking_bool']*4)*np.log2(data_frame['position'] + 2) + data_frame['lklhd'].values\n",
    "    #x = (data_frame['click_bool'] + 4*data_frame['booking_bool'])*(data_frame['position'] + 1)*(1+data_frame['lklhd'].values)#*(data_frame['gross_bookings_usd']+1) \n",
    "\n",
    "    return x\n",
    "def features_engeneering(data_frame):\n",
    "    #data_frame['month'] = pd.DatetimeIndex(pd.to_datetime(data_frame['date_time'])).month\n",
    "    data_frame = data_frame.sort_values(by=['srch_id', 'price_usd'], ascending=[True,  False]).reset_index(drop=True)\n",
    "    data_frame['price_order'] = data_frame.groupby('srch_id').cumcount()\n",
    "\n",
    "    for i in ['orig_destination_distance']:\n",
    "        data_frame[i] = data_frame[i].fillna(100)#(data_frame[i].max())\n",
    "    \n",
    "    for i in ['prop_review_score', 'prop_location_score2']:#, 'comp1_rate', 'comp2_rate', 'comp3_rate', 'comp4_rate', 'comp5_rate', 'comp6_rate', 'comp7_rate', 'comp8_rate']:\n",
    "        data_frame[i] = data_frame[i].fillna(-1)\n",
    "    \n",
    "     \n",
    "    data_frame = is_cheaper(data_frame)\n",
    "    \n",
    "    min_affinity = data_frame['srch_query_affinity_score'].min()\n",
    "    #data_frame['srch_query_affinity_score'] = data_frame['srch_query_affinity_score'].fillna(min_affinity)\n",
    "    \n",
    "    \n",
    "    average_user_usd = data_frame['visitor_hist_adr_usd'].mean()\n",
    "    average_user_starrating = data_frame['visitor_hist_starrating'].mean()\n",
    "    #data_frame['visitor_hist_adr_usd'] = \\\n",
    "    #data_frame['visitor_hist_adr_usd'].fillna(average_user_usd)\n",
    "    #data_frame['visitor_hist_starrating'] = \\\n",
    "    #data_frame['visitor_hist_starrating'].fillna(average_user_starrating)\n",
    "    \n",
    "    data_frame['delta_starrating'] = np.abs(data_frame['visitor_hist_starrating'] - data_frame['prop_starrating'])\n",
    "    data_frame['delta_usd'] = np.abs(data_frame['visitor_hist_adr_usd'] - data_frame['price_usd'])\n",
    "    data_frame['delta_starrating'] = data_frame['delta_starrating'].fillna(0)\n",
    "    data_frame['delta_usd'] = data_frame['delta_usd'].fillna(0)\n",
    "    \n",
    "    price_per_country_median = data_frame.groupby('prop_country_id').median().reset_index()\n",
    "    price_per_country_median = price_per_country_median[['prop_country_id','price_usd']]\n",
    "    price_per_country_median = price_per_country_median.rename(columns={\"price_usd\": \"price_per_country_median\"})\n",
    "    \n",
    "    price_per_query_max = data_frame.groupby('srch_id').max().reset_index()\n",
    "    price_per_query_max = price_per_query_max[['srch_id','price_usd']]\n",
    "    price_per_query_max = price_per_query_max.rename(columns={\"price_usd\": \"price_per_query_max\"})\n",
    "\n",
    "    #data_frame = data_frame.merge(price_per_country_median, how='left', left_on='prop_country_id', right_on='prop_country_id')\n",
    "    #data_frame = data_frame.merge(price_per_query_max, how='left', left_on='srch_id', right_on='srch_id')\n",
    "    \n",
    "    # apply maximum price for missing values\n",
    "    #mask = data_frame['price_usd'] == 0\n",
    "    #data_frame.loc[mask, 'price_usd'] = data_frame.loc[mask, 'price_per_query_max']\n",
    "    \n",
    "    mask_log_0 = data_frame['prop_log_historical_price']==0 #no data assume same price\n",
    " \n",
    "    data_frame['delta_log_price'] = np.log(data_frame['price_usd']) - data_frame['prop_log_historical_price']\n",
    "    data_frame.loc[mask_log_0, 'delta_log_price'] = 0\n",
    "     \n",
    "    # normalization\n",
    "    #data_frame['price_usd_normalized'] = data_frame['price_usd']/data_frame['price_per_country_median']\n",
    "    \n",
    "    # normalise by number of persons\n",
    "    number_of_person = (data_frame['srch_adults_count'] + data_frame['srch_children_count']/2)\n",
    "    #data_frame['price_per_person'] = data_frame['price_usd']/number_of_person\n",
    "    \n",
    "    return data_frame\n",
    "\n",
    "def is_cheaper(df):\n",
    "    #+1 if Expedia has a lower price than competitor ; 0 if the same; -1 if Expedia’s\n",
    "    #price is higher than competitor 1; null signifies there is no competitive data\n",
    "    \n",
    "    # Drop all other comp columns, except for \"rate\"\n",
    "    df = df.drop(df.filter(regex='(comp._inv|comp._rate.+)').columns, axis=1)\n",
    "    # Create new col\n",
    "    df['comp_cheaper'] = np.nan\n",
    "    df_filter_comp = df.filter(regex='comp') \n",
    "    df['comp_cheaper'] = df['comp_cheaper'].mask((df_filter_comp == 0).any(axis=1),0).mask((df_filter_comp > 0).any(axis=1), 1).mask((df_filter_comp<0).any(axis=1), -1)\n",
    "    # Drop old comp cols\n",
    "    df = df.drop(df.filter(regex='comp._rate').columns, axis=1)\n",
    "    df['comp_cheaper'] = df['comp_cheaper'].fillna(0)\n",
    "    return df\n"
   ]
  },
  {
   "cell_type": "code",
   "execution_count": 4,
   "id": "474a3f37",
   "metadata": {},
   "outputs": [
    {
     "name": "stdout",
     "output_type": "stream",
     "text": [
      "train length: 4958347\n",
      "test length: 4959183\n",
      "booked amount: 138390\n",
      "clicked but not booked: 83489\n",
      "total/booked: 35.82879543319604\n",
      "random amount: 1467177\n",
      "non-random amount: 3491170\n",
      "random are: 29.590042810638305\n"
     ]
    }
   ],
   "source": [
    "train_amount = len(train)\n",
    "print(f'train length: {train_amount}')\n",
    "print(f'test length: {len(test)}')\n",
    "mask = train['booking_bool']==True\n",
    "booked_amount = len(train[mask])\n",
    "print(f'booked amount: {booked_amount}')\n",
    "mask = (train['booking_bool']==False) & (train['click_bool']==True)\n",
    "clicked_amount = len(train[mask])\n",
    "print(f'clicked but not booked: {clicked_amount}')\n",
    "print(f'total/booked: {train_amount/booked_amount}')\n",
    "\n",
    "mask = (train['random_bool']==True)\n",
    "random_amount = len(train[mask])\n",
    "print(f'random amount: {random_amount}')\n",
    "\n",
    "mask = (train['random_bool']==False)\n",
    "non_random_amount = len(train[mask])\n",
    "print(f'non-random amount: {non_random_amount}')\n",
    "print(f'random are: {random_amount/(random_amount+non_random_amount)*100}')\n",
    "\n",
    "\n"
   ]
  },
  {
   "cell_type": "markdown",
   "id": "fb0521ba",
   "metadata": {},
   "source": [
    "### Total null columns"
   ]
  },
  {
   "cell_type": "code",
   "execution_count": 17,
   "id": "40006d1b",
   "metadata": {},
   "outputs": [],
   "source": [
    "train['relevance'] = grades(train)\n",
    "#train_eng = features_engeneering(train)\n",
    "\n",
    "train.drop(train.filter(regex='(comp)').columns, axis=1, inplace=True)\n",
    "FF = train.filter(regex='^(?!.*(srch_id|click_bool|position|booking_bool|gross_bookings_usd)).*')\n",
    "\n",
    "\n",
    "corr_matrix = FF.corr()\n"
   ]
  },
  {
   "cell_type": "code",
   "execution_count": 19,
   "id": "c8d69901",
   "metadata": {
    "scrolled": true
   },
   "outputs": [
    {
     "data": {
      "image/png": "[encoded data removed]",
      "text/plain": [
       "<Figure size 432x288 with 2 Axes>"
      ]
     },
     "metadata": {
      "needs_background": "light"
     },
     "output_type": "display_data"
    }
   ],
   "source": [
    "dataplot=sns.heatmap(corr_matrix, xticklabels=True, yticklabels=True, cmap=\"YlGnBu\")"
   ]
  },
  {
   "cell_type": "code",
   "execution_count": 52,
   "id": "d48e9a0c",
   "metadata": {},
   "outputs": [
    {
     "data": {
      "text/html": [
       "<div>\n",
       "<style scoped>\n",
       "    .dataframe tbody tr th:only-of-type {\n",
       "        vertical-align: middle;\n",
       "    }\n",
       "\n",
       "    .dataframe tbody tr th {\n",
       "        vertical-align: top;\n",
       "    }\n",
       "\n",
       "    .dataframe thead th {\n",
       "        text-align: right;\n",
       "    }\n",
       "</style>\n",
       "<table border=\"1\" class=\"dataframe\">\n",
       "  <thead>\n",
       "    <tr style=\"text-align: right;\">\n",
       "      <th></th>\n",
       "      <th>srch_id</th>\n",
       "      <th>prop_id</th>\n",
       "      <th>booking_bool</th>\n",
       "      <th>click_bool</th>\n",
       "      <th>grades</th>\n",
       "    </tr>\n",
       "  </thead>\n",
       "  <tbody>\n",
       "    <tr>\n",
       "      <th>0</th>\n",
       "      <td>1</td>\n",
       "      <td>1</td>\n",
       "      <td>1</td>\n",
       "      <td>1</td>\n",
       "      <td>5</td>\n",
       "    </tr>\n",
       "    <tr>\n",
       "      <th>1</th>\n",
       "      <td>1</td>\n",
       "      <td>2</td>\n",
       "      <td>0</td>\n",
       "      <td>0</td>\n",
       "      <td>0</td>\n",
       "    </tr>\n",
       "    <tr>\n",
       "      <th>2</th>\n",
       "      <td>1</td>\n",
       "      <td>4</td>\n",
       "      <td>0</td>\n",
       "      <td>1</td>\n",
       "      <td>1</td>\n",
       "    </tr>\n",
       "    <tr>\n",
       "      <th>3</th>\n",
       "      <td>2</td>\n",
       "      <td>1</td>\n",
       "      <td>1</td>\n",
       "      <td>1</td>\n",
       "      <td>5</td>\n",
       "    </tr>\n",
       "    <tr>\n",
       "      <th>4</th>\n",
       "      <td>2</td>\n",
       "      <td>2</td>\n",
       "      <td>0</td>\n",
       "      <td>0</td>\n",
       "      <td>0</td>\n",
       "    </tr>\n",
       "    <tr>\n",
       "      <th>5</th>\n",
       "      <td>2</td>\n",
       "      <td>3</td>\n",
       "      <td>0</td>\n",
       "      <td>0</td>\n",
       "      <td>0</td>\n",
       "    </tr>\n",
       "    <tr>\n",
       "      <th>6</th>\n",
       "      <td>3</td>\n",
       "      <td>1</td>\n",
       "      <td>0</td>\n",
       "      <td>0</td>\n",
       "      <td>0</td>\n",
       "    </tr>\n",
       "    <tr>\n",
       "      <th>7</th>\n",
       "      <td>3</td>\n",
       "      <td>2</td>\n",
       "      <td>0</td>\n",
       "      <td>0</td>\n",
       "      <td>0</td>\n",
       "    </tr>\n",
       "    <tr>\n",
       "      <th>8</th>\n",
       "      <td>3</td>\n",
       "      <td>3</td>\n",
       "      <td>1</td>\n",
       "      <td>1</td>\n",
       "      <td>5</td>\n",
       "    </tr>\n",
       "    <tr>\n",
       "      <th>9</th>\n",
       "      <td>4</td>\n",
       "      <td>1</td>\n",
       "      <td>0</td>\n",
       "      <td>1</td>\n",
       "      <td>1</td>\n",
       "    </tr>\n",
       "    <tr>\n",
       "      <th>10</th>\n",
       "      <td>4</td>\n",
       "      <td>2</td>\n",
       "      <td>0</td>\n",
       "      <td>0</td>\n",
       "      <td>0</td>\n",
       "    </tr>\n",
       "    <tr>\n",
       "      <th>11</th>\n",
       "      <td>4</td>\n",
       "      <td>3</td>\n",
       "      <td>1</td>\n",
       "      <td>0</td>\n",
       "      <td>4</td>\n",
       "    </tr>\n",
       "  </tbody>\n",
       "</table>\n",
       "</div>"
      ],
      "text/plain": [
       "    srch_id  prop_id  booking_bool  click_bool  grades\n",
       "0         1        1             1           1       5\n",
       "1         1        2             0           0       0\n",
       "2         1        4             0           1       1\n",
       "3         2        1             1           1       5\n",
       "4         2        2             0           0       0\n",
       "5         2        3             0           0       0\n",
       "6         3        1             0           0       0\n",
       "7         3        2             0           0       0\n",
       "8         3        3             1           1       5\n",
       "9         4        1             0           1       1\n",
       "10        4        2             0           0       0\n",
       "11        4        3             1           0       4"
      ]
     },
     "metadata": {},
     "output_type": "display_data"
    },
    {
     "name": "stdout",
     "output_type": "stream",
     "text": [
      "prop_id\n",
      "1    0.5\n",
      "2    0.0\n",
      "3    3.0\n",
      "Name: grades, dtype: float64\n"
     ]
    },
    {
     "data": {
      "text/plain": [
       "0   NaN\n",
       "1   NaN\n",
       "2   NaN\n",
       "3   NaN\n",
       "Name: kfold, dtype: float64"
      ]
     },
     "metadata": {},
     "output_type": "display_data"
    },
    {
     "data": {
      "text/html": [
       "<div>\n",
       "<style scoped>\n",
       "    .dataframe tbody tr th:only-of-type {\n",
       "        vertical-align: middle;\n",
       "    }\n",
       "\n",
       "    .dataframe tbody tr th {\n",
       "        vertical-align: top;\n",
       "    }\n",
       "\n",
       "    .dataframe thead th {\n",
       "        text-align: right;\n",
       "    }\n",
       "</style>\n",
       "<table border=\"1\" class=\"dataframe\">\n",
       "  <thead>\n",
       "    <tr style=\"text-align: right;\">\n",
       "      <th></th>\n",
       "      <th>srch_id</th>\n",
       "      <th>prop_id</th>\n",
       "      <th>booking_bool</th>\n",
       "      <th>click_bool</th>\n",
       "      <th>grades</th>\n",
       "      <th>kfold</th>\n",
       "    </tr>\n",
       "  </thead>\n",
       "  <tbody>\n",
       "    <tr>\n",
       "      <th>0</th>\n",
       "      <td>1</td>\n",
       "      <td>1</td>\n",
       "      <td>1</td>\n",
       "      <td>1</td>\n",
       "      <td>5</td>\n",
       "      <td>1.0</td>\n",
       "    </tr>\n",
       "    <tr>\n",
       "      <th>1</th>\n",
       "      <td>1</td>\n",
       "      <td>2</td>\n",
       "      <td>0</td>\n",
       "      <td>0</td>\n",
       "      <td>0</td>\n",
       "      <td>1.0</td>\n",
       "    </tr>\n",
       "    <tr>\n",
       "      <th>2</th>\n",
       "      <td>1</td>\n",
       "      <td>4</td>\n",
       "      <td>0</td>\n",
       "      <td>1</td>\n",
       "      <td>1</td>\n",
       "      <td>1.0</td>\n",
       "    </tr>\n",
       "    <tr>\n",
       "      <th>3</th>\n",
       "      <td>2</td>\n",
       "      <td>1</td>\n",
       "      <td>1</td>\n",
       "      <td>1</td>\n",
       "      <td>5</td>\n",
       "      <td>1.0</td>\n",
       "    </tr>\n",
       "    <tr>\n",
       "      <th>4</th>\n",
       "      <td>2</td>\n",
       "      <td>2</td>\n",
       "      <td>0</td>\n",
       "      <td>0</td>\n",
       "      <td>0</td>\n",
       "      <td>1.0</td>\n",
       "    </tr>\n",
       "    <tr>\n",
       "      <th>5</th>\n",
       "      <td>2</td>\n",
       "      <td>3</td>\n",
       "      <td>0</td>\n",
       "      <td>0</td>\n",
       "      <td>0</td>\n",
       "      <td>1.0</td>\n",
       "    </tr>\n",
       "    <tr>\n",
       "      <th>6</th>\n",
       "      <td>3</td>\n",
       "      <td>1</td>\n",
       "      <td>0</td>\n",
       "      <td>0</td>\n",
       "      <td>0</td>\n",
       "      <td>1.0</td>\n",
       "    </tr>\n",
       "    <tr>\n",
       "      <th>7</th>\n",
       "      <td>3</td>\n",
       "      <td>2</td>\n",
       "      <td>0</td>\n",
       "      <td>0</td>\n",
       "      <td>0</td>\n",
       "      <td>1.0</td>\n",
       "    </tr>\n",
       "    <tr>\n",
       "      <th>8</th>\n",
       "      <td>3</td>\n",
       "      <td>3</td>\n",
       "      <td>1</td>\n",
       "      <td>1</td>\n",
       "      <td>5</td>\n",
       "      <td>1.0</td>\n",
       "    </tr>\n",
       "    <tr>\n",
       "      <th>9</th>\n",
       "      <td>4</td>\n",
       "      <td>1</td>\n",
       "      <td>0</td>\n",
       "      <td>1</td>\n",
       "      <td>1</td>\n",
       "      <td>1.0</td>\n",
       "    </tr>\n",
       "    <tr>\n",
       "      <th>10</th>\n",
       "      <td>4</td>\n",
       "      <td>2</td>\n",
       "      <td>0</td>\n",
       "      <td>0</td>\n",
       "      <td>0</td>\n",
       "      <td>1.0</td>\n",
       "    </tr>\n",
       "    <tr>\n",
       "      <th>11</th>\n",
       "      <td>4</td>\n",
       "      <td>3</td>\n",
       "      <td>1</td>\n",
       "      <td>0</td>\n",
       "      <td>4</td>\n",
       "      <td>1.0</td>\n",
       "    </tr>\n",
       "  </tbody>\n",
       "</table>\n",
       "</div>"
      ],
      "text/plain": [
       "    srch_id  prop_id  booking_bool  click_bool  grades  kfold\n",
       "0         1        1             1           1       5    1.0\n",
       "1         1        2             0           0       0    1.0\n",
       "2         1        4             0           1       1    1.0\n",
       "3         2        1             1           1       5    1.0\n",
       "4         2        2             0           0       0    1.0\n",
       "5         2        3             0           0       0    1.0\n",
       "6         3        1             0           0       0    1.0\n",
       "7         3        2             0           0       0    1.0\n",
       "8         3        3             1           1       5    1.0\n",
       "9         4        1             0           1       1    1.0\n",
       "10        4        2             0           0       0    1.0\n",
       "11        4        3             1           0       4    1.0"
      ]
     },
     "metadata": {},
     "output_type": "display_data"
    }
   ],
   "source": [
    "\n"
   ]
  },
  {
   "cell_type": "code",
   "execution_count": null,
   "id": "fc282b7f",
   "metadata": {},
   "outputs": [],
   "source": []
  },
  {
   "cell_type": "code",
   "execution_count": 7,
   "id": "e790daf0",
   "metadata": {},
   "outputs": [
    {
     "data": {
      "image/png": "[encoded data removed]",
      "text/plain": [
       "<Figure size 432x288 with 2 Axes>"
      ]
     },
     "metadata": {
      "needs_background": "light"
     },
     "output_type": "display_data"
    }
   ],
   "source": [
    "FF = train_eng.filter(regex='^(?!.*(srch_query|srch_id|click_bool|position|booking_bool|gross_bookings_usd)).*')\n",
    "features = ['visitor_location_country_id',\n",
    " 'prop_country_id',\n",
    " 'prop_starrating',\n",
    " 'prop_review_score',\n",
    " 'prop_brand_bool',\n",
    " 'prop_location_score1',\n",
    " 'prop_location_score2',\n",
    " 'prop_log_historical_price',\n",
    " 'price_usd',\n",
    " 'promotion_flag',\n",
    " 'srch_destination_id',\n",
    " 'srch_length_of_stay',\n",
    " 'srch_booking_window',\n",
    " 'srch_adults_count',\n",
    " 'srch_children_count',\n",
    " 'srch_room_count',\n",
    " 'srch_saturday_night_bool',\n",
    " 'orig_destination_distance',\n",
    " 'price_order',\n",
    " #'kfold_lklhd',\n",
    " 'delta_log_price',\n",
    " 'comp_cheaper',\n",
    " 'delta_starrating',\n",
    " 'delta_usd','relevance']\n",
    "\n",
    "dataplot=sns.heatmap(train_eng[features].corr(), xticklabels=True, yticklabels=True, linewidths=.6)"
   ]
  },
  {
   "cell_type": "code",
   "execution_count": 8,
   "id": "367f65d6",
   "metadata": {},
   "outputs": [
    {
     "name": "stdout",
     "output_type": "stream",
     "text": [
      "srch_id                              0\n",
      "date_time                            0\n",
      "site_id                              0\n",
      "visitor_location_country_id          0\n",
      "visitor_hist_starrating        4706481\n",
      "visitor_hist_adr_usd           4705359\n",
      "prop_country_id                      0\n",
      "prop_id                              0\n",
      "prop_starrating                      0\n",
      "prop_review_score                 7364\n",
      "prop_brand_bool                      0\n",
      "prop_location_score1                 0\n",
      "prop_location_score2           1090348\n",
      "prop_log_historical_price            0\n",
      "position                             0\n",
      "price_usd                            0\n",
      "promotion_flag                       0\n",
      "srch_destination_id                  0\n",
      "srch_length_of_stay                  0\n",
      "srch_booking_window                  0\n",
      "srch_adults_count                    0\n",
      "srch_children_count                  0\n",
      "srch_room_count                      0\n",
      "srch_saturday_night_bool             0\n",
      "srch_query_affinity_score      4640941\n",
      "orig_destination_distance      1607782\n",
      "random_bool                          0\n",
      "click_bool                           0\n",
      "gross_bookings_usd             4819957\n",
      "booking_bool                         0\n",
      "relevance                            0\n",
      "dtype: int64\n"
     ]
    }
   ],
   "source": [
    "print(train.isnull().sum())\n"
   ]
  },
  {
   "cell_type": "markdown",
   "id": "ce17cda5",
   "metadata": {},
   "source": [
    "### Amount of hotels in data sets"
   ]
  },
  {
   "cell_type": "code",
   "execution_count": 9,
   "id": "1114ad5e",
   "metadata": {
    "scrolled": false
   },
   "outputs": [
    {
     "name": "stdout",
     "output_type": "stream",
     "text": [
      "Amount of hotels in test data 129438 \n",
      "Amount of hotels in train data 129113\n",
      "Amount of unique hotels in train and not in test 7773\n"
     ]
    }
   ],
   "source": [
    "x = test['prop_id']\n",
    "print(f'Amount of hotels in test data {len(set(x))} ')\n",
    "y = train['prop_id']\n",
    "print(f'Amount of hotels in train data {len(set(y))}')\n",
    "print(f'Amount of unique hotels in train and not in test {len(set(x) - set(y))}')\n"
   ]
  },
  {
   "cell_type": "markdown",
   "id": "809bae18",
   "metadata": {},
   "source": [
    "### price distribution"
   ]
  },
  {
   "cell_type": "code",
   "execution_count": 10,
   "id": "f1c24c36",
   "metadata": {},
   "outputs": [
    {
     "data": {
      "text/plain": [
       "Text(10.049999999999997, 0.5, 'count')"
      ]
     },
     "execution_count": 10,
     "metadata": {},
     "output_type": "execute_result"
    },
    {
     "data": {
      "image/png": "[encoded data removed]",
      "text/plain": [
       "<Figure size 360x360 with 1 Axes>"
      ]
     },
     "metadata": {
      "needs_background": "light"
     },
     "output_type": "display_data"
    }
   ],
   "source": [
    "price_per_country_median = train.groupby('prop_country_id').median().reset_index()\n",
    "price_per_country_median = price_per_country_median[['prop_country_id','price_usd']]\n",
    "price_per_country_median = price_per_country_median.rename(columns={\"price_usd\": \"price_per_country_median\"})\n",
    "ax = sns.displot(data = price_per_country_median, x='price_per_country_median')\n",
    "plt.title('median price distribution')\n",
    "plt.xlabel('price')\n",
    "plt.ylabel('count')"
   ]
  },
  {
   "cell_type": "code",
   "execution_count": 11,
   "id": "40dac83a",
   "metadata": {},
   "outputs": [
    {
     "data": {
      "text/plain": [
       "Text(9.924999999999997, 0.5, 'count')"
      ]
     },
     "execution_count": 11,
     "metadata": {},
     "output_type": "execute_result"
    },
    {
     "data": {
      "image/png": "[encoded data removed]",
      "text/plain": [
       "<Figure size 360x360 with 1 Axes>"
      ]
     },
     "metadata": {
      "needs_background": "light"
     },
     "output_type": "display_data"
    }
   ],
   "source": [
    "country_median = train.groupby('prop_country_id').median().reset_index()\n",
    "country_median = country_median[['prop_country_id','orig_destination_distance']]\n",
    "\n",
    "country_median = country_median.rename(columns={\"orig_destination_distance\": \"orig_destination_median\"})\n",
    "\n",
    "ax = sns.displot(data = country_median, x='orig_destination_median')\n",
    "plt.title('median orig_destination_distance distribution')\n",
    "plt.xlabel('distination median')\n",
    "plt.ylabel('count')"
   ]
  },
  {
   "cell_type": "code",
   "execution_count": 12,
   "id": "389d353f",
   "metadata": {},
   "outputs": [
    {
     "name": "stdout",
     "output_type": "stream",
     "text": [
      "2871\n"
     ]
    },
    {
     "data": {
      "text/html": [
       "<div>\n",
       "<style scoped>\n",
       "    .dataframe tbody tr th:only-of-type {\n",
       "        vertical-align: middle;\n",
       "    }\n",
       "\n",
       "    .dataframe tbody tr th {\n",
       "        vertical-align: top;\n",
       "    }\n",
       "\n",
       "    .dataframe thead th {\n",
       "        text-align: right;\n",
       "    }\n",
       "</style>\n",
       "<table border=\"1\" class=\"dataframe\">\n",
       "  <thead>\n",
       "    <tr style=\"text-align: right;\">\n",
       "      <th></th>\n",
       "      <th>price_usd</th>\n",
       "    </tr>\n",
       "  </thead>\n",
       "  <tbody>\n",
       "    <tr>\n",
       "      <th>11422</th>\n",
       "      <td>14196.00</td>\n",
       "    </tr>\n",
       "    <tr>\n",
       "      <th>11423</th>\n",
       "      <td>17812.00</td>\n",
       "    </tr>\n",
       "    <tr>\n",
       "      <th>11424</th>\n",
       "      <td>12447.00</td>\n",
       "    </tr>\n",
       "    <tr>\n",
       "      <th>11425</th>\n",
       "      <td>13392.00</td>\n",
       "    </tr>\n",
       "    <tr>\n",
       "      <th>11426</th>\n",
       "      <td>17410.00</td>\n",
       "    </tr>\n",
       "    <tr>\n",
       "      <th>...</th>\n",
       "      <td>...</td>\n",
       "    </tr>\n",
       "    <tr>\n",
       "      <th>4930760</th>\n",
       "      <td>5328.00</td>\n",
       "    </tr>\n",
       "    <tr>\n",
       "      <th>4930761</th>\n",
       "      <td>8610.00</td>\n",
       "    </tr>\n",
       "    <tr>\n",
       "      <th>4930764</th>\n",
       "      <td>5166.00</td>\n",
       "    </tr>\n",
       "    <tr>\n",
       "      <th>4930773</th>\n",
       "      <td>8556.00</td>\n",
       "    </tr>\n",
       "    <tr>\n",
       "      <th>4936242</th>\n",
       "      <td>6778.35</td>\n",
       "    </tr>\n",
       "  </tbody>\n",
       "</table>\n",
       "<p>2871 rows × 1 columns</p>\n",
       "</div>"
      ],
      "text/plain": [
       "         price_usd\n",
       "11422     14196.00\n",
       "11423     17812.00\n",
       "11424     12447.00\n",
       "11425     13392.00\n",
       "11426     17410.00\n",
       "...            ...\n",
       "4930760    5328.00\n",
       "4930761    8610.00\n",
       "4930764    5166.00\n",
       "4930773    8556.00\n",
       "4936242    6778.35\n",
       "\n",
       "[2871 rows x 1 columns]"
      ]
     },
     "metadata": {},
     "output_type": "display_data"
    },
    {
     "name": "stderr",
     "output_type": "stream",
     "text": [
      "/home/wolfson/.local/lib/python3.7/site-packages/pandas/core/frame.py:8823: RuntimeWarning: divide by zero encountered in log2\n",
      "  return lib.map_infer(x.astype(object)._values, func, ignore_na=ignore_na)\n"
     ]
    },
    {
     "name": "stdout",
     "output_type": "stream",
     "text": [
      "0.0\n"
     ]
    },
    {
     "data": {
      "text/plain": [
       "Text(19.428124999999994, 0.5, 'count')"
      ]
     },
     "execution_count": 12,
     "metadata": {},
     "output_type": "execute_result"
    },
    {
     "data": {
      "image/png": "[encoded data removed]",
      "text/plain": [
       "<Figure size 495x360 with 1 Axes>"
      ]
     },
     "metadata": {
      "needs_background": "light"
     },
     "output_type": "display_data"
    }
   ],
   "source": [
    "mask = (train['price_usd']>5000)# & (train['booking_bool']==True)\n",
    "print(len(train.loc[mask]))\n",
    "display(train.loc[mask, ['price_usd']])\n",
    "train[['log_price']] = train[['price_usd']].applymap(np.log2)\n",
    "print(train['price_usd'].min())\n",
    "\n",
    "ax = sns.displot(data = train, hue=\"srch_saturday_night_bool\", x='log_price', bins=30)\n",
    "\n",
    "plt.title('price distributionn')\n",
    "plt.xlabel('price')\n",
    "plt.ylabel('count')"
   ]
  },
  {
   "cell_type": "code",
   "execution_count": 13,
   "id": "a9145613",
   "metadata": {},
   "outputs": [
    {
     "name": "stdout",
     "output_type": "stream",
     "text": [
      "1\n",
      "3\n",
      "5\n"
     ]
    }
   ],
   "source": [
    "x = range(1,6,2)\n",
    "for n in x:\n",
    "  print(n)"
   ]
  },
  {
   "cell_type": "code",
   "execution_count": 14,
   "id": "f14ac20c",
   "metadata": {},
   "outputs": [
    {
     "data": {
      "text/plain": [
       "80128.18530749762"
      ]
     },
     "execution_count": 14,
     "metadata": {},
     "output_type": "execute_result"
    }
   ],
   "source": [
    "train['price_usd'].median() + train['price_usd'].std()*5"
   ]
  },
  {
   "cell_type": "code",
   "execution_count": 15,
   "id": "65598b34",
   "metadata": {},
   "outputs": [
    {
     "data": {
      "text/plain": [
       "<AxesSubplot:xlabel='date_time'>"
      ]
     },
     "execution_count": 15,
     "metadata": {},
     "output_type": "execute_result"
    },
    {
     "data": {
      "image/png": "[encoded data removed]",
      "text/plain": [
       "<Figure size 1152x576 with 1 Axes>"
      ]
     },
     "metadata": {
      "needs_background": "light"
     },
     "output_type": "display_data"
    }
   ],
   "source": [
    "mask = train['price_usd']<50000\n",
    "train[mask].plot(x = 'date_time', \n",
    "        y = 'price_usd', \n",
    "        figsize = (16, 8))"
   ]
  },
  {
   "cell_type": "code",
   "execution_count": 16,
   "id": "3e68a82f",
   "metadata": {},
   "outputs": [
    {
     "data": {
      "text/plain": [
       "prop_location_score1    6.97\n",
       "prop_location_score2    1.00\n",
       "dtype: float64"
      ]
     },
     "execution_count": 16,
     "metadata": {},
     "output_type": "execute_result"
    }
   ],
   "source": [
    "mask = train['booking_bool'] == True\n",
    "train.loc[mask,['prop_location_score1', 'prop_location_score2']]\n",
    "train.loc[mask,['prop_location_score1', 'prop_location_score2']].max()"
   ]
  }
 ],
 "metadata": {
  "kernelspec": {
   "display_name": "Python 3 (ipykernel)",
   "language": "python",
   "name": "python3"
  },
  "language_info": {
   "codemirror_mode": {
    "name": "ipython",
    "version": 3
   },
   "file_extension": ".py",
   "mimetype": "text/x-python",
   "name": "python",
   "nbconvert_exporter": "python",
   "pygments_lexer": "ipython3",
   "version": "3.7.10"
  }
 },
 "nbformat": 4,
 "nbformat_minor": 5
}
