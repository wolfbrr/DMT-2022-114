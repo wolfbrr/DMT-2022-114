{
 "cells": [
  {
   "cell_type": "markdown",
   "id": "ab796d9b",
   "metadata": {},
   "source": [
    "### imports"
   ]
  },
  {
   "cell_type": "markdown",
   "id": "9bd372d4",
   "metadata": {},
   "source": [
    "### XGBoost"
   ]
  },
  {
   "cell_type": "code",
   "execution_count": 29,
   "id": "effac42c",
   "metadata": {},
   "outputs": [],
   "source": [
    "import xgboost as xgb\n"
   ]
  },
  {
   "cell_type": "code",
   "execution_count": 1,
   "id": "32cb999d",
   "metadata": {},
   "outputs": [
    {
     "ename": "NameError",
     "evalue": "name 'xgb' is not defined",
     "output_type": "error",
     "traceback": [
      "\u001b[0;31m---------------------------------------------------------------------------\u001b[0m",
      "\u001b[0;31mNameError\u001b[0m                                 Traceback (most recent call last)",
      "\u001b[0;32m/tmp/ipykernel_7227/822991673.py\u001b[0m in \u001b[0;36m<module>\u001b[0;34m\u001b[0m\n\u001b[0;32m----> 1\u001b[0;31m \u001b[0mranker\u001b[0m \u001b[0;34m=\u001b[0m \u001b[0mxgb\u001b[0m\u001b[0;34m.\u001b[0m\u001b[0mXGBRanker\u001b[0m\u001b[0;34m(\u001b[0m\u001b[0mlearning_rate\u001b[0m\u001b[0;34m=\u001b[0m\u001b[0;36m0.1\u001b[0m\u001b[0;34m)\u001b[0m\u001b[0;34m\u001b[0m\u001b[0;34m\u001b[0m\u001b[0m\n\u001b[0m\u001b[1;32m      2\u001b[0m \u001b[0mgroups\u001b[0m \u001b[0;34m=\u001b[0m \u001b[0mX_train\u001b[0m\u001b[0;34m.\u001b[0m\u001b[0mgroupby\u001b[0m\u001b[0;34m(\u001b[0m\u001b[0;34m'srch_id'\u001b[0m\u001b[0;34m)\u001b[0m\u001b[0;34m.\u001b[0m\u001b[0msize\u001b[0m\u001b[0;34m(\u001b[0m\u001b[0;34m)\u001b[0m\u001b[0;34m.\u001b[0m\u001b[0mto_frame\u001b[0m\u001b[0;34m(\u001b[0m\u001b[0;34m'size'\u001b[0m\u001b[0;34m)\u001b[0m\u001b[0;34m[\u001b[0m\u001b[0;34m'size'\u001b[0m\u001b[0;34m]\u001b[0m\u001b[0;34m.\u001b[0m\u001b[0mto_numpy\u001b[0m\u001b[0;34m(\u001b[0m\u001b[0;34m)\u001b[0m\u001b[0;34m\u001b[0m\u001b[0;34m\u001b[0m\u001b[0m\n\u001b[1;32m      3\u001b[0m \u001b[0mdisplay\u001b[0m\u001b[0;34m(\u001b[0m\u001b[0mgroups\u001b[0m\u001b[0;34m)\u001b[0m\u001b[0;34m\u001b[0m\u001b[0;34m\u001b[0m\u001b[0m\n\u001b[1;32m      4\u001b[0m \u001b[0mstart\u001b[0m \u001b[0;34m=\u001b[0m \u001b[0mtime\u001b[0m\u001b[0;34m.\u001b[0m\u001b[0mtime\u001b[0m\u001b[0;34m(\u001b[0m\u001b[0;34m)\u001b[0m\u001b[0;34m\u001b[0m\u001b[0;34m\u001b[0m\u001b[0m\n\u001b[1;32m      5\u001b[0m \u001b[0;34m\u001b[0m\u001b[0m\n",
      "\u001b[0;31mNameError\u001b[0m: name 'xgb' is not defined"
     ]
    }
   ],
   "source": [
    "ranker = xgb.XGBRanker(learning_rate=0.1)\n",
    "groups = X_train.groupby('srch_id').size().to_frame('size')['size'].to_numpy()\n",
    "display(groups)\n",
    "start = time.time()\n",
    "\n",
    "ranker.fit(X_train[features_to_choose],X_train['grades'], group=groups)\n",
    "# Fit the model using predictor X and response y.\n",
    "#modelXGBRegressor = xgb.XGBRegressor()#, max_depth=6)\n",
    "\n",
    "ndcg_score = evaluate_model(ranker, X_train, X_test, features_to_choose)\n",
    "end = time.time()\n",
    "print(f'Validation time and score RandomForestRegressor: {end-start}, {ndcg_score}')\n",
    "\n",
    "\n",
    "\n",
    "def predict(model, df):\n",
    "    return model.predict(df.loc[:, ~df.columns.isin(['srch_id'])])\n",
    "  \n",
    "    \n",
    "data = X_test#[#features_to_choose]\n",
    "predictions = (data.groupby('srch_id')\n",
    "               .apply(lambda x: predict(ranker, X_test[features_to_choose])))"
   ]
  },
  {
   "cell_type": "code",
   "execution_count": null,
   "id": "c15656b8",
   "metadata": {
    "scrolled": true
   },
   "outputs": [],
   "source": [
    "x = []\n",
    "\n",
    "depth = [x for x in range(2,12) ]\n",
    "print(depth)\n",
    "prev_ndgc = 0\n",
    "for i in depth:\n",
    "    start = time.time()\n",
    "    model = xgb.XGBRegressor(eval_metric=[\"ndcg@5\"], max_depth=i)\n",
    "    ndcg_score = my_cross_validation(model, X=X_eval, features_to_choose=features_to_choose, n_splits=number_of_splits)\n",
    "    end = time.time()\n",
    "    print(\"The time of evaluation fit:\", end-start)\n",
    "    x.append(ndcg_score)\n",
    "    #if ndcg_score<prev_ndgc:\n",
    "    #    print('exit before the end')\n",
    "    #    break    # break here\n",
    "    prev_ndgc=ndcg_score\n",
    "    \n",
    "optimal_score_index = x.index(max(x))\n",
    "optimal_depth = depth[optimal_score_index]\n",
    "print(f'Optimal depth: {optimal_depth}')\n",
    "print(f'score: {max(x)}')\n",
    "\n",
    "plt.plot(depth[0:len(x)], x)\n",
    "plt.xlabel('depth')\n",
    "plt.ylabel('ndcg_score')\n",
    "plt.show()"
   ]
  },
  {
   "cell_type": "code",
   "execution_count": null,
   "id": "c8b7acba",
   "metadata": {},
   "outputs": [],
   "source": [
    "start = time.time()\n",
    "raitings  = my_fit_and_predict(modelXGBRegressor, train_eng, test_eng, features_to_choose)\n",
    "end = time.time()\n",
    "print(\"The time of final fit XGBRegressor:\", end-start)\n",
    "create_submission(test_eng, raitings, 'XGBRegressor')\n",
    "assert len(raitings)==len(test)\n",
    "features_to_choose"
   ]
  }
 ],
 "metadata": {
  "kernelspec": {
   "display_name": "Python 3",
   "language": "python",
   "name": "python3"
  },
  "language_info": {
   "codemirror_mode": {
    "name": "ipython",
    "version": 3
   },
   "file_extension": ".py",
   "mimetype": "text/x-python",
   "name": "python",
   "nbconvert_exporter": "python",
   "pygments_lexer": "ipython3",
   "version": "3.9.7"
  }
 },
 "nbformat": 4,
 "nbformat_minor": 5
}
