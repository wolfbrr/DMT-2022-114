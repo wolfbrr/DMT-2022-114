{
 "cells": [
  {
   "cell_type": "markdown",
   "id": "ab796d9b",
   "metadata": {},
   "source": [
    "### imports"
   ]
  },
  {
   "cell_type": "code",
   "execution_count": 1,
   "id": "3cec730f",
   "metadata": {},
   "outputs": [],
   "source": [
    "import numpy as np\n",
    "import pandas as pd \n",
    "import seaborn as sns\n",
    "import time\n",
    "from sklearn.model_selection import train_test_split\n",
    "\n",
    "import matplotlib.pyplot as plt\n",
    "import pickle\n",
    "\n",
    "def create_submission(test_data, property_predicted_score):\n",
    "    !mv submission.csv.zip prev.submission.zip\n",
    "    test_data['raiting'] = property_predicted_score\n",
    "    submition_data = test_data[['srch_id','prop_id','raiting']]\n",
    "    submition_data = submition_data.sort_values(by=['srch_id', 'raiting'], ascending=[True,  False])\n",
    "    submition_data = submition_data.drop(columns=\"raiting\")\n",
    "    submition_data.to_csv('submission.csv', index=False)\n",
    "    !zip submission.csv.zip  submission.csv\n",
    "    !rm submission.csv"
   ]
  },
  {
   "cell_type": "markdown",
   "id": "1b8423ac",
   "metadata": {},
   "source": [
    "### load training set "
   ]
  },
  {
   "cell_type": "code",
   "execution_count": 13,
   "id": "730774e3",
   "metadata": {},
   "outputs": [],
   "source": [
    "#if loaded train file exists\n",
    "try:\n",
    "    with open('data/train-data.pickle', 'rb') as handle:\n",
    "        train = pickle.load(handle)\n",
    "#if not load and save\n",
    "except:\n",
    "    !unzip data/training_set_VU_DM.csv.zip\n",
    "    train = pd.read_csv('training_set_VU_DM.csv')\n",
    "    !rm training_set_VU_DM.csv\n",
    "    with open('data/train-data.pickle', 'wb') as handle:\n",
    "        pickle.dump(train, handle)"
   ]
  },
  {
   "cell_type": "code",
   "execution_count": 3,
   "id": "c9a020c0",
   "metadata": {},
   "outputs": [],
   "source": [
    "#if loaded test file exists\n",
    "try:\n",
    "    with open('data/test-data.pickle', 'rb') as handle:\n",
    "        test = pickle.load(handle)\n",
    "#if not load and save\n",
    "except:\n",
    "    !unzip data/test_set_VU_DM.csv.zip\n",
    "    test = pd.read_csv('test_set_VU_DM.csv')\n",
    "    !rm test_set_VU_DM.csv\n",
    "    with open('data/test-data.pickle', 'wb') as handle:\n",
    "        pickle.dump(test, handle)"
   ]
  },
  {
   "cell_type": "code",
   "execution_count": 4,
   "id": "2c746f78",
   "metadata": {},
   "outputs": [],
   "source": [
    "def target_function(data_frame):\n",
    "    return data_frame['click_bool'] + data_frame['booking_bool']*4 #if booked then clicked booked = 5\n",
    "\n",
    "def features_engeneering(data_frame):\n",
    "    data_frame.loc[data_frame['price_usd']==0,'price_usd'] = 100000\n",
    "    data_frame['price_per_person'] = data_frame['price_usd']/(data_frame['srch_adults_count'] + data_frame['srch_children_count'])\n",
    "    data_frame.loc[data_frame['prop_review_score'].isnull(),'prop_review_score'] = data_frame['prop_review_score'].median()\n",
    "    return data_frame\n",
    "\n",
    "\n"
   ]
  },
  {
   "cell_type": "markdown",
   "id": "3bf6c0eb",
   "metadata": {},
   "source": [
    "### Total columns"
   ]
  },
  {
   "cell_type": "code",
   "execution_count": 5,
   "id": "474a3f37",
   "metadata": {},
   "outputs": [
    {
     "data": {
      "text/plain": [
       "4958347"
      ]
     },
     "execution_count": 5,
     "metadata": {},
     "output_type": "execute_result"
    }
   ],
   "source": [
    "len(train)"
   ]
  },
  {
   "cell_type": "markdown",
   "id": "fb0521ba",
   "metadata": {},
   "source": [
    "### Total null columns"
   ]
  },
  {
   "cell_type": "code",
   "execution_count": 14,
   "id": "367f65d6",
   "metadata": {},
   "outputs": [
    {
     "name": "stdout",
     "output_type": "stream",
     "text": [
      "srch_id                              0\n",
      "date_time                            0\n",
      "site_id                              0\n",
      "visitor_location_country_id          0\n",
      "visitor_hist_starrating        4706481\n",
      "visitor_hist_adr_usd           4705359\n",
      "prop_country_id                      0\n",
      "prop_id                              0\n",
      "prop_starrating                      0\n",
      "prop_review_score                 7364\n",
      "prop_brand_bool                      0\n",
      "prop_location_score1                 0\n",
      "prop_location_score2           1090348\n",
      "prop_log_historical_price            0\n",
      "position                             0\n",
      "price_usd                            0\n",
      "promotion_flag                       0\n",
      "srch_destination_id                  0\n",
      "srch_length_of_stay                  0\n",
      "srch_booking_window                  0\n",
      "srch_adults_count                    0\n",
      "srch_children_count                  0\n",
      "srch_room_count                      0\n",
      "srch_saturday_night_bool             0\n",
      "srch_query_affinity_score      4640941\n",
      "orig_destination_distance      1607782\n",
      "random_bool                          0\n",
      "comp1_rate                     4838417\n",
      "comp1_inv                      4828788\n",
      "comp1_rate_percent_diff        4863908\n",
      "comp2_rate                     2933675\n",
      "comp2_inv                      2828078\n",
      "comp2_rate_percent_diff        4402109\n",
      "comp3_rate                     3424059\n",
      "comp3_inv                      3307357\n",
      "comp3_rate_percent_diff        4485550\n",
      "comp4_rate                     4650969\n",
      "comp4_inv                      4614684\n",
      "comp4_rate_percent_diff        4827261\n",
      "comp5_rate                     2735974\n",
      "comp5_inv                      2598327\n",
      "comp5_rate_percent_diff        4117248\n",
      "comp6_rate                     4718190\n",
      "comp6_inv                      4697371\n",
      "comp6_rate_percent_diff        4862173\n",
      "comp7_rate                     4642999\n",
      "comp7_inv                      4601925\n",
      "comp7_rate_percent_diff        4819832\n",
      "comp8_rate                     3041693\n",
      "comp8_inv                      2970844\n",
      "comp8_rate_percent_diff        4343617\n",
      "click_bool                           0\n",
      "gross_bookings_usd             4819957\n",
      "booking_bool                         0\n",
      "dtype: int64\n",
      "4.0\n"
     ]
    }
   ],
   "source": [
    "print(train.isnull().sum())\n",
    "print(train['prop_review_score'].median())\n",
    "train.loc[train['prop_review_score'].isnull(),'prop_review_score'] = train['prop_review_score'].median()"
   ]
  },
  {
   "cell_type": "code",
   "execution_count": 7,
   "id": "f89a0090",
   "metadata": {
    "scrolled": true
   },
   "outputs": [
    {
     "name": "stdout",
     "output_type": "stream",
     "text": [
      "{'position', 'booking_bool', 'click_bool'}\n"
     ]
    }
   ],
   "source": [
    "df = train.dropna(axis=1)\n",
    "del train\n",
    "a = set(df.columns)\n",
    "b = set(test.columns)\n",
    "print(a-b)"
   ]
  },
  {
   "cell_type": "markdown",
   "id": "03bbe0e5",
   "metadata": {},
   "source": [
    "### split data to train and test"
   ]
  },
  {
   "cell_type": "code",
   "execution_count": 15,
   "id": "c055b3c5",
   "metadata": {
    "scrolled": true
   },
   "outputs": [
    {
     "ename": "NameError",
     "evalue": "name 'KFold' is not defined",
     "output_type": "error",
     "traceback": [
      "\u001b[0;31m---------------------------------------------------------------------------\u001b[0m",
      "\u001b[0;31mNameError\u001b[0m                                 Traceback (most recent call last)",
      "\u001b[0;32m/tmp/ipykernel_88307/1286382944.py\u001b[0m in \u001b[0;36m<module>\u001b[0;34m\u001b[0m\n\u001b[1;32m     13\u001b[0m \u001b[0mX_to_test\u001b[0m \u001b[0;34m=\u001b[0m \u001b[0mtest\u001b[0m\u001b[0;34m[\u001b[0m\u001b[0mfeatures_to_choose\u001b[0m\u001b[0;34m]\u001b[0m\u001b[0;34m\u001b[0m\u001b[0;34m\u001b[0m\u001b[0m\n\u001b[1;32m     14\u001b[0m \u001b[0mX_train\u001b[0m\u001b[0;34m,\u001b[0m \u001b[0mX_test\u001b[0m\u001b[0;34m,\u001b[0m \u001b[0mY_train\u001b[0m\u001b[0;34m,\u001b[0m \u001b[0mY_test\u001b[0m \u001b[0;34m=\u001b[0m \u001b[0mtrain_test_split\u001b[0m\u001b[0;34m(\u001b[0m\u001b[0mX\u001b[0m\u001b[0;34m,\u001b[0m \u001b[0mY\u001b[0m\u001b[0;34m,\u001b[0m \u001b[0mtest_size\u001b[0m\u001b[0;34m=\u001b[0m\u001b[0;36m0.3\u001b[0m\u001b[0;34m,\u001b[0m \u001b[0mrandom_state\u001b[0m\u001b[0;34m=\u001b[0m\u001b[0;36m0\u001b[0m\u001b[0;34m)\u001b[0m\u001b[0;34m\u001b[0m\u001b[0;34m\u001b[0m\u001b[0m\n\u001b[0;32m---> 15\u001b[0;31m \u001b[0mkfold\u001b[0m \u001b[0;34m=\u001b[0m \u001b[0mKFold\u001b[0m\u001b[0;34m(\u001b[0m\u001b[0mn_splits\u001b[0m\u001b[0;34m=\u001b[0m\u001b[0;36m5\u001b[0m\u001b[0;34m)\u001b[0m\u001b[0;34m\u001b[0m\u001b[0;34m\u001b[0m\u001b[0m\n\u001b[0m",
      "\u001b[0;31mNameError\u001b[0m: name 'KFold' is not defined"
     ]
    }
   ],
   "source": [
    "#print(df.columns)\n",
    "df = features_engeneering(df)\n",
    "test = features_engeneering(test)\n",
    "\n",
    "features_to_choose = ['prop_review_score', 'prop_starrating', 'prop_brand_bool', 'prop_location_score1', \n",
    "                      'prop_log_historical_price', 'price_per_person',\n",
    "                      'promotion_flag', 'srch_length_of_stay', 'srch_booking_window',\n",
    "                      'srch_room_count', 'srch_saturday_night_bool']\n",
    "\n",
    "X = df[features_to_choose]\n",
    "Y = target_function(df)\n",
    "\n",
    "X_to_test = test[features_to_choose]\n",
    "X_train, X_test, Y_train, Y_test = train_test_split(X, Y, test_size=0.3, random_state=0)\n",
    "#kfold = KFold(n_splits=5)"
   ]
  },
  {
   "cell_type": "code",
   "execution_count": 9,
   "id": "eddfdbbc",
   "metadata": {},
   "outputs": [
    {
     "name": "stdout",
     "output_type": "stream",
     "text": [
      "The time of train fit: 411.9554362297058\n",
      "mae: 0.2970567071906269 mse: 0.8276808065234093\n"
     ]
    }
   ],
   "source": [
    "from sklearn import neighbors, linear_model\n",
    "from sklearn.ensemble import RandomForestRegressor\n",
    "from sklearn.metrics import mean_absolute_error, mean_squared_error\n",
    "from sklearn.tree import DecisionTreeRegressor\n",
    "from sklearn.svm import SVR\n",
    "from sklearn.ensemble import BaggingRegressor, GradientBoostingRegressor\n",
    "# Fit regression model\n",
    "#n_neighbors = 10\n",
    "\n",
    "#model = linear_model.LinearRegression()\n",
    "#model = neighbors.KNeighborsRegressor(n_neighbors)\n",
    "#model= DecisionTreeRegressor(random_state=0)\n",
    "#model = BaggingRegressor(base_estimator=DecisionTreeRegressor(), n_estimators=5, random_state=0)\n",
    "model = GradientBoostingRegressor(random_state=0)\n",
    "###########################################\n",
    "start = time.time()\n",
    "model.fit(X_train, Y_train)\n",
    "end = time.time()\n",
    "print(\"The time of train fit:\", end-start)\n",
    "\n",
    "Y_pred = model.predict(X_test)\n",
    "mae = mean_absolute_error(Y_test, Y_pred)\n",
    "mse = mean_squared_error(Y_test, Y_pred, squared=False)\n",
    "print(f'mae: {mae} mse: {mse}')\n"
   ]
  },
  {
   "cell_type": "code",
   "execution_count": 10,
   "id": "b879331a",
   "metadata": {},
   "outputs": [
    {
     "name": "stdout",
     "output_type": "stream",
     "text": [
      "The time of final fit: 518.7838761806488\n",
      "mv: cannot stat 'submission.csv.zip': No such file or directory\n",
      "  adding: submission.csv (deflated 67%)\n"
     ]
    }
   ],
   "source": [
    "start = time.time()\n",
    "model.fit(X, Y)\n",
    "end = time.time()\n",
    "print(\"The time of final fit:\", end-start)\n",
    "\n",
    "raitings = model.predict(X_to_test)\n",
    "create_submission(test, raitings)\n"
   ]
  },
  {
   "cell_type": "code",
   "execution_count": 11,
   "id": "00f07291",
   "metadata": {
    "scrolled": true
   },
   "outputs": [
    {
     "name": "stdout",
     "output_type": "stream",
     "text": [
      "  adding: submission.csv (deflated 67%)\n"
     ]
    }
   ],
   "source": [
    "create_submission(test, raitings)"
   ]
  }
 ],
 "metadata": {
  "kernelspec": {
   "display_name": "Python 3 (ipykernel)",
   "language": "python",
   "name": "python3"
  },
  "language_info": {
   "codemirror_mode": {
    "name": "ipython",
    "version": 3
   },
   "file_extension": ".py",
   "mimetype": "text/x-python",
   "name": "python",
   "nbconvert_exporter": "python",
   "pygments_lexer": "ipython3",
   "version": "3.7.10"
  }
 },
 "nbformat": 4,
 "nbformat_minor": 5
}
