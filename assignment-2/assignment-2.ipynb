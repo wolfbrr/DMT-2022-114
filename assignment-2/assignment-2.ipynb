{
 "cells": [
  {
   "cell_type": "markdown",
   "id": "ab796d9b",
   "metadata": {},
   "source": [
    "### imports"
   ]
  },
  {
   "cell_type": "code",
   "execution_count": 1,
   "id": "3cec730f",
   "metadata": {},
   "outputs": [],
   "source": [
    "import numpy as np\n",
    "import pandas as pd \n",
    "import seaborn as sns\n",
    "import time\n",
    "from sklearn.model_selection import train_test_split, cross_val_score, KFold\n",
    "from sklearn.preprocessing import normalize\n",
    "import matplotlib.pyplot as plt\n",
    "import pickle\n",
    "\n"
   ]
  },
  {
   "cell_type": "markdown",
   "id": "1b8423ac",
   "metadata": {},
   "source": [
    "### load training and testing sets"
   ]
  },
  {
   "cell_type": "code",
   "execution_count": 2,
   "id": "730774e3",
   "metadata": {},
   "outputs": [],
   "source": [
    "#if loaded train file exists\n",
    "try:\n",
    "    with open('data/train-data.pickle', 'rb') as handle:\n",
    "        train = pickle.load(handle)\n",
    "#if not load and save\n",
    "except:\n",
    "    !unzip data/training_set_VU_DM.csv.zip\n",
    "    train = pd.read_csv('training_set_VU_DM.csv')\n",
    "    !rm training_set_VU_DM.csv\n",
    "    with open('data/train-data.pickle', 'wb') as handle:\n",
    "        pickle.dump(train, handle)\n",
    "\n",
    "#if loaded test file exists\n",
    "try:\n",
    "    with open('data/test-data.pickle', 'rb') as handle:\n",
    "        test = pickle.load(handle)\n",
    "#if not load and save\n",
    "except:\n",
    "    !unzip data/test_set_VU_DM.csv.zip\n",
    "    test = pd.read_csv('test_set_VU_DM.csv')\n",
    "    !rm test_set_VU_DM.csv\n",
    "    with open('data/test-data.pickle', 'wb') as handle:\n",
    "        pickle.dump(test, handle)"
   ]
  },
  {
   "cell_type": "markdown",
   "id": "4fb12627",
   "metadata": {},
   "source": [
    "### Functions"
   ]
  },
  {
   "cell_type": "markdown",
   "id": "10b60d3e",
   "metadata": {},
   "source": [
    "#### Submission"
   ]
  },
  {
   "cell_type": "code",
   "execution_count": 3,
   "id": "bd35fde9",
   "metadata": {},
   "outputs": [],
   "source": [
    "def create_submission(test_data, property_predicted_score):\n",
    "    !mv submission.csv.zip prev.submission.zip\n",
    "    test_data['raiting'] = property_predicted_score\n",
    "    submition_data = test_data[['srch_id','prop_id','raiting']]\n",
    "    submition_data = submition_data.sort_values(by=['srch_id', 'raiting'], ascending=[True,  False])\n",
    "    submition_data = submition_data.drop(columns=\"raiting\")\n",
    "    submition_data.to_csv('submission.csv', index=False)\n",
    "    !zip submission.csv.zip  submission.csv\n",
    "    !rm submission.csv"
   ]
  },
  {
   "cell_type": "markdown",
   "id": "97ac4a50",
   "metadata": {},
   "source": [
    "#### Ranking"
   ]
  },
  {
   "cell_type": "code",
   "execution_count": 4,
   "id": "5299dd95",
   "metadata": {},
   "outputs": [
    {
     "name": "stdout",
     "output_type": "stream",
     "text": [
      "ndcg_@5 0.5\n"
     ]
    }
   ],
   "source": [
    "def discountedCumulativeGain(result, k=5):\n",
    "    \"\"\"\n",
    "    Evaluated per query\n",
    "    taken from \n",
    "    https://towardsdatascience.com/normalized-discounted-cumulative-gain-37e6f75090e9\n",
    "    \"\"\"\n",
    "    dcg = []\n",
    "    for idx, val in enumerate(result[0:k]): \n",
    "        #numerator = (2**val) - 1\n",
    "        numerator = val\n",
    "        # add 2 because python 0-index\n",
    "        denominator =  np.log2(idx + 2) \n",
    "        score = numerator/denominator\n",
    "        dcg.append(score)\n",
    "    return sum(dcg)\n",
    "\n",
    "\n",
    "def NDCG_at_k(X, ranking, ideal_ranking, k=5, verbose=True):\n",
    "    d = {'srch_id': X['srch_id'], 'ranking': ranking, 'true_ranking': ideal_ranking}\n",
    "    df = pd.DataFrame(data=d)\n",
    "    df = df.sort_values(by=['srch_id', 'ranking'], ascending=[True,  False])\n",
    "\n",
    "    NDCG  = df.groupby('srch_id').aggregate\\\n",
    "    (ndcg=(\"true_ranking\", lambda x: discountedCumulativeGain(x, k)))\n",
    "\n",
    "    df = df.sort_values(by=['srch_id', 'true_ranking'], ascending=[True,  False])\n",
    "    INDCG  = df.groupby('srch_id').aggregate\\\n",
    "    (indcg=(\"true_ranking\", lambda x: discountedCumulativeGain(x, k)))\n",
    "    INDCG = INDCG[INDCG['indcg']!=0]\n",
    "    x = NDCG['ndcg']/INDCG['indcg']# true ranking has the information regarding actual booking\n",
    "    \n",
    "    if verbose:\n",
    "        print(f'ndcg_@{k} {x.mean()}')\n",
    "\n",
    "    return x.mean()\n",
    "\n",
    "d = {'srch_id': [1, 1, 1, 1, 1, 1]}\n",
    "df = pd.DataFrame(data=d)\n",
    "ndcg_score = NDCG_at_k(df, ranking=[5, 0, 0, 0, 0, 0], ideal_ranking=[0, 0, 5, 0, 0, 0], k=5)\n",
    "\n",
    "#assert discountedCumulativeGain([0,0,5], k=5)==((2**5-1)/np.log2(4) ) , \"assertion discountedCumulativeGain wrong\"\n",
    "assert discountedCumulativeGain([0,0,5], k=5)==(5/np.log2(4) ) , \"assertion discountedCumulativeGain wrong\"\n",
    "assert ndcg_score == (5/np.log2(4))/5 , \"assertion ndcg wrong\"\n"
   ]
  },
  {
   "cell_type": "markdown",
   "id": "d559c990",
   "metadata": {},
   "source": [
    "#### Cross validation and model fit"
   ]
  },
  {
   "cell_type": "code",
   "execution_count": 5,
   "id": "cf065a19",
   "metadata": {},
   "outputs": [],
   "source": [
    "def my_fit_and_predict(model, train_set=[], test_set=[], features_to_choose=[], price_max=[]):\n",
    "    #x = test_set['prop_id']\n",
    "    #y = train_set['prop_id']\n",
    "\n",
    "    #print(len(x))\n",
    "    #print(len(y))\n",
    "    #print(f'% of unique hotels in train and not in test {100*len(set(x) - set(y))/len(set(x))}')\n",
    "\n",
    "    X_train, X_test = hotel_booking_likelihood(train_set, test_set)\n",
    "    X_train = undersample(X_train, 7)\n",
    "\n",
    "    ## remove outliers from price\n",
    "    mask = X_train['price_usd']<price_max\n",
    "    X_train = X_train[mask]\n",
    "    model.fit(X_train[features_to_choose], target_function(X_train))\n",
    "    Y_predict = model.predict(X_test[features_to_choose])\n",
    "\n",
    "    return Y_predict\n",
    "\n",
    "def my_cross_validation(model, X, features_to_choose, n_splits=5, price_max=[]):\n",
    "    \n",
    "    kfold = KFold(n_splits=n_splits)\n",
    "    ndcg_score = 0\n",
    "    for train, test in kfold.split(X):\n",
    "        X_train, X_test = X.iloc[train, :], X.iloc[test, :]\n",
    "        Y_evaluation = my_fit_and_predict(model, X_train, X_test, features_to_choose, price_max)\n",
    "        Y_target = target_function(X_test)\n",
    "        ndcg_score += NDCG_at_k(X_test, ranking=Y_evaluation, ideal_ranking=Y_target, k=5, verbose=False)\n",
    "    \n",
    "    average = ndcg_score/n_splits\n",
    "    print(f'cross_validation average {average}')\n",
    "    return average"
   ]
  },
  {
   "cell_type": "markdown",
   "id": "e8df5c49",
   "metadata": {},
   "source": [
    "#### features engeneering"
   ]
  },
  {
   "cell_type": "code",
   "execution_count": 16,
   "id": "2c746f78",
   "metadata": {},
   "outputs": [],
   "source": [
    "def target_function(data_frame):\n",
    "    return data_frame['click_bool'] + data_frame['booking_bool']*4 #if booked then clicked booked = 5\n",
    "\n",
    "def hotel_booking_likelihood(train_frame, test_frame):\n",
    "\n",
    "    lklhd = train_frame.groupby('prop_id').sum().reset_index()\n",
    "    lklhd = lklhd[['prop_id','booking_bool', 'click_bool']]\n",
    "    #lklhd['booking_bool'] = lklhd['booking_bool']*5\n",
    "    lklhd['lklhd'] = lklhd[['booking_bool', 'click_bool']].sum(axis=1)\n",
    "    \n",
    "    counts = train_frame.groupby('prop_id').size().reset_index(name='counts')\n",
    "    \n",
    "    # normalize by total counts of total amounts prop_id\n",
    "    lklhd['lklhd'] = lklhd['lklhd']/counts['counts']\n",
    "    lklhd.drop(columns=['booking_bool', 'click_bool'], inplace=True)\n",
    "     # merge likelihood into dataframes\n",
    "    train_frame_out = train_frame.merge(lklhd, how='left', left_on='prop_id', right_on='prop_id')\n",
    "    test_frame_out = test_frame.merge(lklhd, how='left', left_on='prop_id', right_on='prop_id')\n",
    "    \n",
    "    #replace nulls into zeros\n",
    "    test_frame_out.loc[test_frame_out['lklhd'].isnull(),'lklhd'] = 0\n",
    "    \n",
    "    assert len(test_frame_out)==len(test_frame)\n",
    "    assert len(train_frame_out)==len(train_frame)\n",
    "\n",
    "    return train_frame_out, test_frame_out\n",
    "\n",
    "def features_engeneering(data_frame):\n",
    "    #fill missing property review score by median over whole data\n",
    "    for i in ['orig_destination_distance']:\n",
    "        data_frame[i] = data_frame[i].fillna(data_frame[i].median())\n",
    "    for i in ['prop_review_score', 'prop_location_score2', 'comp1_rate', 'comp2_rate', 'comp3_rate', 'comp4_rate', 'comp5_rate', 'comp6_rate', 'comp7_rate', 'comp8_rate']:\n",
    "        data_frame[i] = data_frame[i].fillna(0)\n",
    "\n",
    "    data_frame.loc[:, 'comp'] = \\\n",
    "    data_frame[['comp1_rate', 'comp2_rate', 'comp3_rate', 'comp4_rate', \\\n",
    "                 'comp5_rate', 'comp6_rate', 'comp7_rate', 'comp8_rate']].sum(axis=1)\n",
    "    \n",
    "    mask = data_frame.loc[:, 'comp']>0\n",
    "    data_frame.loc[mask, 'comp'] = 1\n",
    "    mask = data_frame.loc[:, 'comp']<0\n",
    "    data_frame.loc[mask, 'comp'] = -1\n",
    "    \n",
    "    data_frame.loc[:, 'location_score'] = data_frame['prop_location_score1'] + data_frame['prop_location_score2']*10\n",
    "    \n",
    "    #fill missing prop_log_historical_price  by country id median\n",
    "    mask_log_0 = data_frame['prop_log_historical_price'] == 0\n",
    "    data_frame[['historical_price']] = data_frame[['prop_log_historical_price']].applymap(np.exp)\n",
    "    data_frame.loc[mask_log_0, 'historical_price'] = data_frame.loc[mask_log_0, 'price_usd']\n",
    "\n",
    "    price_per_country_median = data_frame.groupby('prop_country_id').median().reset_index()\n",
    "    price_per_country_median = price_per_country_median[['prop_country_id','price_usd']]\n",
    "    price_per_country_median = price_per_country_median.rename(columns={\"price_usd\": \"price_per_country_median\"})\n",
    "    data_frame = data_frame.merge(price_per_country_median, how='left', left_on='prop_country_id', right_on='prop_country_id')\n",
    "    # apply median to missing values in price_usd\n",
    "    mask = data_frame['price_usd']==0\n",
    "    data_frame.loc[mask, 'price_usd'] = data_frame.loc[mask, 'price_per_country_median']\n",
    "    mask = data_frame['historical_price']==0\n",
    "    data_frame.loc[mask, 'historical_price'] = data_frame.loc[mask, 'price_per_country_median']\n",
    "\n",
    "    # normalization\n",
    "    #data_frame['price_usd'] = data_frame['price_usd']/data_frame['price_per_country_median']\n",
    "    #data_frame['historical_price'] = data_frame['historical_price']/data_frame['price_per_country_median']\n",
    "\n",
    "    # normalise by number of persons\n",
    "    number_of_person = (data_frame['srch_adults_count'] + data_frame['srch_children_count']/2)\n",
    "    data_frame['price_per_person'] = data_frame['price_usd']/number_of_person\n",
    "        \n",
    "    #\n",
    "    #data standartization\n",
    "    \n",
    "    #for feature in ['prop_starrating','prop_location_score1']:\n",
    "    #    x = data_frame[feature].values\n",
    "    #    x = x.reshape(-1,1)\n",
    "    #    data_frame[feature] = normalize(x)\n",
    "    \n",
    "    \n",
    "    return data_frame\n",
    "\n",
    "def undersample(data_frame, number_of_lines):\n",
    "    ''' \n",
    "    Keeps first number_of_lines in the \n",
    "    group srch_id and removes the rest\n",
    "    \n",
    "    '''\n",
    "    data_frame = data_frame.sort_values(by=['srch_id', 'booking_bool', 'click_bool'], ascending=[True,  False, False]).reset_index(drop=True)\n",
    "    df = data_frame[['srch_id']]\n",
    "    x = df.groupby('srch_id').cumcount()# cummulative counting of group members\n",
    "    data_frame.loc[:, 'group_index'] = x\n",
    "    mask = data_frame['group_index']<number_of_lines\n",
    "    data_frame = data_frame[mask]\n",
    "    data_frame = data_frame.reset_index(drop=True)\n",
    "    data_frame = data_frame.sort_values(by=['srch_id', 'booking_bool', 'click_bool'], ascending=[True,  False, False]).reset_index(drop=True)\n",
    "    data_frame.drop(columns='group_index', inplace=True)\n",
    "    return data_frame\n",
    "\n",
    "''' unit test undersample '''\n",
    "data_frame_test = pd.DataFrame({ 'prop_id' : range(1, 11),\\\n",
    "                                'srch_id':[1, 1, 1, 1, 1, 1, 2, 2, 2, 2], \\\n",
    "                          'booking_bool': [0, 0, 0, 0, 0 ,1, 0, 0, 0, 0],\n",
    "                            'click_bool': [0, 0, 0, 0, 1 ,1, 0, 0, 1, 0]})\n",
    "df_test_out = pd.DataFrame({'prop_id' : [6, 5, 1, 2, 9, 7, 8, 10 ],\n",
    "                             'srch_id': [1, 1, 1, 1 ,2, 2, 2, 2], \n",
    "                        'booking_bool': [1, 0, 0, 0, 0 ,0, 0, 0], \n",
    "                          'click_bool': [1, 1, 0, 0, 1 ,0, 0, 0]})\n",
    "\n",
    "df_out = undersample(data_frame_test, 4)                             \n",
    "check = df_test_out==df_out\n",
    "assert check.values.prod()==True, 'undersample failed'\n",
    "\n"
   ]
  },
  {
   "cell_type": "markdown",
   "id": "3bf6c0eb",
   "metadata": {},
   "source": [
    "### Total columns"
   ]
  },
  {
   "cell_type": "code",
   "execution_count": 6,
   "id": "474a3f37",
   "metadata": {},
   "outputs": [
    {
     "name": "stdout",
     "output_type": "stream",
     "text": [
      "train length: 4958347\n",
      "test length: 4959183\n",
      "booked amount: 138390\n",
      "clicked but not booked: 83489\n",
      "total/booked: 35.82879543319604\n"
     ]
    }
   ],
   "source": [
    "train_amount = len(train)\n",
    "print(f'train length: {train_amount}')\n",
    "print(f'test length: {len(test)}')\n",
    "mask = train['booking_bool']==True\n",
    "booked_amount = len(train[mask])\n",
    "print(f'booked amount: {booked_amount}')\n",
    "mask = (train['booking_bool']==False) & (train['click_bool']==True)\n",
    "clicked_amount = len(train[mask])\n",
    "print(f'clicked but not booked: {clicked_amount}')\n",
    "print(f'total/booked: {train_amount/booked_amount}')\n"
   ]
  },
  {
   "cell_type": "markdown",
   "id": "fb0521ba",
   "metadata": {},
   "source": [
    "### Total null columns"
   ]
  },
  {
   "cell_type": "code",
   "execution_count": 7,
   "id": "367f65d6",
   "metadata": {},
   "outputs": [
    {
     "name": "stdout",
     "output_type": "stream",
     "text": [
      "srch_id                              0\n",
      "date_time                            0\n",
      "site_id                              0\n",
      "visitor_location_country_id          0\n",
      "visitor_hist_starrating        4706481\n",
      "visitor_hist_adr_usd           4705359\n",
      "prop_country_id                      0\n",
      "prop_id                              0\n",
      "prop_starrating                      0\n",
      "prop_review_score                 7364\n",
      "prop_brand_bool                      0\n",
      "prop_location_score1                 0\n",
      "prop_location_score2           1090348\n",
      "prop_log_historical_price            0\n",
      "position                             0\n",
      "price_usd                            0\n",
      "promotion_flag                       0\n",
      "srch_destination_id                  0\n",
      "srch_length_of_stay                  0\n",
      "srch_booking_window                  0\n",
      "srch_adults_count                    0\n",
      "srch_children_count                  0\n",
      "srch_room_count                      0\n",
      "srch_saturday_night_bool             0\n",
      "srch_query_affinity_score      4640941\n",
      "orig_destination_distance      1607782\n",
      "random_bool                          0\n",
      "comp1_rate                     4838417\n",
      "comp1_inv                      4828788\n",
      "comp1_rate_percent_diff        4863908\n",
      "comp2_rate                     2933675\n",
      "comp2_inv                      2828078\n",
      "comp2_rate_percent_diff        4402109\n",
      "comp3_rate                     3424059\n",
      "comp3_inv                      3307357\n",
      "comp3_rate_percent_diff        4485550\n",
      "comp4_rate                     4650969\n",
      "comp4_inv                      4614684\n",
      "comp4_rate_percent_diff        4827261\n",
      "comp5_rate                     2735974\n",
      "comp5_inv                      2598327\n",
      "comp5_rate_percent_diff        4117248\n",
      "comp6_rate                     4718190\n",
      "comp6_inv                      4697371\n",
      "comp6_rate_percent_diff        4862173\n",
      "comp7_rate                     4642999\n",
      "comp7_inv                      4601925\n",
      "comp7_rate_percent_diff        4819832\n",
      "comp8_rate                     3041693\n",
      "comp8_inv                      2970844\n",
      "comp8_rate_percent_diff        4343617\n",
      "click_bool                           0\n",
      "gross_bookings_usd                   0\n",
      "booking_bool                         0\n",
      "dtype: int64\n"
     ]
    }
   ],
   "source": [
    "train['gross_bookings_usd'] = train['gross_bookings_usd'].fillna(0)\n",
    "\n",
    "print(train.isnull().sum())\n"
   ]
  },
  {
   "cell_type": "code",
   "execution_count": 8,
   "id": "991efd01",
   "metadata": {},
   "outputs": [
    {
     "data": {
      "text/plain": [
       "prop_location_score1    0.0\n",
       "prop_location_score2    0.0\n",
       "dtype: float64"
      ]
     },
     "execution_count": 8,
     "metadata": {},
     "output_type": "execute_result"
    }
   ],
   "source": [
    "mask = train['booking_bool'] == True\n",
    "train.loc[mask,['prop_location_score1', 'prop_location_score2']]\n",
    "train.loc[mask,['prop_location_score1', 'prop_location_score2']].min()"
   ]
  },
  {
   "cell_type": "code",
   "execution_count": 9,
   "id": "a9131ebe",
   "metadata": {},
   "outputs": [],
   "source": [
    "max_price_usd = train['price_usd'].median() + train['price_usd'].std()*5"
   ]
  },
  {
   "cell_type": "markdown",
   "id": "ce17cda5",
   "metadata": {},
   "source": [
    "### Amount of hotels in data sets"
   ]
  },
  {
   "cell_type": "code",
   "execution_count": 10,
   "id": "1114ad5e",
   "metadata": {
    "scrolled": true
   },
   "outputs": [
    {
     "name": "stdout",
     "output_type": "stream",
     "text": [
      "Amount of hotels in test data 129438 \n",
      "Amount of hotels in train data 129113\n",
      "Amount of unique hotels in train and not in test 7773\n"
     ]
    }
   ],
   "source": [
    "x = test['prop_id']\n",
    "print(f'Amount of hotels in test data {len(set(x))} ')\n",
    "y = train['prop_id']\n",
    "print(f'Amount of hotels in train data {len(set(y))}')\n",
    "print(f'Amount of unique hotels in train and not in test {len(set(x) - set(y))}')\n"
   ]
  },
  {
   "cell_type": "code",
   "execution_count": 11,
   "id": "f89a0090",
   "metadata": {
    "scrolled": true
   },
   "outputs": [
    {
     "name": "stdout",
     "output_type": "stream",
     "text": [
      "columns not in both sets {'position', 'gross_bookings_usd', 'click_bool', 'booking_bool'}\n"
     ]
    }
   ],
   "source": [
    "train_eng = features_engeneering(train)\n",
    "test_eng = features_engeneering(test)\n",
    "\n",
    "#train_eng, test_eng = hotel_booking_likelihood(train_eng, test_eng)\n",
    "\n",
    "train_eng = train_eng.dropna(axis=1)\n",
    "train_eng = train_eng.sort_values(by=['srch_id','prop_id'])\n",
    "\n",
    "\n",
    "a = set(train_eng.columns)\n",
    "b = set(test_eng.columns)\n",
    "print(f'columns not in both sets {a-b}')\n",
    "assert len(train_eng)==len(train)\n",
    "assert len(test_eng)==len(test)\n"
   ]
  },
  {
   "cell_type": "markdown",
   "id": "03bbe0e5",
   "metadata": {},
   "source": [
    "### Choose features to fit"
   ]
  },
  {
   "cell_type": "code",
   "execution_count": 12,
   "id": "c055b3c5",
   "metadata": {
    "scrolled": false
   },
   "outputs": [
    {
     "name": "stdout",
     "output_type": "stream",
     "text": [
      "Index(['srch_id', 'date_time', 'site_id', 'visitor_location_country_id',\n",
      "       'prop_country_id', 'prop_id', 'prop_starrating', 'prop_review_score',\n",
      "       'prop_brand_bool', 'prop_location_score1', 'prop_location_score2',\n",
      "       'prop_log_historical_price', 'position', 'price_usd', 'promotion_flag',\n",
      "       'srch_destination_id', 'srch_length_of_stay', 'srch_booking_window',\n",
      "       'srch_adults_count', 'srch_children_count', 'srch_room_count',\n",
      "       'srch_saturday_night_bool', 'orig_destination_distance', 'random_bool',\n",
      "       'comp1_rate', 'comp2_rate', 'comp3_rate', 'comp4_rate', 'comp5_rate',\n",
      "       'comp6_rate', 'comp7_rate', 'comp8_rate', 'click_bool',\n",
      "       'gross_bookings_usd', 'booking_bool', 'comp', 'location_score',\n",
      "       'historical_price', 'price_per_country_median', 'price_per_person'],\n",
      "      dtype='object')\n"
     ]
    }
   ],
   "source": [
    "print(train_eng.columns)#  the columns after droping\n",
    "\n",
    "features_to_choose = ['visitor_location_country_id',\n",
    "                      'prop_country_id', \n",
    "                      'prop_id',  \n",
    "                      'prop_starrating',\n",
    "                      'prop_review_score',\n",
    "                      'prop_brand_bool', \n",
    "                      'location_score',\n",
    "                      'prop_log_historical_price', #historical_price\n",
    "                      'promotion_flag',                      \n",
    "                      'srch_destination_id',\n",
    "                      'srch_booking_window',\n",
    "                      'srch_saturday_night_bool', \n",
    "                      #'random_bool', \n",
    "                      #'prop_location_score1', \n",
    "                      #'prop_location_score2', \n",
    "                      'orig_destination_distance', \n",
    "                      #'comp', \n",
    "                      'lklhd',\n",
    "                      'price_per_person']#,\n",
    "                        \n"
   ]
  },
  {
   "cell_type": "code",
   "execution_count": 13,
   "id": "2c8759dc",
   "metadata": {},
   "outputs": [],
   "source": [
    "#from mlxtend.frequent_patterns import apriori\n",
    "#from mlxtend.frequent_patterns import association_rules\n",
    "#frequent_itemsets= apriori(df[['promotion_flag','srch_saturday_night_bool', 'random_bool', 'click_bool', 'booking_bool']], min_support=0.07, use_colnames=True)\n",
    "#rules = association_rules(frequent_itemsets, metric=\"lift\", min_threshold=1)\n",
    "#rules = rules.sort_values(by=[ 'support', 'confidence',], ascending=False)\n",
    "\n",
    "#rules[['antecedents', 'consequents','support','confidence']].iloc[0:10]\n"
   ]
  },
  {
   "cell_type": "markdown",
   "id": "1c1f539a",
   "metadata": {},
   "source": [
    "## Test and Evaluate"
   ]
  },
  {
   "cell_type": "code",
   "execution_count": 14,
   "id": "bbdf3adf",
   "metadata": {},
   "outputs": [],
   "source": [
    "from sklearn import neighbors, linear_model\n",
    "from sklearn.ensemble import RandomForestRegressor\n",
    "from sklearn.tree import DecisionTreeRegressor\n",
    "from sklearn.ensemble import GradientBoostingRegressor\n",
    "\n",
    "# Fit regression model\n",
    "#model = linear_model.LinearRegression()\n",
    "#n_neighbors = 10\n",
    "#model = neighbors.KNeighborsRegressor(n_neighbors)\n",
    "#model= DecisionTreeRegressor(random_state=0)\n",
    "#model = GradientBoostingRegressor(random_state=0)\n",
    "\n",
    "########       Cross EVALUATION           ###############\n",
    "\n",
    "size = 0.05\n",
    "\n",
    "train_idx = int(len(train_eng)*2/3)\n",
    "evaluation_size = int(train_idx*size)\n",
    "\n",
    "X_train = train_eng.iloc[0:(train_idx-evaluation_size), :]\n",
    "X_eval = train_eng.iloc[(train_idx-evaluation_size):train_idx, :]\n",
    "X_test = train_eng.iloc[train_idx:, :]\n",
    "\n",
    "\n",
    "\n"
   ]
  },
  {
   "cell_type": "markdown",
   "id": "29709242",
   "metadata": {},
   "source": [
    "### RandomForestRegressor"
   ]
  },
  {
   "cell_type": "markdown",
   "id": "2aa989a2",
   "metadata": {},
   "source": [
    "#### cross validation"
   ]
  },
  {
   "cell_type": "code",
   "execution_count": 15,
   "id": "eddfdbbc",
   "metadata": {
    "scrolled": false
   },
   "outputs": [
    {
     "name": "stdout",
     "output_type": "stream",
     "text": [
      "cross_validation average 0.19401948803115604\n",
      "The time of evaluation fit: 7.3024914264678955\n",
      "cross_validation average 0.19697532161794887\n",
      "The time of evaluation fit: 7.844223976135254\n",
      "cross_validation average 0.19795973023745414\n",
      "The time of evaluation fit: 8.668262004852295\n",
      "cross_validation average 0.19904723437030075\n",
      "The time of evaluation fit: 9.620624780654907\n",
      "cross_validation average 0.19970688648186097\n",
      "The time of evaluation fit: 11.549249172210693\n",
      "cross_validation average 0.19863374353728416\n",
      "The time of evaluation fit: 10.578551769256592\n",
      "exit before the end\n",
      "Optimal depth: 11\n"
     ]
    },
    {
     "data": {
      "image/png": "[encoded data removed]",
      "text/plain": [
       "<Figure size 432x288 with 1 Axes>"
      ]
     },
     "metadata": {
      "needs_background": "light"
     },
     "output_type": "display_data"
    }
   ],
   "source": [
    "x = []\n",
    "depth = [x for x in range(3,15) if x % 2 != 0]\n",
    "prev_ndgc = 0\n",
    "for i in depth:\n",
    "    start = time.time()\n",
    "    model = RandomForestRegressor(max_depth=i, random_state=0, n_jobs=-1)\n",
    "    ndcg_score = my_cross_validation(model, X_eval, features_to_choose, n_splits=5, price_max=max_price_usd)\n",
    "    end = time.time()\n",
    "    print(\"The time of evaluation fit:\", end-start)\n",
    "    x.append(ndcg_score)\n",
    "    if ndcg_score<prev_ndgc:\n",
    "        print('exit before the end')\n",
    "        break    # break here\n",
    "    prev_ndgc=ndcg_score\n",
    "    \n",
    "optimal_score_index = x.index(max(x))\n",
    "optimal_depth = depth[optimal_score_index]\n",
    "print(f'Optimal depth: {optimal_depth}')\n",
    "plt.plot(depth[0:len(x)], x)\n",
    "plt.xlabel('depth')\n",
    "plt.ylabel('ndcg_score')\n",
    "plt.show()\n",
    "\n",
    "\n"
   ]
  },
  {
   "cell_type": "markdown",
   "id": "3d3986f8",
   "metadata": {},
   "source": [
    "#### testing"
   ]
  },
  {
   "cell_type": "code",
   "execution_count": 16,
   "id": "7fa8336d",
   "metadata": {},
   "outputs": [
    {
     "name": "stdout",
     "output_type": "stream",
     "text": [
      "Validation time and score RandomForestRegressor: 110.75092363357544\n",
      "ndcg_@5 0.24964764740206596\n"
     ]
    }
   ],
   "source": [
    "##\n",
    "start = time.time()\n",
    "model = RandomForestRegressor(max_depth=optimal_depth, random_state=0, n_jobs=-1)\n",
    "Y_pred = my_fit_and_predict(model, X_train, X_test, features_to_choose, price_max=max_price_usd)\n",
    "end = time.time()\n",
    "print(\"Validation time and score RandomForestRegressor:\", end-start)\n",
    "\n",
    "ndcg_score = NDCG_at_k(X_test, ranking=Y_pred, ideal_ranking= target_function(X_test), k=5)\n"
   ]
  },
  {
   "cell_type": "markdown",
   "id": "047a2b7b",
   "metadata": {},
   "source": [
    "### GradientBoostingRegressor"
   ]
  },
  {
   "cell_type": "code",
   "execution_count": 17,
   "id": "5a498669",
   "metadata": {},
   "outputs": [
    {
     "name": "stdout",
     "output_type": "stream",
     "text": [
      "cross_validation average 0.2146381490325148\n",
      "The time of evaluation fit: 11.850813150405884\n",
      "cross_validation average 0.21996960101829416\n",
      "The time of evaluation fit: 15.198902606964111\n",
      "cross_validation average 0.22026464763058592\n",
      "The time of evaluation fit: 23.469021558761597\n",
      "cross_validation average 0.2210963323276139\n",
      "The time of evaluation fit: 27.203019618988037\n",
      "cross_validation average 0.22268376440437693\n",
      "The time of evaluation fit: 32.05887055397034\n",
      "cross_validation average 0.22410724965003187\n",
      "The time of evaluation fit: 32.57046580314636\n",
      "cross_validation average 0.22471702782788508\n",
      "The time of evaluation fit: 34.94227385520935\n",
      "cross_validation average 0.22663379873247683\n",
      "The time of evaluation fit: 37.8675856590271\n",
      "cross_validation average 0.22689514963871468\n",
      "The time of evaluation fit: 40.12984085083008\n",
      "Optimal n estimators: 130\n"
     ]
    },
    {
     "data": {
      "image/png": "[encoded data removed]",
      "text/plain": [
       "<Figure size 432x288 with 1 Axes>"
      ]
     },
     "metadata": {
      "needs_background": "light"
     },
     "output_type": "display_data"
    }
   ],
   "source": [
    "x = []\n",
    "n_estimators = [30, 40, 60, 70, 90, 100, 110, 120, 130]\n",
    "prev_ndgc = 0\n",
    "for i in n_estimators:\n",
    "    start = time.time()\n",
    "    model = GradientBoostingRegressor(n_estimators = i, random_state=0)\n",
    "    ndcg_score = my_cross_validation(model, X_eval, features_to_choose, n_splits=5, price_max=max_price_usd)\n",
    "    end = time.time()\n",
    "    print(\"The time of evaluation fit:\", end-start)\n",
    "    x.append(ndcg_score)\n",
    "    if ndcg_score<prev_ndgc:\n",
    "        print('exit before the end')\n",
    "        break    # break here\n",
    "    prev_ndgc=ndcg_score\n",
    "    \n",
    "optimal_score_index = x.index(max(x))\n",
    "optimal_n = n_estimators[optimal_score_index]\n",
    "print(f'Optimal n estimators: {optimal_n}')\n",
    "plt.plot(n_estimators[0:len(x)], x)\n",
    "plt.xlabel('depth')\n",
    "plt.ylabel('ndcg_score')\n",
    "plt.show()\n"
   ]
  },
  {
   "cell_type": "markdown",
   "id": "0f4f6c6b",
   "metadata": {},
   "source": [
    "#### testing"
   ]
  },
  {
   "cell_type": "code",
   "execution_count": 18,
   "id": "a5c14a0e",
   "metadata": {},
   "outputs": [
    {
     "name": "stdout",
     "output_type": "stream",
     "text": [
      "Validation time and score GradientBoostingRegressor: 227.5164589881897\n",
      "ndcg_@5 0.25002427648780856\n"
     ]
    }
   ],
   "source": [
    "start = time.time()\n",
    "Y_pred = my_fit_and_predict(model, X_train, X_test, features_to_choose, price_max=max_price_usd)\n",
    "end = time.time()\n",
    "print(\"Validation time and score GradientBoostingRegressor:\", end-start)\n",
    "ndcg_score = NDCG_at_k(X_test, ranking=Y_pred, ideal_ranking=target_function(X_test), k=5)"
   ]
  },
  {
   "cell_type": "markdown",
   "id": "846e51eb",
   "metadata": {},
   "source": [
    "## Fit and submit "
   ]
  },
  {
   "cell_type": "markdown",
   "id": "d6b85a85",
   "metadata": {},
   "source": [
    "### GradientBoostingRegressor"
   ]
  },
  {
   "cell_type": "code",
   "execution_count": 19,
   "id": "b879331a",
   "metadata": {},
   "outputs": [
    {
     "name": "stdout",
     "output_type": "stream",
     "text": [
      "The time of final fit GradientBoostingRegressor: 285.8650093078613\n",
      "  adding: submission.csv (deflated 67%)\n"
     ]
    }
   ],
   "source": [
    "start = time.time()\n",
    "model = GradientBoostingRegressor(random_state=0)\n",
    "raitings = my_fit_and_predict(model, train_eng, test_eng, features_to_choose, price_max=max_price_usd)\n",
    "end = time.time()\n",
    "print(\"The time of final fit GradientBoostingRegressor:\", end-start)\n",
    "create_submission(test_eng, raitings)\n",
    "assert len(raitings)==len(test)\n"
   ]
  },
  {
   "cell_type": "markdown",
   "id": "db0737fe",
   "metadata": {},
   "source": [
    "### RandomForestRegressor"
   ]
  },
  {
   "cell_type": "code",
   "execution_count": 20,
   "id": "3984d0b7",
   "metadata": {},
   "outputs": [
    {
     "name": "stdout",
     "output_type": "stream",
     "text": [
      "The time of final fit RandomForestRegressor: 165.99897003173828\n",
      "  adding: submission.csv (deflated 67%)\n"
     ]
    }
   ],
   "source": [
    "start = time.time()\n",
    "model = RandomForestRegressor(max_depth=optimal_depth, random_state=0, n_jobs=-1)\n",
    "raitings = my_fit_and_predict(model, train_eng, test_eng, features_to_choose, price_max=max_price_usd)\n",
    "end = time.time()\n",
    "print(\"The time of final fit RandomForestRegressor:\", end-start)\n",
    "create_submission(test_eng, raitings)\n",
    "assert len(raitings)==len(test)"
   ]
  },
  {
   "cell_type": "code",
   "execution_count": 21,
   "id": "df43e7e8",
   "metadata": {},
   "outputs": [
    {
     "data": {
      "text/plain": [
       "4959183"
      ]
     },
     "execution_count": 21,
     "metadata": {},
     "output_type": "execute_result"
    }
   ],
   "source": [
    "len(raitings)"
   ]
  },
  {
   "cell_type": "code",
   "execution_count": 22,
   "id": "5ab86349",
   "metadata": {},
   "outputs": [
    {
     "data": {
      "text/plain": [
       "4959183"
      ]
     },
     "execution_count": 22,
     "metadata": {},
     "output_type": "execute_result"
    }
   ],
   "source": [
    "len(test)"
   ]
  }
 ],
 "metadata": {
  "kernelspec": {
   "display_name": "Python 3 (ipykernel)",
   "language": "python",
   "name": "python3"
  },
  "language_info": {
   "codemirror_mode": {
    "name": "ipython",
    "version": 3
   },
   "file_extension": ".py",
   "mimetype": "text/x-python",
   "name": "python",
   "nbconvert_exporter": "python",
   "pygments_lexer": "ipython3",
   "version": "3.7.10"
  }
 },
 "nbformat": 4,
 "nbformat_minor": 5
}
