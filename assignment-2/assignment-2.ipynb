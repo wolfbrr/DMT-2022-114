{
 "cells": [
  {
   "cell_type": "markdown",
   "id": "ab796d9b",
   "metadata": {},
   "source": [
    "### imports"
   ]
  },
  {
   "cell_type": "code",
   "execution_count": 1,
   "id": "3cec730f",
   "metadata": {},
   "outputs": [],
   "source": [
    "import numpy as np\n",
    "import pandas as pd \n",
    "import seaborn as sns\n",
    "import time\n",
    "from sklearn.model_selection import train_test_split, cross_val_score, KFold\n",
    "from sklearn.preprocessing import normalize\n",
    "import matplotlib.pyplot as plt\n",
    "import pickle\n",
    "import os\n"
   ]
  },
  {
   "cell_type": "markdown",
   "id": "1b8423ac",
   "metadata": {},
   "source": [
    "### load training and testing sets"
   ]
  },
  {
   "cell_type": "code",
   "execution_count": 2,
   "id": "730774e3",
   "metadata": {},
   "outputs": [],
   "source": [
    "#if loaded train file exists\n",
    "try:\n",
    "    with open('data/train-data.pickle', 'rb') as handle:\n",
    "        train = pickle.load(handle)\n",
    "#if not load and save\n",
    "except:\n",
    "    !unzip data/training_set_VU_DM.csv.zip\n",
    "    train = pd.read_csv('training_set_VU_DM.csv')\n",
    "    !rm training_set_VU_DM.csv\n",
    "    with open('data/train-data.pickle', 'wb') as handle:\n",
    "        pickle.dump(train, handle)\n",
    "\n",
    "#if loaded test file exists\n",
    "try:\n",
    "    with open('data/test-data.pickle', 'rb') as handle:\n",
    "        test = pickle.load(handle)\n",
    "#if not load and save\n",
    "except:\n",
    "    !unzip data/test_set_VU_DM.csv.zip\n",
    "    test = pd.read_csv('test_set_VU_DM.csv')\n",
    "    !rm test_set_VU_DM.csv\n",
    "    with open('data/test-data.pickle', 'wb') as handle:\n",
    "        pickle.dump(test, handle)"
   ]
  },
  {
   "cell_type": "markdown",
   "id": "4fb12627",
   "metadata": {},
   "source": [
    "## Functions"
   ]
  },
  {
   "cell_type": "markdown",
   "id": "10b60d3e",
   "metadata": {},
   "source": [
    "### Submission"
   ]
  },
  {
   "cell_type": "code",
   "execution_count": 3,
   "id": "bd35fde9",
   "metadata": {},
   "outputs": [],
   "source": [
    "def create_submission(test_data, property_predicted_score, head=''):\n",
    "    !mv submission.csv.zip prev.submission.zip\n",
    "    test_data['raiting'] = property_predicted_score\n",
    "    submition_data = test_data[['srch_id','prop_id','raiting']]\n",
    "    submition_data = submition_data.sort_values(by=['srch_id', 'raiting'], ascending=[True,  False])\n",
    "    submition_data = submition_data.drop(columns=\"raiting\")\n",
    "    file_name = head+'submission.csv'\n",
    "    submition_data.to_csv(file_name, index=False)\n",
    "    \n",
    "    cmd = 'zip ' + file_name +'.zip ' + file_name\n",
    "    os.system(cmd)\n",
    "    os.system('rm ' + file_name)\n"
   ]
  },
  {
   "cell_type": "markdown",
   "id": "97ac4a50",
   "metadata": {},
   "source": [
    "### Ranking"
   ]
  },
  {
   "cell_type": "code",
   "execution_count": 4,
   "id": "5299dd95",
   "metadata": {},
   "outputs": [
    {
     "name": "stdout",
     "output_type": "stream",
     "text": [
      "ndcg_@5 0.5\n"
     ]
    }
   ],
   "source": [
    "def grades(data_frame):\n",
    "    return data_frame['click_bool'] + data_frame['booking_bool']*4 #if booked then clicked, booked = 5\n",
    "\n",
    "def discountedCumulativeGain(result, k=5):\n",
    "    \"\"\"\n",
    "    Evaluated per query\n",
    "    taken from \n",
    "    https://towardsdatascience.com/normalized-discounted-cumulative-gain-37e6f75090e9\n",
    "    \"\"\"\n",
    "    dcg = []\n",
    "    for idx, val in enumerate(result[0:k]): \n",
    "        #numerator = (2**val) - 1\n",
    "        numerator = val\n",
    "        # add 2 because python 0-index\n",
    "        denominator =  np.log2(idx + 2) \n",
    "        score = numerator/denominator\n",
    "        dcg.append(score)\n",
    "    return sum(dcg)\n",
    "\n",
    "\n",
    "def NDCG_at_k(X, ranking, grades, k=5, verbose=True):\n",
    "    d = {'srch_id': X['srch_id'], 'ranking': ranking, 'grades': grades}\n",
    "    df = pd.DataFrame(data=d)\n",
    "    df = df.sort_values(by=['srch_id', 'ranking'], ascending=[True,  False])\n",
    "\n",
    "    NDCG  = df.groupby('srch_id').aggregate\\\n",
    "    (ndcg=(\"grades\", lambda x: discountedCumulativeGain(x, k)))\n",
    "\n",
    "    df = df.sort_values(by=['srch_id', 'grades'], ascending=[True,  False])\n",
    "    INDCG  = df.groupby('srch_id').aggregate\\\n",
    "    (indcg=(\"grades\", lambda x: discountedCumulativeGain(x, k)))\n",
    "    INDCG = INDCG[INDCG['indcg']!=0]\n",
    "    x = NDCG['ndcg']/INDCG['indcg']# true ranking has the information regarding actual booking\n",
    "    \n",
    "    if verbose:\n",
    "        print(f'ndcg_@{k} {x.mean()}')\n",
    "\n",
    "    return x.mean()\n",
    "# unit tests\n",
    "d = {'srch_id': [1, 1, 1, 1, 1, 1]}\n",
    "df = pd.DataFrame(data=d)\n",
    "ndcg_score = NDCG_at_k(df, ranking=[5, 0, 0, 0, 0, 0], grades=[0, 0, 5, 0, 0, 0], k=5)\n",
    "\n",
    "#assert discountedCumulativeGain([0,0,5], k=5)==((2**5-1)/np.log2(4) ) , \"assertion discountedCumulativeGain wrong\"\n",
    "assert discountedCumulativeGain([0,0,5], k=5)==(5/np.log2(4) ) , \"assertion discountedCumulativeGain wrong\"\n",
    "assert ndcg_score == (5/np.log2(4))/5 , \"assertion ndcg wrong\"\n"
   ]
  },
  {
   "cell_type": "markdown",
   "id": "f81df530",
   "metadata": {},
   "source": [
    "### Cross validation and model fit"
   ]
  },
  {
   "cell_type": "code",
   "execution_count": 5,
   "id": "25fa0ab8",
   "metadata": {},
   "outputs": [],
   "source": [
    "def evaluate_model(model, X_train=[], X_test=[], features_to_choose=[]):\n",
    "    rankings = my_fit_and_predict(model, X_train=X_train, X_test=X_test, features_to_choose=features_to_choose)\n",
    "    graded_relevance = grades(data_frame=X_test)\n",
    "    ndcg_score = NDCG_at_k(X_test, ranking=rankings, grades=graded_relevance, k=5, verbose=False)\n",
    "    return ndcg_score\n",
    "\n",
    "def my_fit_and_predict(model, X_train=[], X_test=[], features_to_choose=[]):\n",
    "    Y = target_function(data_frame=X_train)\n",
    "    #X_train, X_test = cross_hotel_booking_likelihood(X_train, X_test)\n",
    "    model.fit(X_train[features_to_choose], Y)\n",
    "    rankings = model.predict(X_test[features_to_choose])\n",
    "\n",
    "    return rankings\n",
    "\n",
    "def my_cross_validation(model, X=[], features_to_choose=[], n_splits=5):\n",
    "    kfold = KFold(n_splits=n_splits)\n",
    "    ndcg_score = 0\n",
    "    for train, test in kfold.split(X):\n",
    "        X_train, X_test = X.iloc[train, :], X.iloc[test, :]\n",
    "        ndcg_score += evaluate_model(model, X_train, X_test, features_to_choose)\n",
    "    \n",
    "    average = ndcg_score/n_splits\n",
    "    print(f'cross_validation average {average}')\n",
    "    return average"
   ]
  },
  {
   "cell_type": "markdown",
   "id": "2bd66d6e",
   "metadata": {},
   "source": [
    "### Target and Likelihood"
   ]
  },
  {
   "cell_type": "code",
   "execution_count": 6,
   "id": "deb20125",
   "metadata": {},
   "outputs": [
    {
     "data": {
      "text/html": [
       "<div>\n",
       "<style scoped>\n",
       "    .dataframe tbody tr th:only-of-type {\n",
       "        vertical-align: middle;\n",
       "    }\n",
       "\n",
       "    .dataframe tbody tr th {\n",
       "        vertical-align: top;\n",
       "    }\n",
       "\n",
       "    .dataframe thead th {\n",
       "        text-align: right;\n",
       "    }\n",
       "</style>\n",
       "<table border=\"1\" class=\"dataframe\">\n",
       "  <thead>\n",
       "    <tr style=\"text-align: right;\">\n",
       "      <th></th>\n",
       "      <th>srch_id</th>\n",
       "      <th>prop_id</th>\n",
       "      <th>booking_bool</th>\n",
       "      <th>click_bool</th>\n",
       "      <th>lklhd</th>\n",
       "    </tr>\n",
       "  </thead>\n",
       "  <tbody>\n",
       "    <tr>\n",
       "      <th>0</th>\n",
       "      <td>1</td>\n",
       "      <td>1</td>\n",
       "      <td>1</td>\n",
       "      <td>1</td>\n",
       "      <td>1.333333</td>\n",
       "    </tr>\n",
       "    <tr>\n",
       "      <th>1</th>\n",
       "      <td>1</td>\n",
       "      <td>2</td>\n",
       "      <td>0</td>\n",
       "      <td>0</td>\n",
       "      <td>0.000000</td>\n",
       "    </tr>\n",
       "    <tr>\n",
       "      <th>2</th>\n",
       "      <td>1</td>\n",
       "      <td>3</td>\n",
       "      <td>0</td>\n",
       "      <td>1</td>\n",
       "      <td>0.666667</td>\n",
       "    </tr>\n",
       "    <tr>\n",
       "      <th>3</th>\n",
       "      <td>2</td>\n",
       "      <td>1</td>\n",
       "      <td>1</td>\n",
       "      <td>1</td>\n",
       "      <td>1.333333</td>\n",
       "    </tr>\n",
       "    <tr>\n",
       "      <th>4</th>\n",
       "      <td>2</td>\n",
       "      <td>2</td>\n",
       "      <td>0</td>\n",
       "      <td>0</td>\n",
       "      <td>0.000000</td>\n",
       "    </tr>\n",
       "    <tr>\n",
       "      <th>5</th>\n",
       "      <td>2</td>\n",
       "      <td>3</td>\n",
       "      <td>0</td>\n",
       "      <td>0</td>\n",
       "      <td>0.666667</td>\n",
       "    </tr>\n",
       "    <tr>\n",
       "      <th>6</th>\n",
       "      <td>3</td>\n",
       "      <td>1</td>\n",
       "      <td>0</td>\n",
       "      <td>0</td>\n",
       "      <td>1.333333</td>\n",
       "    </tr>\n",
       "    <tr>\n",
       "      <th>7</th>\n",
       "      <td>3</td>\n",
       "      <td>2</td>\n",
       "      <td>0</td>\n",
       "      <td>0</td>\n",
       "      <td>0.000000</td>\n",
       "    </tr>\n",
       "    <tr>\n",
       "      <th>8</th>\n",
       "      <td>3</td>\n",
       "      <td>3</td>\n",
       "      <td>1</td>\n",
       "      <td>1</td>\n",
       "      <td>0.666667</td>\n",
       "    </tr>\n",
       "  </tbody>\n",
       "</table>\n",
       "</div>"
      ],
      "text/plain": [
       "   srch_id  prop_id  booking_bool  click_bool     lklhd\n",
       "0        1        1             1           1  1.333333\n",
       "1        1        2             0           0  0.000000\n",
       "2        1        3             0           1  0.666667\n",
       "3        2        1             1           1  1.333333\n",
       "4        2        2             0           0  0.000000\n",
       "5        2        3             0           0  0.666667\n",
       "6        3        1             0           0  1.333333\n",
       "7        3        2             0           0  0.000000\n",
       "8        3        3             1           1  0.666667"
      ]
     },
     "metadata": {},
     "output_type": "display_data"
    }
   ],
   "source": [
    "def target_function(data_frame):\n",
    "    #lklhd = hotel_booking_likelihood(data_frame)\n",
    "    #data_frame_out = data_frame.merge(lklhd, how='left', left_on='prop_id', right_on='prop_id')\n",
    "    \n",
    "    #x = data_frame['lklhd'].values #0.26-0.28\n",
    "    #x = grades(data_frame) + data_frame['lklhd'].values #same as grading 1 click 5 book\n",
    "    x = grades(data_frame) \n",
    "    \n",
    "    #x = (data_frame['click_bool'] + data_frame['booking_bool']*4)*np.log2(data_frame['position'] + 2) + data_frame['lklhd'].values\n",
    "    #x = (data_frame['click_bool'] + 4*data_frame['booking_bool'])*(data_frame['position'] + 1)*(1+data_frame['lklhd'].values)#*(data_frame['gross_bookings_usd']+1) \n",
    "\n",
    "    return x\n",
    "\n",
    "\n",
    "def hotel_booking_likelihood(data_frame=[]):\n",
    "    \"\"\"\"\"\"\n",
    "    lklhd = data_frame.groupby('prop_id').sum().reset_index()\n",
    "    lklhd = lklhd[['prop_id','booking_bool', 'click_bool']]\n",
    "    \n",
    "    lklhd['lklhd'] = lklhd['booking_bool'] + lklhd['click_bool']\n",
    "    \n",
    "    counts = data_frame.groupby('prop_id').size().reset_index(name='counts')\n",
    "    \n",
    "    # normalize by total counts of total amounts prop_id\n",
    "    lklhd['lklhd'] = lklhd['lklhd']/counts['counts']\n",
    "    lklhd.drop(columns=['booking_bool', 'click_bool'], inplace=True)\n",
    " \n",
    "    return lklhd\n",
    "\n",
    "def cross_hotel_booking_likelihood(train_frame, test_frame):\n",
    "    x = test['prop_id']\n",
    "    y = train['prop_id']\n",
    "    common = set(x).intersection(set(y))\n",
    "    \n",
    "    lklhd = hotel_booking_likelihood(data_frame=train_frame)\n",
    "    \n",
    "    x = train_frame['prop_id']\n",
    "    y = test_frame['prop_id']\n",
    "    \n",
    "    # evaluate the likelihood only for the interesection of hotels\n",
    "    common = list(set(x).intersection(set(y)))\n",
    "    commonDf = pd.DataFrame({'prop_id':common})\n",
    "    \n",
    "    lklhd_intersection = commonDf.merge(lklhd, how='left', left_on='prop_id', right_on='prop_id')\n",
    "    \n",
    "    train_frame_out = train_frame.merge(lklhd_intersection, how='left', left_on='prop_id', right_on='prop_id')\n",
    "    test_frame_out = test_frame.merge(lklhd_intersection, how='left', left_on='prop_id', right_on='prop_id')\n",
    "    \n",
    "    #apply value to \"nones\" values\n",
    "    median_lklhd = test_frame_out['lklhd'].median()\n",
    "    \n",
    "    mask  = test_frame_out['lklhd'].isnull()\n",
    "    test_frame_out.loc[mask, 'lklhd'] =  median_lklhd\n",
    "    mask  = train_frame_out['lklhd'].isnull()\n",
    "    train_frame_out.loc[mask, 'lklhd'] = median_lklhd\n",
    "    \n",
    "    assert len(test_frame_out)==len(test_frame)\n",
    "    assert len(train_frame_out)==len(train_frame)\n",
    "    assert test_frame_out['lklhd'].isnull().sum() == 0\n",
    "    return train_frame_out, test_frame_out\n",
    "\n",
    "\n",
    "# unit tests\n",
    "train_unit = pd.DataFrame({'srch_id':[1,1,1,2,2,2,3,3,3], \n",
    "                           'prop_id':[1,2,3,1,2,3,1,2,3],\n",
    "                      'booking_bool':[1,0,0,1,0,0,0,0,1],\n",
    "                        'click_bool':[1,0,1,1,0,0,0,0,1]})\n",
    "\n",
    "test_unit = pd.DataFrame({'srch_id':[1,1,1,2,2,2,3,3,3], \n",
    "                          'prop_id':[1,2,4,1,2,4,1,2,4],\n",
    "                     'booking_bool':[1,0,0,1,0,0,0,0,1],\n",
    "                       'click_bool':[1,0,1,1,0,0,0,0,1]})\n",
    "\n",
    "lklhd = hotel_booking_likelihood(data_frame=train_unit)\n",
    "#display(lklhd)\n",
    "#display(train_unit)\n",
    "mask=train_unit['prop_id']==1\n",
    "#display(train_unit[mask])\n",
    "assert lklhd.loc[0, 'lklhd'] == 4/3\n",
    "assert lklhd.loc[2, 'lklhd'] == 1\n",
    "\n",
    "train_unit_out, test_unit_out = cross_hotel_booking_likelihood(train_unit, test_unit)\n",
    "display(train_unit_out)\n",
    "\n",
    "assert train_unit_out.loc[2, 'lklhd'] == 2/3#median value\n",
    "assert test_unit_out.loc[2, 'lklhd'] == 2/3\n",
    "\n"
   ]
  },
  {
   "cell_type": "markdown",
   "id": "d4d6dc32",
   "metadata": {},
   "source": [
    "### features engeneering"
   ]
  },
  {
   "cell_type": "code",
   "execution_count": 7,
   "id": "2c746f78",
   "metadata": {},
   "outputs": [],
   "source": [
    "def features_engeneering(data_frame):\n",
    "    data_frame['month'] = pd.DatetimeIndex(pd.to_datetime(data_frame['date_time'])).month\n",
    "    data_frame = data_frame.sort_values(by=['srch_id', 'price_usd'], ascending=[True,  False])#.reset_index(drop=True)\n",
    "    data_frame['price_order'] = data_frame.groupby('srch_id').cumcount()\n",
    "\n",
    "    for i in ['orig_destination_distance']:\n",
    "        data_frame[i] = data_frame[i].fillna(100)#(data_frame[i].max())\n",
    "    \n",
    "    for i in ['prop_review_score', 'prop_location_score2']:#, 'comp1_rate', 'comp2_rate', 'comp3_rate', 'comp4_rate', 'comp5_rate', 'comp6_rate', 'comp7_rate', 'comp8_rate']:\n",
    "        data_frame[i] = data_frame[i].fillna(-1)\n",
    "    \n",
    "    #for i in ['comp1_rate', 'comp2_rate', 'comp3_rate', 'comp4_rate', 'comp5_rate', 'comp6_rate', 'comp7_rate', 'comp8_rate']:\n",
    "    #    data_frame[i] = data_frame[i].fillna(0)\n",
    "    \n",
    "    #for i in ['comp1_inv', 'comp2_inv', 'comp3_inv', 'comp4_inv', 'comp5_inv', 'comp6_inv', 'comp7_inv', 'comp8_inv']:\n",
    "    #    data_frame[i] = data_frame[i].fillna(1)\n",
    "    \n",
    "    data_frame = is_cheaper(data_frame)\n",
    "    \n",
    "    min_affinity = data_frame['srch_query_affinity_score'].min()\n",
    "    data_frame['srch_query_affinity_score'] = data_frame['srch_query_affinity_score'].fillna(min_affinity)\n",
    "    \n",
    "    \n",
    "    price_per_country_median = data_frame.groupby('prop_country_id').median().reset_index()\n",
    "    price_per_country_median = price_per_country_median[['prop_country_id','price_usd']]\n",
    "    price_per_country_median = price_per_country_median.rename(columns={\"price_usd\": \"price_per_country_median\"})\n",
    "    \n",
    "    price_per_query_max = data_frame.groupby('srch_id').max().reset_index()\n",
    "    price_per_query_max = price_per_query_max[['srch_id','price_usd']]\n",
    "    price_per_query_max = price_per_query_max.rename(columns={\"price_usd\": \"price_per_query_max\"})\n",
    "\n",
    "    data_frame = data_frame.merge(price_per_country_median, how='left', left_on='prop_country_id', right_on='prop_country_id')\n",
    "    data_frame = data_frame.merge(price_per_query_max, how='left', left_on='srch_id', right_on='srch_id')\n",
    "    \n",
    "    # apply maximum price for missing values\n",
    "    mask = data_frame['price_usd'] == 0\n",
    "    data_frame.loc[mask, 'price_usd'] = data_frame.loc[mask, 'price_per_query_max']\n",
    "    \n",
    "    mask_log_0 = data_frame['prop_log_historical_price']==0 #no data assume same price\n",
    " \n",
    "    data_frame['delta_log_price'] = np.log(data_frame['price_usd']) - data_frame['prop_log_historical_price']\n",
    "    data_frame.loc[mask_log_0, 'delta_log_price'] = 0\n",
    "     \n",
    "    # normalization\n",
    "    data_frame['price_usd_normalized'] = data_frame['price_usd']/data_frame['price_per_country_median']\n",
    "    \n",
    "    # normalise by number of persons\n",
    "    number_of_person = (data_frame['srch_adults_count'] + data_frame['srch_children_count']/2)\n",
    "    data_frame['price_per_person'] = data_frame['price_usd']/number_of_person\n",
    "    \n",
    "    return data_frame\n",
    "\n",
    "def undersample(data_frame, number_of_lines):\n",
    "    \"\"\" \n",
    "    Keeps first number_of_lines in the \n",
    "    group srch_id and removes the rest\"\"\"\n",
    "    data_frame = data_frame.sort_values(by=['srch_id', 'booking_bool', 'click_bool'], ascending=[True,  False, False]).reset_index(drop=True)\n",
    "    df = data_frame[['srch_id']]\n",
    "    x = df.groupby('srch_id').cumcount()# cummulative counting of group members\n",
    "    data_frame.loc[:, 'group_index'] = x\n",
    "    mask = data_frame['group_index']<number_of_lines\n",
    "    data_frame = data_frame[mask]\n",
    "    data_frame = data_frame.reset_index(drop=True)\n",
    "    data_frame = data_frame.sort_values(by=['srch_id', 'booking_bool', 'click_bool'], ascending=[True,  False, False]).reset_index(drop=True)\n",
    "    data_frame.drop(columns='group_index', inplace=True)\n",
    "\n",
    "    return data_frame\n",
    "\n",
    "\"\"\" unit test undersample \"\"\"\n",
    "data_frame_test = pd.DataFrame({ 'prop_id' : range(1, 11),\\\n",
    "                                'srch_id':[1, 1, 1, 1, 1, 1, 2, 2, 2, 2], \\\n",
    "                          'booking_bool': [0, 0, 0, 0, 0 ,1, 0, 0, 0, 0],\n",
    "                            'click_bool': [0, 0, 0, 0, 1 ,1, 0, 0, 1, 0]})\n",
    "df_test_out = pd.DataFrame({'prop_id' : [6, 5, 1, 2, 9, 7, 8, 10 ],\n",
    "                             'srch_id': [1, 1, 1, 1 ,2, 2, 2, 2], \n",
    "                        'booking_bool': [1, 0, 0, 0, 0 ,0, 0, 0], \n",
    "                          'click_bool': [1, 1, 0, 0, 1 ,0, 0, 0]})\n",
    "def is_cheaper(df):\n",
    "    # Drop all other comp columns, except for \"rate\"\n",
    "    df = df.drop(df.filter(regex='(comp._inv|comp._rate.+)').columns, axis=1)\n",
    "    # Create new col\n",
    "    df['comp_cheaper'] = np.nan\n",
    "    \n",
    "    df_filter_comp = train.filter(regex='comp') \n",
    "    df['comp_cheaper'] = df['comp_cheaper'].mask((df_filter_comp== 0).any(axis=1),0).mask((df_filter_comp < 0).any(axis=1), -1).mask((df_filter_comp>0).any(axis=1), 1)\n",
    "    # Drop old comp cols\n",
    "    df = df.drop(df.filter(regex='comp._rate').columns, axis=1)\n",
    "    df['comp_cheaper'] = df['comp_cheaper'].fillna(0)\n",
    "\n",
    "    return df\n",
    "\n",
    "df_out = undersample(data_frame_test, 4)                             \n",
    "check = df_test_out==df_out\n",
    "assert check.values.prod()==True, 'undersample failed'\n",
    "\n"
   ]
  },
  {
   "cell_type": "markdown",
   "id": "3bf6c0eb",
   "metadata": {},
   "source": [
    "### Total columns"
   ]
  },
  {
   "cell_type": "code",
   "execution_count": 8,
   "id": "474a3f37",
   "metadata": {},
   "outputs": [
    {
     "name": "stdout",
     "output_type": "stream",
     "text": [
      "train length: 4958347\n",
      "test length: 4959183\n",
      "booked amount: 138390\n",
      "clicked but not booked: 83489\n",
      "total/booked: 35.82879543319604\n",
      "columns: 54\n"
     ]
    }
   ],
   "source": [
    "train_amount = len(train)\n",
    "print(f'train length: {train_amount}')\n",
    "print(f'test length: {len(test)}')\n",
    "mask = train['booking_bool']==True\n",
    "booked_amount = len(train[mask])\n",
    "print(f'booked amount: {booked_amount}')\n",
    "mask = (train['booking_bool']==False) & (train['click_bool']==True)\n",
    "clicked_amount = len(train[mask])\n",
    "print(f'clicked but not booked: {clicked_amount}')\n",
    "print(f'total/booked: {train_amount/booked_amount}')\n",
    "print(f'columns: {len(train.columns)}')\n"
   ]
  },
  {
   "cell_type": "markdown",
   "id": "fb0521ba",
   "metadata": {},
   "source": [
    "### Total null columns and filling nulls in train"
   ]
  },
  {
   "cell_type": "code",
   "execution_count": 9,
   "id": "0be96911",
   "metadata": {},
   "outputs": [
    {
     "data": {
      "text/plain": [
       "prop_location_score1    6.97\n",
       "prop_location_score2    1.00\n",
       "dtype: float64"
      ]
     },
     "execution_count": 9,
     "metadata": {},
     "output_type": "execute_result"
    }
   ],
   "source": [
    "mask = train['booking_bool'] == True\n",
    "train.loc[mask,['prop_location_score1', 'prop_location_score2']].max()"
   ]
  },
  {
   "cell_type": "markdown",
   "id": "27836e96",
   "metadata": {},
   "source": [
    "## Parameters\n",
    "defines parameters for running the training and predictions"
   ]
  },
  {
   "cell_type": "code",
   "execution_count": 10,
   "id": "ff79b936",
   "metadata": {},
   "outputs": [
    {
     "name": "stdout",
     "output_type": "stream",
     "text": [
      "max allowed price 1000000000.0 $\n",
      "perform_submission True \n",
      "perform_undersampling False \n"
     ]
    }
   ],
   "source": [
    "max_price_usd = train['price_usd'].median() + train['price_usd'].std()*5\n",
    "max_price_usd = 1e9\n",
    "keep_first_lines = 5\n",
    "perform_undersampling = False\n",
    "perform_submission = True\n",
    "number_of_splits = 5\n",
    "\n",
    "print(f'max allowed price {max_price_usd} $')\n",
    "print(f'perform_submission {perform_submission} ')\n",
    "print(f'perform_undersampling {perform_undersampling} ')\n"
   ]
  },
  {
   "cell_type": "markdown",
   "id": "ce17cda5",
   "metadata": {},
   "source": [
    "### Amount of hotels in data sets"
   ]
  },
  {
   "cell_type": "code",
   "execution_count": 11,
   "id": "1114ad5e",
   "metadata": {
    "scrolled": true
   },
   "outputs": [
    {
     "name": "stdout",
     "output_type": "stream",
     "text": [
      "Amount of hotels in test data 129438 \n",
      "Amount of hotels in train data 129113\n",
      "Amount of unique hotels test 7773\n",
      "Amount of unique hotels train 7448\n",
      "Amount of common hotels in train and  test 121665\n"
     ]
    }
   ],
   "source": [
    "x = test['prop_id']\n",
    "y = train['prop_id']\n",
    "unique_test = set(x) - set(y)\n",
    "unique_train = set(y) - set(x)\n",
    "common = set(x).intersection(set(y))\n",
    "print(f'Amount of hotels in test data {len(set(x))} ')\n",
    "print(f'Amount of hotels in train data {len(set(y))}')\n",
    "print(f'Amount of unique hotels test {len(unique_test)}')\n",
    "print(f'Amount of unique hotels train {len(unique_train)}')\n",
    "print(f'Amount of common hotels in train and  test {len(common)}')\n",
    "\n",
    "#train['prop_id']==unique\n"
   ]
  },
  {
   "cell_type": "code",
   "execution_count": 12,
   "id": "2d56fad2",
   "metadata": {},
   "outputs": [
    {
     "data": {
      "text/plain": [
       "0.05421686746987952"
      ]
     },
     "execution_count": 12,
     "metadata": {},
     "output_type": "execute_result"
    },
    {
     "data": {
      "image/png": "[encoded data removed]",
      "text/plain": [
       "<Figure size 432x288 with 1 Axes>"
      ]
     },
     "metadata": {
      "needs_background": "light"
     },
     "output_type": "display_data"
    }
   ],
   "source": [
    "train, test = cross_hotel_booking_likelihood(train, test)\n",
    "x = train['lklhd']#hotel_booking_likelihood(train)\n",
    "\n",
    "train['lklhd'].hist(bins=30)\n",
    "train['lklhd'].median()\n"
   ]
  },
  {
   "cell_type": "code",
   "execution_count": 13,
   "id": "27b3eb3e",
   "metadata": {},
   "outputs": [
    {
     "name": "stdout",
     "output_type": "stream",
     "text": [
      "srch_id                              0\n",
      "date_time                            0\n",
      "site_id                              0\n",
      "visitor_location_country_id          0\n",
      "visitor_hist_starrating        4706481\n",
      "visitor_hist_adr_usd           4705359\n",
      "prop_country_id                      0\n",
      "prop_id                              0\n",
      "prop_starrating                      0\n",
      "prop_review_score                 7364\n",
      "prop_brand_bool                      0\n",
      "prop_location_score1                 0\n",
      "prop_location_score2           1090348\n",
      "prop_log_historical_price            0\n",
      "position                             0\n",
      "price_usd                            0\n",
      "promotion_flag                       0\n",
      "srch_destination_id                  0\n",
      "srch_length_of_stay                  0\n",
      "srch_booking_window                  0\n",
      "srch_adults_count                    0\n",
      "srch_children_count                  0\n",
      "srch_room_count                      0\n",
      "srch_saturday_night_bool             0\n",
      "srch_query_affinity_score      4640941\n",
      "orig_destination_distance      1607782\n",
      "random_bool                          0\n",
      "comp1_rate                     4838417\n",
      "comp1_inv                      4828788\n",
      "comp1_rate_percent_diff        4863908\n",
      "comp2_rate                     2933675\n",
      "comp2_inv                      2828078\n",
      "comp2_rate_percent_diff        4402109\n",
      "comp3_rate                     3424059\n",
      "comp3_inv                      3307357\n",
      "comp3_rate_percent_diff        4485550\n",
      "comp4_rate                     4650969\n",
      "comp4_inv                      4614684\n",
      "comp4_rate_percent_diff        4827261\n",
      "comp5_rate                     2735974\n",
      "comp5_inv                      2598327\n",
      "comp5_rate_percent_diff        4117248\n",
      "comp6_rate                     4718190\n",
      "comp6_inv                      4697371\n",
      "comp6_rate_percent_diff        4862173\n",
      "comp7_rate                     4642999\n",
      "comp7_inv                      4601925\n",
      "comp7_rate_percent_diff        4819832\n",
      "comp8_rate                     3041693\n",
      "comp8_inv                      2970844\n",
      "comp8_rate_percent_diff        4343617\n",
      "click_bool                           0\n",
      "gross_bookings_usd             4819957\n",
      "booking_bool                         0\n",
      "lklhd                                0\n",
      "dtype: int64\n"
     ]
    }
   ],
   "source": [
    "print(train.isnull().sum())\n"
   ]
  },
  {
   "cell_type": "code",
   "execution_count": 14,
   "id": "f89a0090",
   "metadata": {
    "scrolled": true
   },
   "outputs": [
    {
     "name": "stdout",
     "output_type": "stream",
     "text": [
      "columns not in both sets {'booking_bool', 'click_bool', 'position'}\n"
     ]
    }
   ],
   "source": [
    "train_eng = features_engeneering(train)\n",
    "test_eng = features_engeneering(test)\n",
    "\n",
    "train_eng = train_eng.dropna(axis=1)\n",
    "\n",
    "assert len(train_eng)==len(train)\n",
    "assert len(test_eng)==len(test)\n",
    "\n",
    "if perform_undersampling:\n",
    "    train_eng = undersample(train_eng, keep_first_lines) \n",
    "    ## remove outliers from price\n",
    "mask = train_eng['price_usd']<max_price_usd\n",
    "train_eng = train_eng[mask]\n",
    "\n",
    "a = set(train_eng.columns)\n",
    "len(a)\n",
    "b = set(test_eng.columns)\n",
    "print(f'columns not in both sets {a-b}')\n",
    "\n",
    "\n"
   ]
  },
  {
   "cell_type": "code",
   "execution_count": 15,
   "id": "fbf2fee1",
   "metadata": {},
   "outputs": [
    {
     "data": {
      "text/plain": [
       "<AxesSubplot:>"
      ]
     },
     "execution_count": 15,
     "metadata": {},
     "output_type": "execute_result"
    },
    {
     "data": {
      "image/png": "[encoded data removed]",
      "text/plain": [
       "<Figure size 432x288 with 1 Axes>"
      ]
     },
     "metadata": {
      "needs_background": "light"
     },
     "output_type": "display_data"
    }
   ],
   "source": [
    "mask = train_eng['booking_bool']==True\n",
    "train_eng.loc[mask, 'month'].hist()"
   ]
  },
  {
   "cell_type": "code",
   "execution_count": 16,
   "id": "e165326d",
   "metadata": {},
   "outputs": [
    {
     "data": {
      "text/plain": [
       "0         NaN\n",
       "1         NaN\n",
       "2         NaN\n",
       "3         NaN\n",
       "4         NaN\n",
       "           ..\n",
       "4958342   NaN\n",
       "4958343   NaN\n",
       "4958344   NaN\n",
       "4958345   NaN\n",
       "4958346   NaN\n",
       "Length: 4958347, dtype: float64"
      ]
     },
     "metadata": {},
     "output_type": "display_data"
    }
   ],
   "source": [
    "display(train['comp1_rate']*train['comp1_inv'])"
   ]
  },
  {
   "cell_type": "code",
   "execution_count": 17,
   "id": "23e3fba2",
   "metadata": {},
   "outputs": [
    {
     "data": {
      "text/html": [
       "<div>\n",
       "<style scoped>\n",
       "    .dataframe tbody tr th:only-of-type {\n",
       "        vertical-align: middle;\n",
       "    }\n",
       "\n",
       "    .dataframe tbody tr th {\n",
       "        vertical-align: top;\n",
       "    }\n",
       "\n",
       "    .dataframe thead th {\n",
       "        text-align: right;\n",
       "    }\n",
       "</style>\n",
       "<table border=\"1\" class=\"dataframe\">\n",
       "  <thead>\n",
       "    <tr style=\"text-align: right;\">\n",
       "      <th></th>\n",
       "      <th>month</th>\n",
       "      <th>delta_log_price</th>\n",
       "      <th>price_usd</th>\n",
       "      <th>booking_bool</th>\n",
       "      <th>price_order</th>\n",
       "      <th>price_per_country_median</th>\n",
       "      <th>price_per_query_max</th>\n",
       "      <th>price_per_person</th>\n",
       "    </tr>\n",
       "  </thead>\n",
       "  <tbody>\n",
       "    <tr>\n",
       "      <th>0</th>\n",
       "      <td>4</td>\n",
       "      <td>2.011536</td>\n",
       "      <td>602.77</td>\n",
       "      <td>0</td>\n",
       "      <td>0</td>\n",
       "      <td>119.0</td>\n",
       "      <td>602.77</td>\n",
       "      <td>150.6925</td>\n",
       "    </tr>\n",
       "    <tr>\n",
       "      <th>1</th>\n",
       "      <td>4</td>\n",
       "      <td>0.487251</td>\n",
       "      <td>280.69</td>\n",
       "      <td>0</td>\n",
       "      <td>1</td>\n",
       "      <td>119.0</td>\n",
       "      <td>602.77</td>\n",
       "      <td>70.1725</td>\n",
       "    </tr>\n",
       "    <tr>\n",
       "      <th>2</th>\n",
       "      <td>4</td>\n",
       "      <td>0.321100</td>\n",
       "      <td>210.84</td>\n",
       "      <td>0</td>\n",
       "      <td>2</td>\n",
       "      <td>119.0</td>\n",
       "      <td>602.77</td>\n",
       "      <td>52.7100</td>\n",
       "    </tr>\n",
       "    <tr>\n",
       "      <th>3</th>\n",
       "      <td>4</td>\n",
       "      <td>0.074639</td>\n",
       "      <td>195.32</td>\n",
       "      <td>0</td>\n",
       "      <td>3</td>\n",
       "      <td>119.0</td>\n",
       "      <td>602.77</td>\n",
       "      <td>48.8300</td>\n",
       "    </tr>\n",
       "    <tr>\n",
       "      <th>4</th>\n",
       "      <td>4</td>\n",
       "      <td>-0.025426</td>\n",
       "      <td>191.44</td>\n",
       "      <td>0</td>\n",
       "      <td>4</td>\n",
       "      <td>119.0</td>\n",
       "      <td>602.77</td>\n",
       "      <td>47.8600</td>\n",
       "    </tr>\n",
       "    <tr>\n",
       "      <th>...</th>\n",
       "      <td>...</td>\n",
       "      <td>...</td>\n",
       "      <td>...</td>\n",
       "      <td>...</td>\n",
       "      <td>...</td>\n",
       "      <td>...</td>\n",
       "      <td>...</td>\n",
       "      <td>...</td>\n",
       "    </tr>\n",
       "    <tr>\n",
       "      <th>95</th>\n",
       "      <td>2</td>\n",
       "      <td>-0.257349</td>\n",
       "      <td>85.00</td>\n",
       "      <td>0</td>\n",
       "      <td>9</td>\n",
       "      <td>119.0</td>\n",
       "      <td>153.00</td>\n",
       "      <td>42.5000</td>\n",
       "    </tr>\n",
       "    <tr>\n",
       "      <th>96</th>\n",
       "      <td>2</td>\n",
       "      <td>-0.197349</td>\n",
       "      <td>85.00</td>\n",
       "      <td>0</td>\n",
       "      <td>10</td>\n",
       "      <td>119.0</td>\n",
       "      <td>153.00</td>\n",
       "      <td>42.5000</td>\n",
       "    </tr>\n",
       "    <tr>\n",
       "      <th>97</th>\n",
       "      <td>2</td>\n",
       "      <td>-0.739183</td>\n",
       "      <td>84.00</td>\n",
       "      <td>0</td>\n",
       "      <td>11</td>\n",
       "      <td>119.0</td>\n",
       "      <td>153.00</td>\n",
       "      <td>42.0000</td>\n",
       "    </tr>\n",
       "    <tr>\n",
       "      <th>98</th>\n",
       "      <td>2</td>\n",
       "      <td>-0.519183</td>\n",
       "      <td>84.00</td>\n",
       "      <td>0</td>\n",
       "      <td>12</td>\n",
       "      <td>119.0</td>\n",
       "      <td>153.00</td>\n",
       "      <td>42.0000</td>\n",
       "    </tr>\n",
       "    <tr>\n",
       "      <th>99</th>\n",
       "      <td>2</td>\n",
       "      <td>-0.195551</td>\n",
       "      <td>81.00</td>\n",
       "      <td>0</td>\n",
       "      <td>13</td>\n",
       "      <td>119.0</td>\n",
       "      <td>153.00</td>\n",
       "      <td>40.5000</td>\n",
       "    </tr>\n",
       "  </tbody>\n",
       "</table>\n",
       "<p>100 rows × 8 columns</p>\n",
       "</div>"
      ],
      "text/plain": [
       "    month  delta_log_price  price_usd  booking_bool  price_order  \\\n",
       "0       4         2.011536     602.77             0            0   \n",
       "1       4         0.487251     280.69             0            1   \n",
       "2       4         0.321100     210.84             0            2   \n",
       "3       4         0.074639     195.32             0            3   \n",
       "4       4        -0.025426     191.44             0            4   \n",
       "..    ...              ...        ...           ...          ...   \n",
       "95      2        -0.257349      85.00             0            9   \n",
       "96      2        -0.197349      85.00             0           10   \n",
       "97      2        -0.739183      84.00             0           11   \n",
       "98      2        -0.519183      84.00             0           12   \n",
       "99      2        -0.195551      81.00             0           13   \n",
       "\n",
       "    price_per_country_median  price_per_query_max  price_per_person  \n",
       "0                      119.0               602.77          150.6925  \n",
       "1                      119.0               602.77           70.1725  \n",
       "2                      119.0               602.77           52.7100  \n",
       "3                      119.0               602.77           48.8300  \n",
       "4                      119.0               602.77           47.8600  \n",
       "..                       ...                  ...               ...  \n",
       "95                     119.0               153.00           42.5000  \n",
       "96                     119.0               153.00           42.5000  \n",
       "97                     119.0               153.00           42.0000  \n",
       "98                     119.0               153.00           42.0000  \n",
       "99                     119.0               153.00           40.5000  \n",
       "\n",
       "[100 rows x 8 columns]"
      ]
     },
     "metadata": {},
     "output_type": "display_data"
    }
   ],
   "source": [
    "display(train_eng[['month', 'delta_log_price', 'price_usd','booking_bool', 'price_order','price_per_country_median','price_per_query_max','price_per_person']].head(100))"
   ]
  },
  {
   "cell_type": "markdown",
   "id": "03bbe0e5",
   "metadata": {},
   "source": [
    "### Choose features to fit"
   ]
  },
  {
   "cell_type": "code",
   "execution_count": 18,
   "id": "c055b3c5",
   "metadata": {
    "scrolled": false
   },
   "outputs": [
    {
     "name": "stdout",
     "output_type": "stream",
     "text": [
      "Index(['srch_id', 'date_time', 'site_id', 'visitor_location_country_id',\n",
      "       'prop_country_id', 'prop_id', 'prop_starrating', 'prop_review_score',\n",
      "       'prop_brand_bool', 'prop_location_score1', 'prop_location_score2',\n",
      "       'prop_log_historical_price', 'position', 'price_usd', 'promotion_flag',\n",
      "       'srch_destination_id', 'srch_length_of_stay', 'srch_booking_window',\n",
      "       'srch_adults_count', 'srch_children_count', 'srch_room_count',\n",
      "       'srch_saturday_night_bool', 'srch_query_affinity_score',\n",
      "       'orig_destination_distance', 'random_bool', 'click_bool',\n",
      "       'booking_bool', 'lklhd', 'month', 'price_order', 'comp_cheaper',\n",
      "       'price_per_country_median', 'price_per_query_max', 'delta_log_price',\n",
      "       'price_usd_normalized', 'price_per_person'],\n",
      "      dtype='object')\n",
      "missing fields {'click_bool', 'price_usd_normalized', 'srch_id', 'price_per_query_max', 'date_time', 'srch_query_affinity_score', 'lklhd', 'month', 'price_per_country_median', 'price_order', 'booking_bool', 'site_id', 'price_per_person', 'position'}\n"
     ]
    }
   ],
   "source": [
    "print(train_eng.columns)#  the columns after droping\n",
    "\n",
    "\n",
    "features_to_choose = [#'srch_id', \n",
    "                      #'date_time',\n",
    "                      #'site_id',\n",
    "                      'visitor_location_country_id',\n",
    "                      'prop_country_id',\n",
    "                      'prop_id',\n",
    "                      'prop_starrating',\n",
    "                      'prop_review_score',\n",
    "                      'prop_brand_bool',\n",
    "                      'prop_location_score1',\n",
    "                      'prop_location_score2',\n",
    "                      'prop_log_historical_price',\n",
    "                      #'position',\n",
    "                      'price_usd',\n",
    "                      #'price_usd_normalized',\n",
    "                      'promotion_flag',\n",
    "                      'srch_destination_id',\n",
    "                      'srch_length_of_stay',\n",
    "                      'srch_booking_window',\n",
    "                      'srch_adults_count',\n",
    "                      'srch_children_count',\n",
    "                      'srch_room_count',\n",
    "                      'srch_saturday_night_bool',\n",
    "                      'orig_destination_distance',\n",
    "                      'random_bool',\n",
    "                      #'click_bool',\n",
    "                      #'gross_bookings_usd',\n",
    "                      #'booking_bool',\n",
    "                      #'location_score',\n",
    "                      #'historical_price',\n",
    "                      #'price_per_country_median',\n",
    "                      #'price_per_person'\n",
    "                      #'price_order',\n",
    "                      #'lklhd',\n",
    "                      #'month'\n",
    "                      'delta_log_price',\n",
    "                      'comp_cheaper',\n",
    "                      #'srch_query_affinity_score'\n",
    "                     #'comp1_rate', 'comp2_rate', 'comp3_rate', 'comp4_rate', 'comp5_rate', 'comp6_rate', 'comp7_rate', 'comp8_rate'\n",
    "                        ]                        \n",
    "missing_values = set(train_eng.columns) - set(features_to_choose)\n",
    "print(f'missing fields {missing_values}')"
   ]
  },
  {
   "cell_type": "code",
   "execution_count": 19,
   "id": "2c8759dc",
   "metadata": {},
   "outputs": [],
   "source": [
    "#from mlxtend.frequent_patterns import apriori\n",
    "#from mlxtend.frequent_patterns import association_rules\n",
    "#frequent_itemsets= apriori(df[['promotion_flag','srch_saturday_night_bool', 'random_bool', 'click_bool', 'booking_bool']], min_support=0.07, use_colnames=True)\n",
    "#rules = association_rules(frequent_itemsets, metric=\"lift\", min_threshold=1)\n",
    "#rules = rules.sort_values(by=[ 'support', 'confidence',], ascending=False)\n",
    "\n",
    "#rules[['antecedents', 'consequents','support','confidence']].iloc[0:10]\n"
   ]
  },
  {
   "cell_type": "markdown",
   "id": "1c1f539a",
   "metadata": {},
   "source": [
    "## Test and Evaluate"
   ]
  },
  {
   "cell_type": "code",
   "execution_count": 20,
   "id": "d38da186",
   "metadata": {},
   "outputs": [],
   "source": [
    "loss_function = 'absolute_error'\n",
    "loss_function = 'squared_error'\n",
    "#{‘squared_error’, ‘absolute_error’, ‘huber’, ‘quantile’}"
   ]
  },
  {
   "cell_type": "code",
   "execution_count": 21,
   "id": "bbdf3adf",
   "metadata": {},
   "outputs": [],
   "source": [
    "from sklearn import neighbors, linear_model\n",
    "from sklearn.ensemble import RandomForestRegressor\n",
    "from sklearn.tree import DecisionTreeRegressor\n",
    "from sklearn.ensemble import GradientBoostingRegressor\n",
    "\n",
    "# Fit regression model\n",
    "#model = linear_model.LinearRegression()\n",
    "#n_neighbors = 10\n",
    "#model = neighbors.KNeighborsRegressor(n_neighbors)\n",
    "#model= DecisionTreeRegressor(random_state=0)\n",
    "#model = GradientBoostingRegressor(random_state=0)\n",
    "\n",
    "########       Cross EVALUATION           ###############\n",
    "\n",
    "\"\"\"\n",
    "\n",
    "\n",
    "train_idx = int(len(train_eng)*1/2)\n",
    "evaluation_size = int(train_idx*size)\n",
    "\n",
    "X_train = train_eng.iloc[0:(train_idx-evaluation_size), :]\n",
    "X_eval = train_eng.iloc[(train_idx-evaluation_size):train_idx, :]\n",
    "X_test = train_eng.iloc[train_idx:, :]\n",
    "\"\"\"\n",
    "evaluation_set_size = 0.05\n",
    "test_set_size = 0.5\n",
    "\n",
    "search_id = train_eng[['srch_id']]\n",
    "search_id = search_id.drop_duplicates()\n",
    "X_train, X_test = train_test_split(search_id, test_size=test_set_size, random_state=42)\n",
    "X_train, X_eval = train_test_split(X_train, test_size=evaluation_set_size, random_state=42)\n",
    "\n",
    "X_train = X_train.merge(train_eng, how='left', left_on='srch_id', right_on='srch_id')\n",
    "X_eval = X_eval.merge(train_eng, how='left', left_on='srch_id', right_on='srch_id')\n",
    "X_test = X_test.merge(train_eng, how='left', left_on='srch_id', right_on='srch_id')\n"
   ]
  },
  {
   "cell_type": "markdown",
   "id": "29709242",
   "metadata": {},
   "source": [
    "### RandomForestRegressor"
   ]
  },
  {
   "cell_type": "markdown",
   "id": "d30507a5",
   "metadata": {},
   "source": [
    "#### cross validation"
   ]
  },
  {
   "cell_type": "code",
   "execution_count": 22,
   "id": "eddfdbbc",
   "metadata": {
    "scrolled": false
   },
   "outputs": [
    {
     "name": "stdout",
     "output_type": "stream",
     "text": [
      "cross_validation average 0.2504378923094427\n",
      "The time of evaluation fit: 12.45157527923584\n",
      "cross_validation average 0.3195702659991638\n",
      "The time of evaluation fit: 19.41985011100769\n",
      "cross_validation average 0.32341787917782805\n",
      "The time of evaluation fit: 26.491362810134888\n",
      "cross_validation average 0.31712609405791703\n",
      "The time of evaluation fit: 34.07856249809265\n",
      "exit before the end\n",
      "Optimal depth: 7\n",
      "score: 0.32341787917782805\n"
     ]
    },
    {
     "data": {
      "image/png": "[encoded data removed]",
      "text/plain": [
       "<Figure size 432x288 with 1 Axes>"
      ]
     },
     "metadata": {
      "needs_background": "light"
     },
     "output_type": "display_data"
    }
   ],
   "source": [
    "x = []\n",
    "depth = [x for x in range(3,15) if x % 2 != 0]\n",
    "prev_ndgc = 0\n",
    "for i in depth:\n",
    "    start = time.time()\n",
    "    model = RandomForestRegressor(max_depth=i, criterion=loss_function, random_state=0, n_jobs=-1)\n",
    "    #model = RandomForestRegressor(max_depth=i, random_state=0, n_jobs=-1)\n",
    "    ndcg_score = my_cross_validation(model, X=X_eval, features_to_choose=features_to_choose, n_splits=number_of_splits)\n",
    "    end = time.time()\n",
    "    print(\"The time of evaluation fit:\", end-start)\n",
    "    x.append(ndcg_score)\n",
    "    if ndcg_score<prev_ndgc:\n",
    "        print('exit before the end')\n",
    "        break    # break here\n",
    "    prev_ndgc=ndcg_score\n",
    "    \n",
    "optimal_score_index = x.index(max(x))\n",
    "optimal_depth = depth[optimal_score_index]\n",
    "print(f'Optimal depth: {optimal_depth}')\n",
    "print(f'score: {max(x)}')\n",
    "\n",
    "plt.plot(depth[0:len(x)], x)\n",
    "plt.xlabel('depth')\n",
    "plt.ylabel('ndcg_score')\n",
    "plt.show()"
   ]
  },
  {
   "cell_type": "markdown",
   "id": "047a2b7b",
   "metadata": {},
   "source": [
    "### GradientBoostingRegressor"
   ]
  },
  {
   "cell_type": "code",
   "execution_count": 23,
   "id": "5a498669",
   "metadata": {
    "scrolled": true
   },
   "outputs": [
    {
     "name": "stdout",
     "output_type": "stream",
     "text": [
      "cross_validation average 0.23761477106160878\n",
      "The time of evaluation fit: 5.768224716186523\n",
      "cross_validation average 0.2782982900023284\n",
      "The time of evaluation fit: 10.668699502944946\n",
      "cross_validation average 0.3120563842864422\n",
      "The time of evaluation fit: 19.93030071258545\n",
      "cross_validation average 0.33327577853773105\n",
      "The time of evaluation fit: 28.92666792869568\n",
      "cross_validation average 0.3368735511894094\n",
      "The time of evaluation fit: 40.744057178497314\n",
      "cross_validation average 0.34004959585076594\n",
      "The time of evaluation fit: 58.170198917388916\n",
      "cross_validation average 0.3405064140935035\n",
      "The time of evaluation fit: 66.19642567634583\n",
      "cross_validation average 0.33880150840369055\n",
      "The time of evaluation fit: 84.44834208488464\n",
      "exit before the end\n",
      "Optimal n estimators: 70\n",
      "score: 0.3405064140935035\n"
     ]
    },
    {
     "data": {
      "image/png": "[encoded data removed]",
      "text/plain": [
       "<Figure size 432x288 with 1 Axes>"
      ]
     },
     "metadata": {
      "needs_background": "light"
     },
     "output_type": "display_data"
    }
   ],
   "source": [
    "x = []\n",
    "n_estimators = [5, 10, 20, 30, 40, 60, 70, 90, 100, 110, 120, 130]\n",
    "prev_ndgc = 0\n",
    "for i in n_estimators:\n",
    "    start = time.time()\n",
    "    model = GradientBoostingRegressor(loss=loss_function, n_estimators = i, random_state=0)\n",
    "    ndcg_score = my_cross_validation(model, X_eval, \\\n",
    "                features_to_choose, n_splits=number_of_splits)\n",
    "    end = time.time()\n",
    "    print(\"The time of evaluation fit:\", end-start)\n",
    "    x.append(ndcg_score)\n",
    "    if ndcg_score<prev_ndgc:\n",
    "        print('exit before the end')\n",
    "        break    # break here\n",
    "    prev_ndgc=ndcg_score\n",
    "    \n",
    "optimal_score_index = x.index(max(x))\n",
    "optimal_n = n_estimators[optimal_score_index]\n",
    "print(f'Optimal n estimators: {optimal_n}')\n",
    "print(f'score: {max(x)}')\n",
    "plt.plot(n_estimators[0:len(x)], x)\n",
    "plt.xlabel('n_estimators')\n",
    "plt.ylabel('ndcg_score')\n",
    "plt.show()\n"
   ]
  },
  {
   "cell_type": "markdown",
   "id": "d67fce91",
   "metadata": {},
   "source": [
    "### Testing Random Forest"
   ]
  },
  {
   "cell_type": "code",
   "execution_count": 24,
   "id": "483fe2ad",
   "metadata": {},
   "outputs": [
    {
     "name": "stdout",
     "output_type": "stream",
     "text": [
      "Validation time and score RandomForestRegressor: 222.7759358882904, 0.3276289666150868\n"
     ]
    }
   ],
   "source": [
    "##\n",
    "start = time.time()\n",
    "model_random_forest = RandomForestRegressor(max_depth=optimal_depth, criterion=loss_function, random_state=0, n_jobs=-1)\n",
    "ndcg_score = evaluate_model(model_random_forest, X_train, X_test, features_to_choose)\n",
    "end = time.time()\n",
    "print(f'Validation time and score RandomForestRegressor: {end-start}, {ndcg_score}')"
   ]
  },
  {
   "cell_type": "markdown",
   "id": "b4293a35",
   "metadata": {},
   "source": [
    "### Testing Gradient Boosting"
   ]
  },
  {
   "cell_type": "code",
   "execution_count": 25,
   "id": "a5c14a0e",
   "metadata": {
    "scrolled": false
   },
   "outputs": [
    {
     "name": "stdout",
     "output_type": "stream",
     "text": [
      "Validation time and score GradientBoostingRegressor: 400.89328479766846, 0.3494816861571217\n"
     ]
    }
   ],
   "source": [
    "start = time.time()\n",
    "model_gradient_boosting = GradientBoostingRegressor(n_estimators=optimal_n,loss=loss_function, random_state=0)\n",
    "ndcg_score = evaluate_model(model_gradient_boosting, X_train, X_test, features_to_choose)\n",
    "end = time.time()\n",
    "print(f'Validation time and score GradientBoostingRegressor: {end-start}, {ndcg_score}')"
   ]
  },
  {
   "cell_type": "markdown",
   "id": "846e51eb",
   "metadata": {},
   "source": [
    "## Fit and submit "
   ]
  },
  {
   "cell_type": "code",
   "execution_count": 26,
   "id": "96fb49ae",
   "metadata": {
    "scrolled": true
   },
   "outputs": [],
   "source": [
    "assert perform_submission"
   ]
  },
  {
   "cell_type": "markdown",
   "id": "d6b85a85",
   "metadata": {},
   "source": [
    "### GradientBoostingRegressor"
   ]
  },
  {
   "cell_type": "code",
   "execution_count": 27,
   "id": "b879331a",
   "metadata": {},
   "outputs": [
    {
     "name": "stdout",
     "output_type": "stream",
     "text": [
      "The time of final fit GradientBoostingRegressor: 846.0930593013763\n",
      "mv: cannot stat 'submission.csv.zip': No such file or directory\n",
      "updating: GradientBoostingRegressorsubmission.csv (deflated 67%)\n"
     ]
    },
    {
     "data": {
      "text/plain": [
       "['visitor_location_country_id',\n",
       " 'prop_country_id',\n",
       " 'prop_id',\n",
       " 'prop_starrating',\n",
       " 'prop_review_score',\n",
       " 'prop_brand_bool',\n",
       " 'prop_location_score1',\n",
       " 'prop_location_score2',\n",
       " 'prop_log_historical_price',\n",
       " 'price_usd',\n",
       " 'promotion_flag',\n",
       " 'srch_destination_id',\n",
       " 'srch_length_of_stay',\n",
       " 'srch_booking_window',\n",
       " 'srch_adults_count',\n",
       " 'srch_children_count',\n",
       " 'srch_room_count',\n",
       " 'srch_saturday_night_bool',\n",
       " 'orig_destination_distance',\n",
       " 'random_bool',\n",
       " 'delta_log_price',\n",
       " 'comp_cheaper']"
      ]
     },
     "execution_count": 27,
     "metadata": {},
     "output_type": "execute_result"
    }
   ],
   "source": [
    "start = time.time()\n",
    "raitings = my_fit_and_predict(model_gradient_boosting, train_eng, test_eng, features_to_choose)\n",
    "end = time.time()\n",
    "print(\"The time of final fit GradientBoostingRegressor:\", end-start)\n",
    "create_submission(test_eng, raitings, 'GradientBoostingRegressor')\n",
    "assert len(raitings)==len(test)\n",
    "features_to_choose"
   ]
  },
  {
   "cell_type": "markdown",
   "id": "db0737fe",
   "metadata": {},
   "source": [
    "### RandomForestRegressor"
   ]
  },
  {
   "cell_type": "code",
   "execution_count": 28,
   "id": "3984d0b7",
   "metadata": {},
   "outputs": [
    {
     "name": "stdout",
     "output_type": "stream",
     "text": [
      "The time of final fit RandomForestRegressor: 516.8055431842804\n",
      "mv: cannot stat 'submission.csv.zip': No such file or directory\n",
      "updating: RandomForestRegressorsubmission.csv (deflated 67%)\n"
     ]
    },
    {
     "data": {
      "text/plain": [
       "['visitor_location_country_id',\n",
       " 'prop_country_id',\n",
       " 'prop_id',\n",
       " 'prop_starrating',\n",
       " 'prop_review_score',\n",
       " 'prop_brand_bool',\n",
       " 'prop_location_score1',\n",
       " 'prop_location_score2',\n",
       " 'prop_log_historical_price',\n",
       " 'price_usd',\n",
       " 'promotion_flag',\n",
       " 'srch_destination_id',\n",
       " 'srch_length_of_stay',\n",
       " 'srch_booking_window',\n",
       " 'srch_adults_count',\n",
       " 'srch_children_count',\n",
       " 'srch_room_count',\n",
       " 'srch_saturday_night_bool',\n",
       " 'orig_destination_distance',\n",
       " 'random_bool',\n",
       " 'delta_log_price',\n",
       " 'comp_cheaper']"
      ]
     },
     "execution_count": 28,
     "metadata": {},
     "output_type": "execute_result"
    }
   ],
   "source": [
    "start = time.time()\n",
    "raitings = my_fit_and_predict(model_random_forest, train_eng, test_eng, features_to_choose)\n",
    "end = time.time()\n",
    "print(\"The time of final fit RandomForestRegressor:\", end-start)\n",
    "create_submission(test_eng, raitings, 'RandomForestRegressor')\n",
    "assert len(raitings)==len(test)\n",
    "features_to_choose"
   ]
  },
  {
   "cell_type": "code",
   "execution_count": 29,
   "id": "df43e7e8",
   "metadata": {},
   "outputs": [
    {
     "data": {
      "text/plain": [
       "4959183"
      ]
     },
     "execution_count": 29,
     "metadata": {},
     "output_type": "execute_result"
    }
   ],
   "source": [
    "len(raitings)"
   ]
  },
  {
   "cell_type": "code",
   "execution_count": 30,
   "id": "2e29350e",
   "metadata": {},
   "outputs": [
    {
     "data": {
      "text/plain": [
       "array([0.2126106 , 0.24655185, 0.23150534, ..., 0.6859034 , 0.36680771,\n",
       "       0.39257068])"
      ]
     },
     "metadata": {},
     "output_type": "display_data"
    }
   ],
   "source": [
    "display(raitings)"
   ]
  },
  {
   "cell_type": "code",
   "execution_count": 31,
   "id": "22dfbb28",
   "metadata": {},
   "outputs": [
    {
     "data": {
      "text/plain": [
       "['visitor_location_country_id',\n",
       " 'prop_country_id',\n",
       " 'prop_id',\n",
       " 'prop_starrating',\n",
       " 'prop_review_score',\n",
       " 'prop_brand_bool',\n",
       " 'prop_location_score1',\n",
       " 'prop_location_score2',\n",
       " 'prop_log_historical_price',\n",
       " 'price_usd',\n",
       " 'promotion_flag',\n",
       " 'srch_destination_id',\n",
       " 'srch_length_of_stay',\n",
       " 'srch_booking_window',\n",
       " 'srch_adults_count',\n",
       " 'srch_children_count',\n",
       " 'srch_room_count',\n",
       " 'srch_saturday_night_bool',\n",
       " 'orig_destination_distance',\n",
       " 'random_bool',\n",
       " 'delta_log_price',\n",
       " 'comp_cheaper']"
      ]
     },
     "execution_count": 31,
     "metadata": {},
     "output_type": "execute_result"
    }
   ],
   "source": [
    "features_to_choose"
   ]
  },
  {
   "cell_type": "code",
   "execution_count": null,
   "id": "c6ddda95",
   "metadata": {},
   "outputs": [],
   "source": []
  }
 ],
 "metadata": {
  "kernelspec": {
   "display_name": "Python 3 (ipykernel)",
   "language": "python",
   "name": "python3"
  },
  "language_info": {
   "codemirror_mode": {
    "name": "ipython",
    "version": 3
   },
   "file_extension": ".py",
   "mimetype": "text/x-python",
   "name": "python",
   "nbconvert_exporter": "python",
   "pygments_lexer": "ipython3",
   "version": "3.7.10"
  }
 },
 "nbformat": 4,
 "nbformat_minor": 5
}
