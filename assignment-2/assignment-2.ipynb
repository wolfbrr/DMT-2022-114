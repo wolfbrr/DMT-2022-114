{
 "cells": [
  {
   "cell_type": "markdown",
   "id": "ab796d9b",
   "metadata": {},
   "source": [
    "### imports"
   ]
  },
  {
   "cell_type": "code",
   "execution_count": 1,
   "id": "3cec730f",
   "metadata": {},
   "outputs": [],
   "source": [
    "import numpy as np\n",
    "import pandas as pd \n",
    "import seaborn as sns\n",
    "import time\n",
    "from sklearn.model_selection import train_test_split, cross_val_score, KFold\n",
    "from sklearn.preprocessing import normalize\n",
    "import matplotlib.pyplot as plt\n",
    "import pickle\n",
    "\n"
   ]
  },
  {
   "cell_type": "markdown",
   "id": "1b8423ac",
   "metadata": {},
   "source": [
    "### load training and testing sets"
   ]
  },
  {
   "cell_type": "code",
   "execution_count": 2,
   "id": "730774e3",
   "metadata": {},
   "outputs": [],
   "source": [
    "#if loaded train file exists\n",
    "try:\n",
    "    with open('data/train-data.pickle', 'rb') as handle:\n",
    "        train = pickle.load(handle)\n",
    "#if not load and save\n",
    "except:\n",
    "    !unzip data/training_set_VU_DM.csv.zip\n",
    "    train = pd.read_csv('training_set_VU_DM.csv')\n",
    "    !rm training_set_VU_DM.csv\n",
    "    with open('data/train-data.pickle', 'wb') as handle:\n",
    "        pickle.dump(train, handle)\n",
    "\n",
    "#if loaded test file exists\n",
    "try:\n",
    "    with open('data/test-data.pickle', 'rb') as handle:\n",
    "        test = pickle.load(handle)\n",
    "#if not load and save\n",
    "except:\n",
    "    !unzip data/test_set_VU_DM.csv.zip\n",
    "    test = pd.read_csv('test_set_VU_DM.csv')\n",
    "    !rm test_set_VU_DM.csv\n",
    "    with open('data/test-data.pickle', 'wb') as handle:\n",
    "        pickle.dump(test, handle)"
   ]
  },
  {
   "cell_type": "markdown",
   "id": "4fb12627",
   "metadata": {},
   "source": [
    "### Functions"
   ]
  },
  {
   "cell_type": "markdown",
   "id": "10b60d3e",
   "metadata": {},
   "source": [
    "#### Submission"
   ]
  },
  {
   "cell_type": "code",
   "execution_count": 3,
   "id": "bd35fde9",
   "metadata": {},
   "outputs": [],
   "source": [
    "def create_submission(test_data, property_predicted_score):\n",
    "    !mv submission.csv.zip prev.submission.zip\n",
    "    test_data['raiting'] = property_predicted_score\n",
    "    submition_data = test_data[['srch_id','prop_id','raiting']]\n",
    "    submition_data = submition_data.sort_values(by=['srch_id', 'raiting'], ascending=[True,  False])\n",
    "    submition_data = submition_data.drop(columns=\"raiting\")\n",
    "    submition_data.to_csv('submission.csv', index=False)\n",
    "    !zip submission.csv.zip  submission.csv\n",
    "    !rm submission.csv"
   ]
  },
  {
   "cell_type": "markdown",
   "id": "97ac4a50",
   "metadata": {},
   "source": [
    "#### ranking"
   ]
  },
  {
   "cell_type": "code",
   "execution_count": 4,
   "id": "5299dd95",
   "metadata": {},
   "outputs": [
    {
     "name": "stdout",
     "output_type": "stream",
     "text": [
      "ndcg_@5 0.5\n"
     ]
    }
   ],
   "source": [
    "def discountedCumulativeGain(result, k=5):\n",
    "    \"\"\"\n",
    "    Evaluated per query\n",
    "    taken from \n",
    "    https://towardsdatascience.com/normalized-discounted-cumulative-gain-37e6f75090e9\n",
    "    \"\"\"\n",
    "    dcg = []\n",
    "    for idx, val in enumerate(result[0:k]): \n",
    "        #numerator = (2**val) - 1\n",
    "        numerator = val\n",
    "        # add 2 because python 0-index\n",
    "        denominator =  np.log2(idx + 2) \n",
    "        score = numerator/denominator\n",
    "        dcg.append(score)\n",
    "    return sum(dcg)\n",
    "\n",
    "\n",
    "def NDCG_at_k(X, ranking, ideal_ranking, k=5, verbose=True):\n",
    "    d = {'srch_id': X['srch_id'], 'ranking': ranking, 'true_ranking': ideal_ranking}\n",
    "    df = pd.DataFrame(data=d)\n",
    "    df = df.sort_values(by=['srch_id', 'ranking'], ascending=[True,  False])\n",
    "\n",
    "    NDCG  = df.groupby('srch_id').aggregate\\\n",
    "    (ndcg=(\"true_ranking\", lambda x: discountedCumulativeGain(x, k)))\n",
    "\n",
    "    df = df.sort_values(by=['srch_id', 'true_ranking'], ascending=[True,  False])\n",
    "    INDCG  = df.groupby('srch_id').aggregate\\\n",
    "    (indcg=(\"true_ranking\", lambda x: discountedCumulativeGain(x, k)))\n",
    "    INDCG = INDCG[INDCG['indcg']!=0]\n",
    "    x = NDCG['ndcg']/INDCG['indcg']# true ranking has the information regarding actual booking\n",
    "    \n",
    "    if verbose:\n",
    "        print(f'ndcg_@{k} {x.mean()}')\n",
    "\n",
    "    return x.mean()\n",
    "\n",
    "d = {'srch_id': [1, 1, 1, 1, 1, 1]}\n",
    "df = pd.DataFrame(data=d)\n",
    "ndcg_score = NDCG_at_k(df, ranking=[5, 0, 0, 0, 0, 0], ideal_ranking=[0, 0, 5, 0, 0, 0], k=5)\n",
    "\n",
    "#assert discountedCumulativeGain([0,0,5], k=5)==((2**5-1)/np.log2(4) ) , \"assertion discountedCumulativeGain wrong\"\n",
    "assert discountedCumulativeGain([0,0,5], k=5)==(5/np.log2(4) ) , \"assertion discountedCumulativeGain wrong\"\n",
    "assert ndcg_score == (5/np.log2(4))/5 , \"assertion ndcg wrong\"\n"
   ]
  },
  {
   "cell_type": "code",
   "execution_count": 5,
   "id": "2c746f78",
   "metadata": {},
   "outputs": [],
   "source": [
    "def my_fit_and_predict(model, train_set=[], test_set=[], features_to_choose=[], price_max=[]):\n",
    "    #x = test_set['prop_id']\n",
    "    #y = train_set['prop_id']\n",
    "    #print(f'% of unique hotels in train and not in test {len(set(x) - set(y))/len(set(x))}')\n",
    "\n",
    "    X_train, X_test = hotel_booking_likelihood(train_set, test_set)\n",
    "    #X_train, X_test = (train_set, test_set)\n",
    "    \n",
    "    ## remove outliers from price\n",
    "    mask = X_train['price_usd']<price_max\n",
    "    X_train = X_train[mask]\n",
    "    model.fit(X_train[features_to_choose], target_function(X_train))\n",
    "    Y_predict = model.predict(X_test[features_to_choose])\n",
    "\n",
    "    return Y_predict\n",
    "\n",
    "def my_cross_validation(model, X, features_to_choose, n_splits=5, price_max=[]):\n",
    "    \n",
    "    kfold = KFold(n_splits=n_splits)\n",
    "    ndcg_score = 0\n",
    "    for train, test in kfold.split(X):\n",
    "        X_train, X_test = X.iloc[train, :], X.iloc[test, :]\n",
    "        Y_evaluation = my_fit_and_predict(model, X_train, X_test, features_to_choose, price_max)\n",
    "        Y_target = target_function(X_test)\n",
    "        ndcg_score += NDCG_at_k(X_test, ranking=Y_evaluation, ideal_ranking=Y_target, k=5, verbose=False)\n",
    "    \n",
    "    average = ndcg_score/n_splits\n",
    "    print(f'cross_validation average {average}')\n",
    "    return average\n",
    "\n",
    "def target_function(data_frame):\n",
    "    return data_frame['click_bool'] + data_frame['booking_bool']*4 #if booked then clicked booked = 5\n",
    "\n",
    "def hotel_booking_likelihood(train_frame, test_frame):\n",
    "    lklhd = train_frame.groupby('prop_id').sum().reset_index()\n",
    "    lklhd = lklhd[['prop_id','booking_bool', 'click_bool']]\n",
    "    lklhd['lklhd'] = lklhd[['booking_bool', 'click_bool']].sum(axis=1)\n",
    "    \n",
    "    counts = train_frame.groupby('prop_id').size().reset_index(name='counts')\n",
    "    \n",
    "    # normalize by total counts of total amounts prop_id\n",
    "    lklhd['lklhd'] = lklhd['lklhd']/counts['counts']\n",
    "    lklhd.drop(columns=['booking_bool', 'click_bool'], inplace=True)\n",
    "     # merge likelihood into dataframes\n",
    "    train_frame_out = train_frame.merge(lklhd, how='left', left_on='prop_id', right_on='prop_id')\n",
    "    test_frame_out = test_frame.merge(lklhd, how='left', left_on='prop_id', right_on='prop_id')\n",
    "    \n",
    "    #replace nulls into zeros\n",
    "    test_frame_out.loc[test_frame_out['lklhd'].isnull(),'lklhd'] = 0\n",
    "    \n",
    "    assert len(test_frame_out)==len(test_frame)\n",
    "    assert len(train_frame_out)==len(train_frame)\n",
    "\n",
    "    return train_frame_out, test_frame_out\n",
    "\n",
    "def features_engeneering(data_frame):\n",
    "    #fill missing property review score by median over whole data\n",
    "    for i in ['orig_destination_distance']:\n",
    "        data_frame[i] = data_frame[i].fillna(data_frame[i].median())\n",
    "    for i in ['prop_review_score', 'prop_location_score2', 'comp1_rate', 'comp2_rate', 'comp3_rate', 'comp4_rate', 'comp5_rate', 'comp6_rate', 'comp7_rate', 'comp8_rate']:\n",
    "        data_frame[i] = data_frame[i].fillna(0)\n",
    "\n",
    "    data_frame.loc[:, 'comp'] = \\\n",
    "    data_frame[['comp1_rate', 'comp2_rate', 'comp3_rate', 'comp4_rate', \\\n",
    "                 'comp5_rate', 'comp6_rate', 'comp7_rate', 'comp8_rate']].sum(axis=1)\n",
    "    \n",
    "    mask = data_frame.loc[:, 'comp']>0\n",
    "    data_frame.loc[mask, 'comp'] = 1\n",
    "    mask = data_frame.loc[:, 'comp']<0\n",
    "    data_frame.loc[mask, 'comp'] = -1\n",
    "    \n",
    "    data_frame.loc[:, 'location_score'] = data_frame[['prop_location_score1', 'prop_location_score2']].sum(axis=1)\n",
    "    \n",
    "    #fill missing prop_log_historical_price  by country id median\n",
    "    mask_log_0 = data_frame['prop_log_historical_price'] == 0\n",
    "    data_frame[['historical_price']] = data_frame[['prop_log_historical_price']].applymap(np.exp)\n",
    "    data_frame.loc[mask_log_0, 'historical_price'] = data_frame.loc[mask_log_0, 'price_usd']\n",
    "\n",
    "    price_per_country_median = data_frame.groupby('prop_country_id').median().reset_index()\n",
    "    price_per_country_median = price_per_country_median[['prop_country_id','price_usd']]\n",
    "    price_per_country_median = price_per_country_median.rename(columns={\"price_usd\": \"price_per_country_median\"})\n",
    "    data_frame = data_frame.merge(price_per_country_median, how='left', left_on='prop_country_id', right_on='prop_country_id')\n",
    "    # apply median to missing values in price_usd\n",
    "    mask = data_frame['price_usd']==0\n",
    "    data_frame.loc[mask, 'price_usd'] = data_frame.loc[mask, 'price_per_country_median']\n",
    "    mask = data_frame['historical_price']==0\n",
    "    data_frame.loc[mask, 'historical_price'] = data_frame.loc[mask, 'price_per_country_median']\n",
    "\n",
    "    # normalization\n",
    "    #data_frame['price_usd'] = data_frame['price_usd']/data_frame['price_per_country_median']\n",
    "    #data_frame['historical_price'] = data_frame['historical_price']/data_frame['price_per_country_median']\n",
    "\n",
    "    # normalise by number of persons\n",
    "    number_of_person = (data_frame['srch_adults_count'] + data_frame['srch_children_count']/2)\n",
    "    data_frame['price_per_person_per_night'] = data_frame['price_usd']/number_of_person/data_frame['srch_length_of_stay']\n",
    "    data_frame['price_per_person'] = data_frame['price_usd']/number_of_person\n",
    "        \n",
    "    #\n",
    "    #data standartization\n",
    "    \n",
    "    #for feature in ['prop_starrating','prop_location_score1']:\n",
    "    #    x = data_frame[feature].values\n",
    "    #    x = x.reshape(-1,1)\n",
    "    #    data_frame[feature] = normalize(x)\n",
    "    \n",
    "    \n",
    "    return data_frame\n",
    "\n",
    "def undersample(data_frame):\n",
    "    mask = data_frame['click_bool']==False\n",
    "    average_non_booked = data_frame[mask].groupby('srch_id').mean().reset_index()\n",
    "    \n",
    "    data_frame = data_frame.drop(data_frame[mask].index)\n",
    "    data_frame = data_frame.reset_index()\n",
    "\n",
    "    data_frame = data_frame.append(average_non_booked)\n",
    "    data_frame = data_frame.sort_values(by=['srch_id'], ascending=[True])\n",
    "    \n",
    "    #Fixing boolean values\n",
    "    for feature in ['random_bool', 'prop_brand_bool','promotion_flag','srch_saturday_night_bool' ]:\n",
    "        data_frame.loc[data_frame[feature]<0.5, feature] = False\n",
    "        data_frame.loc[data_frame[feature]>=0.5, feature] = True\n",
    "    return data_frame\n"
   ]
  },
  {
   "cell_type": "markdown",
   "id": "3bf6c0eb",
   "metadata": {},
   "source": [
    "### Total columns"
   ]
  },
  {
   "cell_type": "code",
   "execution_count": 6,
   "id": "474a3f37",
   "metadata": {},
   "outputs": [
    {
     "name": "stdout",
     "output_type": "stream",
     "text": [
      "train length: 4958347\n",
      "test length: 4959183\n",
      "booked amount: 138390\n",
      "clicked but not booked: 83489\n",
      "total/booked: 35.82879543319604\n"
     ]
    }
   ],
   "source": [
    "train_amount = len(train)\n",
    "print(f'train length: {train_amount}')\n",
    "print(f'test length: {len(test)}')\n",
    "mask = train['booking_bool']==True\n",
    "booked_amount = len(train[mask])\n",
    "print(f'booked amount: {booked_amount}')\n",
    "mask = (train['booking_bool']==False) & (train['click_bool']==True)\n",
    "clicked_amount = len(train[mask])\n",
    "print(f'clicked but not booked: {clicked_amount}')\n",
    "print(f'total/booked: {train_amount/booked_amount}')\n"
   ]
  },
  {
   "cell_type": "markdown",
   "id": "fb0521ba",
   "metadata": {},
   "source": [
    "### Total null columns"
   ]
  },
  {
   "cell_type": "code",
   "execution_count": 7,
   "id": "367f65d6",
   "metadata": {},
   "outputs": [
    {
     "name": "stdout",
     "output_type": "stream",
     "text": [
      "srch_id                              0\n",
      "date_time                            0\n",
      "site_id                              0\n",
      "visitor_location_country_id          0\n",
      "visitor_hist_starrating        4706481\n",
      "visitor_hist_adr_usd           4705359\n",
      "prop_country_id                      0\n",
      "prop_id                              0\n",
      "prop_starrating                      0\n",
      "prop_review_score                 7364\n",
      "prop_brand_bool                      0\n",
      "prop_location_score1                 0\n",
      "prop_location_score2           1090348\n",
      "prop_log_historical_price            0\n",
      "position                             0\n",
      "price_usd                            0\n",
      "promotion_flag                       0\n",
      "srch_destination_id                  0\n",
      "srch_length_of_stay                  0\n",
      "srch_booking_window                  0\n",
      "srch_adults_count                    0\n",
      "srch_children_count                  0\n",
      "srch_room_count                      0\n",
      "srch_saturday_night_bool             0\n",
      "srch_query_affinity_score      4640941\n",
      "orig_destination_distance      1607782\n",
      "random_bool                          0\n",
      "comp1_rate                     4838417\n",
      "comp1_inv                      4828788\n",
      "comp1_rate_percent_diff        4863908\n",
      "comp2_rate                     2933675\n",
      "comp2_inv                      2828078\n",
      "comp2_rate_percent_diff        4402109\n",
      "comp3_rate                     3424059\n",
      "comp3_inv                      3307357\n",
      "comp3_rate_percent_diff        4485550\n",
      "comp4_rate                     4650969\n",
      "comp4_inv                      4614684\n",
      "comp4_rate_percent_diff        4827261\n",
      "comp5_rate                     2735974\n",
      "comp5_inv                      2598327\n",
      "comp5_rate_percent_diff        4117248\n",
      "comp6_rate                     4718190\n",
      "comp6_inv                      4697371\n",
      "comp6_rate_percent_diff        4862173\n",
      "comp7_rate                     4642999\n",
      "comp7_inv                      4601925\n",
      "comp7_rate_percent_diff        4819832\n",
      "comp8_rate                     3041693\n",
      "comp8_inv                      2970844\n",
      "comp8_rate_percent_diff        4343617\n",
      "click_bool                           0\n",
      "gross_bookings_usd             4819957\n",
      "booking_bool                         0\n",
      "dtype: int64\n"
     ]
    }
   ],
   "source": [
    "print(train.isnull().sum())\n"
   ]
  },
  {
   "cell_type": "markdown",
   "id": "ce17cda5",
   "metadata": {},
   "source": [
    "### Amount of hotels in data sets"
   ]
  },
  {
   "cell_type": "code",
   "execution_count": 8,
   "id": "1114ad5e",
   "metadata": {
    "scrolled": true
   },
   "outputs": [
    {
     "name": "stdout",
     "output_type": "stream",
     "text": [
      "Amount of hotels in test data 129438 \n",
      "Amount of hotels in train data 129113\n",
      "Amount of unique hotels in train and not in test 7773\n"
     ]
    }
   ],
   "source": [
    "x = test['prop_id']\n",
    "print(f'Amount of hotels in test data {len(set(x))} ')\n",
    "y = train['prop_id']\n",
    "print(f'Amount of hotels in train data {len(set(y))}')\n",
    "print(f'Amount of unique hotels in train and not in test {len(set(x) - set(y))}')\n"
   ]
  },
  {
   "cell_type": "code",
   "execution_count": 9,
   "id": "f89a0090",
   "metadata": {
    "scrolled": true
   },
   "outputs": [
    {
     "name": "stdout",
     "output_type": "stream",
     "text": [
      "columns not in both sets {'position', 'booking_bool', 'click_bool'}\n"
     ]
    }
   ],
   "source": [
    "train_eng = features_engeneering(train)\n",
    "test_eng = features_engeneering(test)\n",
    "\n",
    "#train_eng, test_eng = hotel_booking_likelihood(train_eng, test_eng)\n",
    "\n",
    "train_eng = train_eng.dropna(axis=1)\n",
    "train_eng = train_eng.sort_values(by=['srch_id','prop_id'])\n",
    "\n",
    "\n",
    "a = set(train_eng.columns)\n",
    "b = set(test_eng.columns)\n",
    "print(f'columns not in both sets {a-b}')\n",
    "assert len(train_eng)==len(train)\n",
    "assert len(test_eng)==len(test)\n"
   ]
  },
  {
   "cell_type": "markdown",
   "id": "03bbe0e5",
   "metadata": {},
   "source": [
    "### Choose features to fit"
   ]
  },
  {
   "cell_type": "code",
   "execution_count": 10,
   "id": "c055b3c5",
   "metadata": {
    "scrolled": false
   },
   "outputs": [
    {
     "name": "stdout",
     "output_type": "stream",
     "text": [
      "Index(['srch_id', 'date_time', 'site_id', 'visitor_location_country_id',\n",
      "       'prop_country_id', 'prop_id', 'prop_starrating', 'prop_review_score',\n",
      "       'prop_brand_bool', 'prop_location_score1', 'prop_location_score2',\n",
      "       'prop_log_historical_price', 'position', 'price_usd', 'promotion_flag',\n",
      "       'srch_destination_id', 'srch_length_of_stay', 'srch_booking_window',\n",
      "       'srch_adults_count', 'srch_children_count', 'srch_room_count',\n",
      "       'srch_saturday_night_bool', 'orig_destination_distance', 'random_bool',\n",
      "       'comp1_rate', 'comp2_rate', 'comp3_rate', 'comp4_rate', 'comp5_rate',\n",
      "       'comp6_rate', 'comp7_rate', 'comp8_rate', 'click_bool', 'booking_bool',\n",
      "       'comp', 'location_score', 'historical_price',\n",
      "       'price_per_country_median', 'price_per_person_per_night',\n",
      "       'price_per_person'],\n",
      "      dtype='object')\n"
     ]
    }
   ],
   "source": [
    "print(train_eng.columns)#  the columns after droping\n",
    "\n",
    "features_to_choose = ['visitor_location_country_id',\n",
    "                      'prop_country_id', \n",
    "                      'prop_id',  \n",
    "                      'prop_starrating',\n",
    "                      'prop_review_score',\n",
    "                      'prop_brand_bool', \n",
    "                      #'location_score',\n",
    "                      'prop_log_historical_price', #historical_price\n",
    "                      'promotion_flag',                      \n",
    "                      'srch_destination_id',\n",
    "                      'srch_booking_window',\n",
    "                      'srch_saturday_night_bool', \n",
    "                      #'random_bool', \n",
    "                      'prop_location_score1', \n",
    "                      'prop_location_score2', \n",
    "                      'orig_destination_distance', \n",
    "                      #'comp', \n",
    "                      'lklhd',\n",
    "                      'price_per_person']#,\n",
    "                      #'price_per_person_per_night']\n"
   ]
  },
  {
   "cell_type": "code",
   "execution_count": 11,
   "id": "2c8759dc",
   "metadata": {},
   "outputs": [],
   "source": [
    "#from mlxtend.frequent_patterns import apriori\n",
    "#from mlxtend.frequent_patterns import association_rules\n",
    "#frequent_itemsets= apriori(df[['promotion_flag','srch_saturday_night_bool', 'random_bool', 'click_bool', 'booking_bool']], min_support=0.07, use_colnames=True)\n",
    "#rules = association_rules(frequent_itemsets, metric=\"lift\", min_threshold=1)\n",
    "#rules = rules.sort_values(by=[ 'support', 'confidence',], ascending=False)\n",
    "\n",
    "#rules[['antecedents', 'consequents','support','confidence']].iloc[0:10]\n"
   ]
  },
  {
   "cell_type": "markdown",
   "id": "1c1f539a",
   "metadata": {},
   "source": [
    "## Test and Evaluate"
   ]
  },
  {
   "cell_type": "code",
   "execution_count": 12,
   "id": "bbdf3adf",
   "metadata": {},
   "outputs": [],
   "source": [
    "from sklearn import neighbors, linear_model\n",
    "from sklearn.ensemble import RandomForestRegressor\n",
    "from sklearn.tree import DecisionTreeRegressor\n",
    "from sklearn.ensemble import GradientBoostingRegressor\n",
    "\n",
    "# Fit regression model\n",
    "#model = linear_model.LinearRegression()\n",
    "#n_neighbors = 10\n",
    "#model = neighbors.KNeighborsRegressor(n_neighbors)\n",
    "#model= DecisionTreeRegressor(random_state=0)\n",
    "#model = GradientBoostingRegressor(random_state=0)\n",
    "\n",
    "########       Cross EVALUATION           ###############\n",
    "\n",
    "size = 0.05\n",
    "\n",
    "train_idx = int(len(train_eng)*2/3)\n",
    "evaluation_size = int(train_idx*size)#*1/7)\n",
    "\n",
    "X_train = train_eng.iloc[0:(train_idx-evaluation_size), :]\n",
    "X_eval = train_eng.iloc[(train_idx-evaluation_size):train_idx, :]\n",
    "X_test = train_eng.iloc[train_idx:, :]\n",
    "\n",
    "\n"
   ]
  },
  {
   "cell_type": "markdown",
   "id": "29709242",
   "metadata": {},
   "source": [
    "### RandomForestRegressor"
   ]
  },
  {
   "cell_type": "code",
   "execution_count": 13,
   "id": "eddfdbbc",
   "metadata": {
    "scrolled": false
   },
   "outputs": [
    {
     "name": "stdout",
     "output_type": "stream",
     "text": [
      "% of unique hotels in train and not in test 0.25997882233782976\n",
      "% of unique hotels in train and not in test 0.24779654792508263\n",
      "% of unique hotels in train and not in test 0.25899015910972134\n",
      "% of unique hotels in train and not in test 0.24235550313038745\n",
      "% of unique hotels in train and not in test 0.25535368107840045\n",
      "cross_validation average 0.20071512179275675\n",
      "The time of evaluation fit: 20.605384588241577\n",
      "% of unique hotels in train and not in test 0.25997882233782976\n",
      "% of unique hotels in train and not in test 0.24779654792508263\n",
      "% of unique hotels in train and not in test 0.25899015910972134\n",
      "% of unique hotels in train and not in test 0.24235550313038745\n",
      "% of unique hotels in train and not in test 0.25535368107840045\n",
      "cross_validation average 0.20434939180167574\n",
      "The time of evaluation fit: 39.778045654296875\n",
      "% of unique hotels in train and not in test 0.25997882233782976\n",
      "% of unique hotels in train and not in test 0.24779654792508263\n",
      "% of unique hotels in train and not in test 0.25899015910972134\n",
      "% of unique hotels in train and not in test 0.24235550313038745\n",
      "% of unique hotels in train and not in test 0.25535368107840045\n",
      "cross_validation average 0.2054298935531119\n",
      "The time of evaluation fit: 38.82528305053711\n",
      "% of unique hotels in train and not in test 0.25997882233782976\n",
      "% of unique hotels in train and not in test 0.24779654792508263\n",
      "% of unique hotels in train and not in test 0.25899015910972134\n",
      "% of unique hotels in train and not in test 0.24235550313038745\n",
      "% of unique hotels in train and not in test 0.25535368107840045\n",
      "cross_validation average 0.20552998480880075\n",
      "The time of evaluation fit: 40.953924894332886\n",
      "% of unique hotels in train and not in test 0.25997882233782976\n",
      "% of unique hotels in train and not in test 0.24779654792508263\n",
      "% of unique hotels in train and not in test 0.25899015910972134\n",
      "% of unique hotels in train and not in test 0.24235550313038745\n",
      "% of unique hotels in train and not in test 0.25535368107840045\n",
      "cross_validation average 0.20542639835211146\n",
      "The time of evaluation fit: 51.53036594390869\n",
      "exit before the end\n",
      "Optimal depth: 9\n"
     ]
    },
    {
     "data": {
      "image/png": "[encoded data removed]",
      "text/plain": [
       "<Figure size 432x288 with 1 Axes>"
      ]
     },
     "metadata": {
      "needs_background": "light"
     },
     "output_type": "display_data"
    },
    {
     "name": "stdout",
     "output_type": "stream",
     "text": [
      "% of unique hotels in train and not in test 0.05684297476139598\n",
      "Validation time and score RandomForestRegressor: 492.63573718070984\n",
      "ndcg_@5 0.311602400617365\n"
     ]
    }
   ],
   "source": [
    "x = []\n",
    "depth = [x for x in range(3,15) if x % 2 != 0]\n",
    "prev_ndgc = 0\n",
    "for i in depth:\n",
    "    start = time.time()\n",
    "    model = RandomForestRegressor(max_depth=i, random_state=0, n_jobs=-1)\n",
    "    ndcg_score = my_cross_validation(model, X_eval, features_to_choose, n_splits=5, price_max=40000)\n",
    "    end = time.time()\n",
    "    print(\"The time of evaluation fit:\", end-start)\n",
    "    x.append(ndcg_score)\n",
    "    if ndcg_score<prev_ndgc:\n",
    "        print('exit before the end')\n",
    "        break    # break here\n",
    "    prev_ndgc=ndcg_score\n",
    "    \n",
    "optimal_score_index = x.index(max(x))\n",
    "optimal_depth = depth[optimal_score_index]\n",
    "print(f'Optimal depth: {optimal_depth}')\n",
    "plt.plot(depth[0:len(x)], x)\n",
    "plt.xlabel('depth')\n",
    "plt.ylabel('ndcg_score')\n",
    "plt.show()\n",
    "\n",
    "##\n",
    "start = time.time()\n",
    "model = RandomForestRegressor(max_depth=optimal_depth, random_state=0, n_jobs=-1)\n",
    "Y_pred = my_fit_and_predict(model, X_train, X_test, features_to_choose, price_max=40000)\n",
    "end = time.time()\n",
    "print(\"Validation time and score RandomForestRegressor:\", end-start)\n",
    "\n",
    "ndcg_score = NDCG_at_k(X_test, ranking=Y_pred, ideal_ranking= target_function(X_test), k=5)\n",
    "\n"
   ]
  },
  {
   "cell_type": "markdown",
   "id": "047a2b7b",
   "metadata": {},
   "source": [
    "### GradientBoostingRegressor"
   ]
  },
  {
   "cell_type": "code",
   "execution_count": 19,
   "id": "5a498669",
   "metadata": {},
   "outputs": [
    {
     "name": "stdout",
     "output_type": "stream",
     "text": [
      "% of unique hotels in train and not in test 0.25997882233782976\n",
      "% of unique hotels in train and not in test 0.24779654792508263\n",
      "% of unique hotels in train and not in test 0.25899015910972134\n",
      "% of unique hotels in train and not in test 0.24235550313038745\n",
      "% of unique hotels in train and not in test 0.25535368107840045\n",
      "cross_validation average 0.24917899046240385\n",
      "The time of evaluation fit: 31.895840167999268\n",
      "% of unique hotels in train and not in test 0.25997882233782976\n",
      "% of unique hotels in train and not in test 0.24779654792508263\n",
      "% of unique hotels in train and not in test 0.25899015910972134\n",
      "% of unique hotels in train and not in test 0.24235550313038745\n",
      "% of unique hotels in train and not in test 0.25535368107840045\n",
      "cross_validation average 0.25581778665589144\n",
      "The time of evaluation fit: 51.85787868499756\n",
      "% of unique hotels in train and not in test 0.25997882233782976\n",
      "% of unique hotels in train and not in test 0.24779654792508263\n",
      "% of unique hotels in train and not in test 0.25899015910972134\n",
      "% of unique hotels in train and not in test 0.24235550313038745\n",
      "% of unique hotels in train and not in test 0.25535368107840045\n",
      "cross_validation average 0.25828449737266\n",
      "The time of evaluation fit: 99.02898263931274\n",
      "% of unique hotels in train and not in test 0.25997882233782976\n",
      "% of unique hotels in train and not in test 0.24779654792508263\n",
      "% of unique hotels in train and not in test 0.25899015910972134\n",
      "% of unique hotels in train and not in test 0.24235550313038745\n",
      "% of unique hotels in train and not in test 0.25535368107840045\n",
      "cross_validation average 0.25786396238274034\n",
      "The time of evaluation fit: 147.45343351364136\n",
      "exit before the end\n",
      "Optimal n estimators: 100\n"
     ]
    },
    {
     "data": {
      "image/png": "[encoded data removed]",
      "text/plain": [
       "<Figure size 432x288 with 1 Axes>"
      ]
     },
     "metadata": {
      "needs_background": "light"
     },
     "output_type": "display_data"
    }
   ],
   "source": [
    "x = []\n",
    "n_estimators = [30, 50, 100, 150, 200, 300]\n",
    "prev_ndgc = 0\n",
    "for i in n_estimators:\n",
    "    start = time.time()\n",
    "    model = GradientBoostingRegressor(n_estimators = i, random_state=0)\n",
    "    ndcg_score = my_cross_validation(model, X_eval, features_to_choose, n_splits=5, price_max=40000)\n",
    "    end = time.time()\n",
    "    print(\"The time of evaluation fit:\", end-start)\n",
    "    x.append(ndcg_score)\n",
    "    if ndcg_score<prev_ndgc:\n",
    "        print('exit before the end')\n",
    "        break    # break here\n",
    "    prev_ndgc=ndcg_score\n",
    "    \n",
    "optimal_score_index = x.index(max(x))\n",
    "optimal_n = n_estimators[optimal_score_index]\n",
    "print(f'Optimal n estimators: {optimal_n}')\n",
    "plt.plot(depth[0:len(x)], x)\n",
    "plt.xlabel('depth')\n",
    "plt.ylabel('ndcg_score')\n",
    "plt.show()\n"
   ]
  },
  {
   "cell_type": "code",
   "execution_count": 14,
   "id": "a5c14a0e",
   "metadata": {},
   "outputs": [
    {
     "name": "stdout",
     "output_type": "stream",
     "text": [
      "% of unique hotels in train and not in test 0.25997882233782976\n",
      "% of unique hotels in train and not in test 0.24779654792508263\n",
      "% of unique hotels in train and not in test 0.25899015910972134\n",
      "% of unique hotels in train and not in test 0.24235550313038745\n",
      "% of unique hotels in train and not in test 0.25535368107840045\n",
      "cross_validation average 0.25828449737266\n",
      "Eval time and score GradientBoostingRegressor: 103.7049024105072\n",
      "% of unique hotels in train and not in test 0.05684297476139598\n",
      "Validation time and score GradientBoostingRegressor: 822.6182417869568\n",
      "ndcg_@5 0.31768763340812084\n"
     ]
    }
   ],
   "source": [
    "model = GradientBoostingRegressor(n_estimators=optimal_n, random_state=0)\n",
    "\n",
    "start = time.time()\n",
    "ndcg_score = my_cross_validation(model, X_eval, features_to_choose, n_splits=5, price_max=40000)\n",
    "end = time.time()\n",
    "print(\"Eval time and score GradientBoostingRegressor:\", end-start)\n",
    "\n",
    "start = time.time()\n",
    "Y_pred = my_fit_and_predict(model, X_train, X_test, features_to_choose, price_max=40000)\n",
    "end = time.time()\n",
    "print(\"Validation time and score GradientBoostingRegressor:\", end-start)\n",
    "ndcg_score = NDCG_at_k(X_test, ranking=Y_pred, ideal_ranking=target_function(X_test), k=5)"
   ]
  },
  {
   "cell_type": "markdown",
   "id": "846e51eb",
   "metadata": {},
   "source": [
    "## Fit and submit "
   ]
  },
  {
   "cell_type": "markdown",
   "id": "6803d916",
   "metadata": {},
   "source": [
    "### removing outliers from train data"
   ]
  },
  {
   "cell_type": "markdown",
   "id": "d6b85a85",
   "metadata": {},
   "source": [
    "### GradientBoostingRegressor"
   ]
  },
  {
   "cell_type": "code",
   "execution_count": 15,
   "id": "b879331a",
   "metadata": {},
   "outputs": [
    {
     "name": "stdout",
     "output_type": "stream",
     "text": [
      "% of unique hotels in train and not in test 0.060051916747786586\n"
     ]
    },
    {
     "ename": "KeyboardInterrupt",
     "evalue": "",
     "output_type": "error",
     "traceback": [
      "\u001b[0;31m---------------------------------------------------------------------------\u001b[0m",
      "\u001b[0;31mKeyboardInterrupt\u001b[0m                         Traceback (most recent call last)",
      "\u001b[0;32m/tmp/ipykernel_4067/1541021965.py\u001b[0m in \u001b[0;36m<module>\u001b[0;34m\u001b[0m\n\u001b[1;32m      1\u001b[0m \u001b[0mstart\u001b[0m \u001b[0;34m=\u001b[0m \u001b[0mtime\u001b[0m\u001b[0;34m.\u001b[0m\u001b[0mtime\u001b[0m\u001b[0;34m(\u001b[0m\u001b[0;34m)\u001b[0m\u001b[0;34m\u001b[0m\u001b[0;34m\u001b[0m\u001b[0m\n\u001b[1;32m      2\u001b[0m \u001b[0mmodel\u001b[0m \u001b[0;34m=\u001b[0m \u001b[0mGradientBoostingRegressor\u001b[0m\u001b[0;34m(\u001b[0m\u001b[0mrandom_state\u001b[0m\u001b[0;34m=\u001b[0m\u001b[0;36m0\u001b[0m\u001b[0;34m)\u001b[0m\u001b[0;34m\u001b[0m\u001b[0;34m\u001b[0m\u001b[0m\n\u001b[0;32m----> 3\u001b[0;31m \u001b[0mraitings\u001b[0m \u001b[0;34m=\u001b[0m \u001b[0mmy_fit_and_predict\u001b[0m\u001b[0;34m(\u001b[0m\u001b[0mmodel\u001b[0m\u001b[0;34m,\u001b[0m \u001b[0mtrain_eng\u001b[0m\u001b[0;34m,\u001b[0m \u001b[0mtest_eng\u001b[0m\u001b[0;34m,\u001b[0m \u001b[0mfeatures_to_choose\u001b[0m\u001b[0;34m,\u001b[0m \u001b[0mprice_max\u001b[0m\u001b[0;34m=\u001b[0m\u001b[0;36m40000\u001b[0m\u001b[0;34m)\u001b[0m\u001b[0;34m\u001b[0m\u001b[0;34m\u001b[0m\u001b[0m\n\u001b[0m\u001b[1;32m      4\u001b[0m \u001b[0mend\u001b[0m \u001b[0;34m=\u001b[0m \u001b[0mtime\u001b[0m\u001b[0;34m.\u001b[0m\u001b[0mtime\u001b[0m\u001b[0;34m(\u001b[0m\u001b[0;34m)\u001b[0m\u001b[0;34m\u001b[0m\u001b[0;34m\u001b[0m\u001b[0m\n\u001b[1;32m      5\u001b[0m \u001b[0mprint\u001b[0m\u001b[0;34m(\u001b[0m\u001b[0;34m\"The time of final fit GradientBoostingRegressor:\"\u001b[0m\u001b[0;34m,\u001b[0m \u001b[0mend\u001b[0m\u001b[0;34m-\u001b[0m\u001b[0mstart\u001b[0m\u001b[0;34m)\u001b[0m\u001b[0;34m\u001b[0m\u001b[0;34m\u001b[0m\u001b[0m\n",
      "\u001b[0;32m/tmp/ipykernel_4067/3397410853.py\u001b[0m in \u001b[0;36mmy_fit_and_predict\u001b[0;34m(model, train_set, test_set, features_to_choose, price_max)\u001b[0m\n\u001b[1;32m     10\u001b[0m     \u001b[0mmask\u001b[0m \u001b[0;34m=\u001b[0m \u001b[0mX_train\u001b[0m\u001b[0;34m[\u001b[0m\u001b[0;34m'price_usd'\u001b[0m\u001b[0;34m]\u001b[0m\u001b[0;34m<\u001b[0m\u001b[0mprice_max\u001b[0m\u001b[0;34m\u001b[0m\u001b[0;34m\u001b[0m\u001b[0m\n\u001b[1;32m     11\u001b[0m     \u001b[0mX_train\u001b[0m \u001b[0;34m=\u001b[0m \u001b[0mX_train\u001b[0m\u001b[0;34m[\u001b[0m\u001b[0mmask\u001b[0m\u001b[0;34m]\u001b[0m\u001b[0;34m\u001b[0m\u001b[0;34m\u001b[0m\u001b[0m\n\u001b[0;32m---> 12\u001b[0;31m     \u001b[0mmodel\u001b[0m\u001b[0;34m.\u001b[0m\u001b[0mfit\u001b[0m\u001b[0;34m(\u001b[0m\u001b[0mX_train\u001b[0m\u001b[0;34m[\u001b[0m\u001b[0mfeatures_to_choose\u001b[0m\u001b[0;34m]\u001b[0m\u001b[0;34m,\u001b[0m \u001b[0mtarget_function\u001b[0m\u001b[0;34m(\u001b[0m\u001b[0mX_train\u001b[0m\u001b[0;34m)\u001b[0m\u001b[0;34m)\u001b[0m\u001b[0;34m\u001b[0m\u001b[0;34m\u001b[0m\u001b[0m\n\u001b[0m\u001b[1;32m     13\u001b[0m     \u001b[0mY_predict\u001b[0m \u001b[0;34m=\u001b[0m \u001b[0mmodel\u001b[0m\u001b[0;34m.\u001b[0m\u001b[0mpredict\u001b[0m\u001b[0;34m(\u001b[0m\u001b[0mX_test\u001b[0m\u001b[0;34m[\u001b[0m\u001b[0mfeatures_to_choose\u001b[0m\u001b[0;34m]\u001b[0m\u001b[0;34m)\u001b[0m\u001b[0;34m\u001b[0m\u001b[0;34m\u001b[0m\u001b[0m\n\u001b[1;32m     14\u001b[0m \u001b[0;34m\u001b[0m\u001b[0m\n",
      "\u001b[0;32m~/anaconda3/lib/python3.9/site-packages/sklearn/ensemble/_gb.py\u001b[0m in \u001b[0;36mfit\u001b[0;34m(self, X, y, sample_weight, monitor)\u001b[0m\n\u001b[1;32m    502\u001b[0m \u001b[0;34m\u001b[0m\u001b[0m\n\u001b[1;32m    503\u001b[0m         \u001b[0;31m# fit the boosting stages\u001b[0m\u001b[0;34m\u001b[0m\u001b[0;34m\u001b[0m\u001b[0m\n\u001b[0;32m--> 504\u001b[0;31m         n_stages = self._fit_stages(\n\u001b[0m\u001b[1;32m    505\u001b[0m             \u001b[0mX\u001b[0m\u001b[0;34m,\u001b[0m \u001b[0my\u001b[0m\u001b[0;34m,\u001b[0m \u001b[0mraw_predictions\u001b[0m\u001b[0;34m,\u001b[0m \u001b[0msample_weight\u001b[0m\u001b[0;34m,\u001b[0m \u001b[0mself\u001b[0m\u001b[0;34m.\u001b[0m\u001b[0m_rng\u001b[0m\u001b[0;34m,\u001b[0m \u001b[0mX_val\u001b[0m\u001b[0;34m,\u001b[0m \u001b[0my_val\u001b[0m\u001b[0;34m,\u001b[0m\u001b[0;34m\u001b[0m\u001b[0;34m\u001b[0m\u001b[0m\n\u001b[1;32m    506\u001b[0m             sample_weight_val, begin_at_stage, monitor)\n",
      "\u001b[0;32m~/anaconda3/lib/python3.9/site-packages/sklearn/ensemble/_gb.py\u001b[0m in \u001b[0;36m_fit_stages\u001b[0;34m(self, X, y, raw_predictions, sample_weight, random_state, X_val, y_val, sample_weight_val, begin_at_stage, monitor)\u001b[0m\n\u001b[1;32m    559\u001b[0m \u001b[0;34m\u001b[0m\u001b[0m\n\u001b[1;32m    560\u001b[0m             \u001b[0;31m# fit next stage of trees\u001b[0m\u001b[0;34m\u001b[0m\u001b[0;34m\u001b[0m\u001b[0m\n\u001b[0;32m--> 561\u001b[0;31m             raw_predictions = self._fit_stage(\n\u001b[0m\u001b[1;32m    562\u001b[0m                 \u001b[0mi\u001b[0m\u001b[0;34m,\u001b[0m \u001b[0mX\u001b[0m\u001b[0;34m,\u001b[0m \u001b[0my\u001b[0m\u001b[0;34m,\u001b[0m \u001b[0mraw_predictions\u001b[0m\u001b[0;34m,\u001b[0m \u001b[0msample_weight\u001b[0m\u001b[0;34m,\u001b[0m \u001b[0msample_mask\u001b[0m\u001b[0;34m,\u001b[0m\u001b[0;34m\u001b[0m\u001b[0;34m\u001b[0m\u001b[0m\n\u001b[1;32m    563\u001b[0m                 random_state, X_csc, X_csr)\n",
      "\u001b[0;32m~/anaconda3/lib/python3.9/site-packages/sklearn/ensemble/_gb.py\u001b[0m in \u001b[0;36m_fit_stage\u001b[0;34m(self, i, X, y, raw_predictions, sample_weight, sample_mask, random_state, X_csc, X_csr)\u001b[0m\n\u001b[1;32m    212\u001b[0m \u001b[0;34m\u001b[0m\u001b[0m\n\u001b[1;32m    213\u001b[0m             \u001b[0mX\u001b[0m \u001b[0;34m=\u001b[0m \u001b[0mX_csr\u001b[0m \u001b[0;32mif\u001b[0m \u001b[0mX_csr\u001b[0m \u001b[0;32mis\u001b[0m \u001b[0;32mnot\u001b[0m \u001b[0;32mNone\u001b[0m \u001b[0;32melse\u001b[0m \u001b[0mX\u001b[0m\u001b[0;34m\u001b[0m\u001b[0;34m\u001b[0m\u001b[0m\n\u001b[0;32m--> 214\u001b[0;31m             tree.fit(X, residual, sample_weight=sample_weight,\n\u001b[0m\u001b[1;32m    215\u001b[0m                      check_input=False)\n\u001b[1;32m    216\u001b[0m \u001b[0;34m\u001b[0m\u001b[0m\n",
      "\u001b[0;32m~/anaconda3/lib/python3.9/site-packages/sklearn/tree/_classes.py\u001b[0m in \u001b[0;36mfit\u001b[0;34m(self, X, y, sample_weight, check_input, X_idx_sorted)\u001b[0m\n\u001b[1;32m   1250\u001b[0m         \"\"\"\n\u001b[1;32m   1251\u001b[0m \u001b[0;34m\u001b[0m\u001b[0m\n\u001b[0;32m-> 1252\u001b[0;31m         super().fit(\n\u001b[0m\u001b[1;32m   1253\u001b[0m             \u001b[0mX\u001b[0m\u001b[0;34m,\u001b[0m \u001b[0my\u001b[0m\u001b[0;34m,\u001b[0m\u001b[0;34m\u001b[0m\u001b[0;34m\u001b[0m\u001b[0m\n\u001b[1;32m   1254\u001b[0m             \u001b[0msample_weight\u001b[0m\u001b[0;34m=\u001b[0m\u001b[0msample_weight\u001b[0m\u001b[0;34m,\u001b[0m\u001b[0;34m\u001b[0m\u001b[0;34m\u001b[0m\u001b[0m\n",
      "\u001b[0;32m~/anaconda3/lib/python3.9/site-packages/sklearn/tree/_classes.py\u001b[0m in \u001b[0;36mfit\u001b[0;34m(self, X, y, sample_weight, check_input, X_idx_sorted)\u001b[0m\n\u001b[1;32m    392\u001b[0m                                            min_impurity_split)\n\u001b[1;32m    393\u001b[0m \u001b[0;34m\u001b[0m\u001b[0m\n\u001b[0;32m--> 394\u001b[0;31m         \u001b[0mbuilder\u001b[0m\u001b[0;34m.\u001b[0m\u001b[0mbuild\u001b[0m\u001b[0;34m(\u001b[0m\u001b[0mself\u001b[0m\u001b[0;34m.\u001b[0m\u001b[0mtree_\u001b[0m\u001b[0;34m,\u001b[0m \u001b[0mX\u001b[0m\u001b[0;34m,\u001b[0m \u001b[0my\u001b[0m\u001b[0;34m,\u001b[0m \u001b[0msample_weight\u001b[0m\u001b[0;34m)\u001b[0m\u001b[0;34m\u001b[0m\u001b[0;34m\u001b[0m\u001b[0m\n\u001b[0m\u001b[1;32m    395\u001b[0m \u001b[0;34m\u001b[0m\u001b[0m\n\u001b[1;32m    396\u001b[0m         \u001b[0;32mif\u001b[0m \u001b[0mself\u001b[0m\u001b[0;34m.\u001b[0m\u001b[0mn_outputs_\u001b[0m \u001b[0;34m==\u001b[0m \u001b[0;36m1\u001b[0m \u001b[0;32mand\u001b[0m \u001b[0mis_classifier\u001b[0m\u001b[0;34m(\u001b[0m\u001b[0mself\u001b[0m\u001b[0;34m)\u001b[0m\u001b[0;34m:\u001b[0m\u001b[0;34m\u001b[0m\u001b[0;34m\u001b[0m\u001b[0m\n",
      "\u001b[0;31mKeyboardInterrupt\u001b[0m: "
     ]
    }
   ],
   "source": [
    "start = time.time()\n",
    "model = GradientBoostingRegressor(random_state=0)\n",
    "raitings = my_fit_and_predict(model, train_eng, test_eng, features_to_choose, price_max=40000)\n",
    "end = time.time()\n",
    "print(\"The time of final fit GradientBoostingRegressor:\", end-start)\n",
    "create_submission(test_eng, raitings)\n",
    "assert len(raitings)==len(test)\n"
   ]
  },
  {
   "cell_type": "markdown",
   "id": "db0737fe",
   "metadata": {},
   "source": [
    "### RandomForestRegressor"
   ]
  },
  {
   "cell_type": "code",
   "execution_count": null,
   "id": "3984d0b7",
   "metadata": {},
   "outputs": [],
   "source": [
    "start = time.time()\n",
    "model = RandomForestRegressor(max_depth=optimal_depth, random_state=0, n_jobs=-1)\n",
    "model.fit(train_eng_no_outliers[features_to_choose], train_eng_no_outliers(train_eng))\n",
    "raitings = my_fit_and_predict(model, train_eng, test_eng, features_to_choose, price_max=40000)\n",
    "end = time.time()\n",
    "print(\"The time of final fit GradientBoostingRegressor:\", end-start)\n",
    "create_submission(test_eng, raitings)\n",
    "assert len(raitings)==len(test)"
   ]
  },
  {
   "cell_type": "code",
   "execution_count": null,
   "id": "df43e7e8",
   "metadata": {},
   "outputs": [],
   "source": [
    "len(raitings)"
   ]
  },
  {
   "cell_type": "code",
   "execution_count": null,
   "id": "5ab86349",
   "metadata": {},
   "outputs": [],
   "source": [
    "len(test)"
   ]
  }
 ],
 "metadata": {
  "kernelspec": {
   "display_name": "Python 3",
   "language": "python",
   "name": "python3"
  },
  "language_info": {
   "codemirror_mode": {
    "name": "ipython",
    "version": 3
   },
   "file_extension": ".py",
   "mimetype": "text/x-python",
   "name": "python",
   "nbconvert_exporter": "python",
   "pygments_lexer": "ipython3",
   "version": "3.9.7"
  }
 },
 "nbformat": 4,
 "nbformat_minor": 5
}
