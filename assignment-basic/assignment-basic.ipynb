{
 "cells": [
  {
   "cell_type": "code",
   "execution_count": 1,
   "id": "9e70f8f0",
   "metadata": {},
   "outputs": [],
   "source": [
    "import pandas as pd\n",
    "import seaborn as sns\n",
    "import matplotlib.pyplot as plt\n",
    "import numpy as np\n",
    "\n",
    "sns.set(style=\"darkgrid\")"
   ]
  },
  {
   "cell_type": "code",
   "execution_count": 2,
   "id": "2d55986a",
   "metadata": {},
   "outputs": [],
   "source": [
    "df_odi = pd.read_csv('ODI-2022.csv',delimiter=\";\")"
   ]
  },
  {
   "cell_type": "markdown",
   "id": "18d9e0c5",
   "metadata": {},
   "source": [
    "### Number of records"
   ]
  },
  {
   "cell_type": "code",
   "execution_count": 3,
   "id": "4c21d83b",
   "metadata": {},
   "outputs": [
    {
     "name": "stdout",
     "output_type": "stream",
     "text": [
      "304\n"
     ]
    }
   ],
   "source": [
    "print(len(df_odi.index))"
   ]
  },
  {
   "cell_type": "markdown",
   "id": "f1cd0561",
   "metadata": {},
   "source": [
    "### Number of attributes"
   ]
  },
  {
   "cell_type": "code",
   "execution_count": 4,
   "id": "10ce2e07",
   "metadata": {},
   "outputs": [
    {
     "name": "stdout",
     "output_type": "stream",
     "text": [
      "17\n"
     ]
    }
   ],
   "source": [
    "print(len(df_odi.columns))"
   ]
  },
  {
   "cell_type": "markdown",
   "id": "713097d2",
   "metadata": {},
   "source": [
    "### Attributes are\n",
    "    "
   ]
  },
  {
   "cell_type": "code",
   "execution_count": 5,
   "id": "a7a5a8f1",
   "metadata": {},
   "outputs": [
    {
     "name": "stdout",
     "output_type": "stream",
     "text": [
      "Index(['Tijdstempel', 'What programme are you in?',\n",
      "       'Have you taken a course on machine learning?',\n",
      "       'Have you taken a course on information retrieval?',\n",
      "       'Have you taken a course on statistics?',\n",
      "       'Have you taken a course on databases?', 'What is your gender?',\n",
      "       'Chocolate makes you.....', 'When is your birthday (date)?',\n",
      "       'Number of neighbors sitting around you?', 'Did you stand up?',\n",
      "       'What is your stress level (0-100)?',\n",
      "       'You can get 100 euros if you win a local DM competition, or we don’t hold any competitions and I give everyone some money (not the same amount!). How much do you think you would deserve then? ',\n",
      "       'Give a random number', 'Time you went to be Yesterday',\n",
      "       'What makes a good day for you (1)?',\n",
      "       'What makes a good day for you (2)?'],\n",
      "      dtype='object')\n"
     ]
    }
   ],
   "source": [
    "print((df_odi.columns))"
   ]
  },
  {
   "cell_type": "markdown",
   "id": "33faa4e8",
   "metadata": {},
   "source": [
    "### Replace columns name"
   ]
  },
  {
   "cell_type": "code",
   "execution_count": 6,
   "id": "d39db79c",
   "metadata": {},
   "outputs": [],
   "source": [
    " df_odi.columns = ['time',\\\n",
    "                   'program',\\\n",
    "                   'ML',\\\n",
    "                   'IR',\\\n",
    "                   'Statistics',\\\n",
    "                   'DB',\\\n",
    "                   'Gender',\\\n",
    "               'Chocolate_influence',\\\n",
    "                   'Birthday',\\\n",
    "                   'neighbors',\\\n",
    "                   'Stand_Up',\\\n",
    "                   'Stress',\\\n",
    "              'Euros_Question',\\\n",
    "                   'random_number',\\\n",
    "                   'time_to_bed',\\\n",
    "                   'good_day_1',\\\n",
    "                   'good_day_2']"
   ]
  },
  {
   "cell_type": "markdown",
   "id": "e6973056",
   "metadata": {},
   "source": [
    "### Gender distribution"
   ]
  },
  {
   "cell_type": "code",
   "execution_count": 16,
   "id": "145fc51e",
   "metadata": {},
   "outputs": [
    {
     "data": {
      "text/plain": [
       "Gender\n",
       "female                   102\n",
       "gender fluid               6\n",
       "intersex                   1\n",
       "male                     183\n",
       "not willing to answer     12\n",
       "Name: Gender, dtype: int64"
      ]
     },
     "metadata": {},
     "output_type": "display_data"
    },
    {
     "data": {
      "text/plain": [
       "<AxesSubplot:ylabel='Gender'>"
      ]
     },
     "execution_count": 16,
     "metadata": {},
     "output_type": "execute_result"
    },
    {
     "data": {
      "image/png": "[encoded data removed]",
      "text/plain": [
       "<Figure size 504x504 with 1 Axes>"
      ]
     },
     "metadata": {},
     "output_type": "display_data"
    }
   ],
   "source": [
    "display(df_odi.groupby('Gender')['Gender'].count())\n",
    "df_odi.groupby('Gender')['Gender'].count().plot.pie(autopct='%.2f',figsize=(7,7))\n",
    "#mask = (df_odi['Gender']!='male') & (df_odi['Gender']!='female')\n",
    "#df_odi['Gender'].loc[mask]"
   ]
  },
  {
   "cell_type": "markdown",
   "id": "14cc3d5a",
   "metadata": {},
   "source": [
    "### Random number"
   ]
  },
  {
   "cell_type": "code",
   "execution_count": 8,
   "id": "4748610f",
   "metadata": {},
   "outputs": [
    {
     "data": {
      "text/plain": [
       "0                        888\n",
       "1                         12\n",
       "2                          9\n",
       "3                         31\n",
       "4                         86\n",
       "               ...          \n",
       "299                        6\n",
       "300                        0\n",
       "301                      123\n",
       "302                        7\n",
       "303    789458455584851844184\n",
       "Name: random_number, Length: 304, dtype: object"
      ]
     },
     "metadata": {},
     "output_type": "display_data"
    }
   ],
   "source": [
    "display(df_odi['random_number'])\n"
   ]
  },
  {
   "cell_type": "markdown",
   "id": "29806f7e",
   "metadata": {},
   "source": [
    "### Distribution of gender who has entred random numbers noise"
   ]
  },
  {
   "cell_type": "code",
   "execution_count": 9,
   "id": "8630f33f",
   "metadata": {},
   "outputs": [
    {
     "data": {
      "text/html": [
       "<div>\n",
       "<style scoped>\n",
       "    .dataframe tbody tr th:only-of-type {\n",
       "        vertical-align: middle;\n",
       "    }\n",
       "\n",
       "    .dataframe tbody tr th {\n",
       "        vertical-align: top;\n",
       "    }\n",
       "\n",
       "    .dataframe thead th {\n",
       "        text-align: right;\n",
       "    }\n",
       "</style>\n",
       "<table border=\"1\" class=\"dataframe\">\n",
       "  <thead>\n",
       "    <tr style=\"text-align: right;\">\n",
       "      <th></th>\n",
       "      <th>Stress</th>\n",
       "      <th>random_number</th>\n",
       "      <th>Gender</th>\n",
       "      <th>Chocolate_influence</th>\n",
       "      <th>time_to_bed</th>\n",
       "    </tr>\n",
       "  </thead>\n",
       "  <tbody>\n",
       "    <tr>\n",
       "      <th>95</th>\n",
       "      <td>Over 9000</td>\n",
       "      <td>Π</td>\n",
       "      <td>gender fluid</td>\n",
       "      <td>I have no idea what you are talking about</td>\n",
       "      <td>Ω</td>\n",
       "    </tr>\n",
       "    <tr>\n",
       "      <th>108</th>\n",
       "      <td>10</td>\n",
       "      <td>1947271047294720^10204847</td>\n",
       "      <td>not willing to answer</td>\n",
       "      <td>neither</td>\n",
       "      <td>23:30</td>\n",
       "    </tr>\n",
       "    <tr>\n",
       "      <th>120</th>\n",
       "      <td>Next question</td>\n",
       "      <td>No</td>\n",
       "      <td>male</td>\n",
       "      <td>fat</td>\n",
       "      <td>Dizzy Miss Lizzy was a terrible song to end He...</td>\n",
       "    </tr>\n",
       "    <tr>\n",
       "      <th>135</th>\n",
       "      <td>75</td>\n",
       "      <td>7,66789E+13</td>\n",
       "      <td>male</td>\n",
       "      <td>fat</td>\n",
       "      <td>11:45</td>\n",
       "    </tr>\n",
       "    <tr>\n",
       "      <th>141</th>\n",
       "      <td>-69</td>\n",
       "      <td>omega</td>\n",
       "      <td>gender fluid</td>\n",
       "      <td>slim</td>\n",
       "      <td>4:15</td>\n",
       "    </tr>\n",
       "    <tr>\n",
       "      <th>168</th>\n",
       "      <td>40</td>\n",
       "      <td>e</td>\n",
       "      <td>male</td>\n",
       "      <td>fat</td>\n",
       "      <td>01:00</td>\n",
       "    </tr>\n",
       "    <tr>\n",
       "      <th>187</th>\n",
       "      <td>70</td>\n",
       "      <td>54.727.163.638.182.600.000.000.000.000.000.000...</td>\n",
       "      <td>male</td>\n",
       "      <td>I have no idea what you are talking about</td>\n",
       "      <td>23:00</td>\n",
       "    </tr>\n",
       "    <tr>\n",
       "      <th>211</th>\n",
       "      <td>102</td>\n",
       "      <td>9,13747E+12</td>\n",
       "      <td>gender fluid</td>\n",
       "      <td>I have no idea what you are talking about</td>\n",
       "      <td>To be or not to be?</td>\n",
       "    </tr>\n",
       "    <tr>\n",
       "      <th>228</th>\n",
       "      <td>33</td>\n",
       "      <td>sqrt(687458.9665)</td>\n",
       "      <td>male</td>\n",
       "      <td>I have no idea what you are talking about</td>\n",
       "      <td>10</td>\n",
       "    </tr>\n",
       "    <tr>\n",
       "      <th>236</th>\n",
       "      <td>10</td>\n",
       "      <td>6,96788E+14</td>\n",
       "      <td>male</td>\n",
       "      <td>unknown</td>\n",
       "      <td>5:00 PM</td>\n",
       "    </tr>\n",
       "    <tr>\n",
       "      <th>237</th>\n",
       "      <td>-100</td>\n",
       "      <td>∞</td>\n",
       "      <td>female</td>\n",
       "      <td>slim</td>\n",
       "      <td>2am</td>\n",
       "    </tr>\n",
       "    <tr>\n",
       "      <th>249</th>\n",
       "      <td>5</td>\n",
       "      <td>dont tell me what to do</td>\n",
       "      <td>male</td>\n",
       "      <td>neither</td>\n",
       "      <td>?</td>\n",
       "    </tr>\n",
       "    <tr>\n",
       "      <th>296</th>\n",
       "      <td>62</td>\n",
       "      <td>-34,67</td>\n",
       "      <td>male</td>\n",
       "      <td>fat</td>\n",
       "      <td>1:30AM</td>\n",
       "    </tr>\n",
       "  </tbody>\n",
       "</table>\n",
       "</div>"
      ],
      "text/plain": [
       "            Stress                                      random_number  \\\n",
       "95       Over 9000                                                  Π   \n",
       "108             10                          1947271047294720^10204847   \n",
       "120  Next question                                                 No   \n",
       "135             75                                        7,66789E+13   \n",
       "141            -69                                              omega   \n",
       "168             40                                                  e   \n",
       "187             70  54.727.163.638.182.600.000.000.000.000.000.000...   \n",
       "211            102                                        9,13747E+12   \n",
       "228             33                                  sqrt(687458.9665)   \n",
       "236             10                                        6,96788E+14   \n",
       "237           -100                                                  ∞   \n",
       "249              5                            dont tell me what to do   \n",
       "296             62                                             -34,67   \n",
       "\n",
       "                    Gender                        Chocolate_influence  \\\n",
       "95            gender fluid  I have no idea what you are talking about   \n",
       "108  not willing to answer                                    neither   \n",
       "120                   male                                        fat   \n",
       "135                   male                                        fat   \n",
       "141           gender fluid                                       slim   \n",
       "168                   male                                        fat   \n",
       "187                   male  I have no idea what you are talking about   \n",
       "211           gender fluid  I have no idea what you are talking about   \n",
       "228                   male  I have no idea what you are talking about   \n",
       "236                   male                                    unknown   \n",
       "237                 female                                       slim   \n",
       "249                   male                                    neither   \n",
       "296                   male                                        fat   \n",
       "\n",
       "                                           time_to_bed  \n",
       "95                                                   Ω  \n",
       "108                                              23:30  \n",
       "120  Dizzy Miss Lizzy was a terrible song to end He...  \n",
       "135                                              11:45  \n",
       "141                                               4:15  \n",
       "168                                              01:00  \n",
       "187                                              23:00  \n",
       "211                                To be or not to be?  \n",
       "228                                                 10  \n",
       "236                                            5:00 PM  \n",
       "237                                                2am  \n",
       "249                                                  ?  \n",
       "296                                             1:30AM  "
      ]
     },
     "metadata": {},
     "output_type": "display_data"
    }
   ],
   "source": [
    "def my_convert_to_number(x):\n",
    "    try:\n",
    "        return float(x)\n",
    "    except:\n",
    "        return None \n",
    "\n",
    "\n",
    "df_odi['random_number_'] = df_odi['random_number'].map(my_convert_to_number)\n",
    "display(df_odi[['Stress','random_number','Gender','Chocolate_influence','time_to_bed']].loc[df_odi['random_number_'].isna()])\n"
   ]
  },
  {
   "cell_type": "code",
   "execution_count": null,
   "id": "e1e83cbf",
   "metadata": {},
   "outputs": [],
   "source": []
  },
  {
   "cell_type": "markdown",
   "id": "44633faa",
   "metadata": {},
   "source": [
    "### Pie chart of Gender put None as random number - no rule obeing "
   ]
  },
  {
   "cell_type": "code",
   "execution_count": 11,
   "id": "b0bcdfdd",
   "metadata": {},
   "outputs": [
    {
     "data": {
      "text/plain": [
       "Text(0.5, 1.0, 'gender distribution for correct data in random number')"
      ]
     },
     "execution_count": 11,
     "metadata": {},
     "output_type": "execute_result"
    },
    {
     "data": {
      "image/png": "[encoded data removed]",
      "text/plain": [
       "<Figure size 504x504 with 1 Axes>"
      ]
     },
     "metadata": {},
     "output_type": "display_data"
    },
    {
     "data": {
      "image/png": "[encoded data removed]",
      "text/plain": [
       "<Figure size 504x504 with 1 Axes>"
      ]
     },
     "metadata": {},
     "output_type": "display_data"
    }
   ],
   "source": [
    "plt.figure(1)\n",
    "df_odi[['Gender']].loc[df_odi['random_number_'] .isna()].groupby('Gender')['Gender'].count().plot.pie(autopct='%.2f',figsize=(7,7))\n",
    "plt.title('gender distribution for erronious data in random number')\n",
    "\n",
    "plt.figure(2)\n",
    "df_odi[['Gender']].loc[df_odi['random_number_'] .isna()==False].groupby('Gender')['Gender'].count().plot.pie(autopct='%.2f',figsize=(7,7))\n",
    "plt.title('gender distribution for correct data in random number')\n"
   ]
  },
  {
   "cell_type": "code",
   "execution_count": null,
   "id": "71e54b15",
   "metadata": {},
   "outputs": [],
   "source": []
  },
  {
   "cell_type": "markdown",
   "id": "5cf40df3",
   "metadata": {},
   "source": [
    "### Good day distribution"
   ]
  },
  {
   "cell_type": "code",
   "execution_count": null,
   "id": "7b7ca556",
   "metadata": {},
   "outputs": [],
   "source": [
    "from wordcloud import WordCloud\n",
    "from collections import Counter\n",
    "dictionary=Counter(df_odi['good_day_2'])\n",
    "\n",
    "cloud = WordCloud(max_font_size=80,colormap=\"hsv\").generate_from_frequencies(dictionary)\n",
    "plt.figure(figsize=(16,12))\n",
    "plt.imshow(cloud, interpolation='bilinear')\n",
    "plt.axis('off')\n",
    "plt.show()"
   ]
  },
  {
   "cell_type": "code",
   "execution_count": null,
   "id": "406602bc",
   "metadata": {},
   "outputs": [],
   "source": [
    "from wordcloud import WordCloud\n",
    "from collections import Counter\n",
    "dictionary=Counter(df_odi['good_day_1'])\n",
    "\n",
    "cloud = WordCloud(max_font_size=80,colormap=\"hsv\").generate_from_frequencies(dictionary)\n",
    "plt.figure(figsize=(16,12))\n",
    "plt.imshow(cloud, interpolation='bilinear')\n",
    "plt.axis('off')\n",
    "plt.show()"
   ]
  },
  {
   "cell_type": "code",
   "execution_count": null,
   "id": "ef81795f",
   "metadata": {},
   "outputs": [],
   "source": []
  }
 ],
 "metadata": {
  "kernelspec": {
   "display_name": "Python 3",
   "language": "python",
   "name": "python3"
  },
  "language_info": {
   "codemirror_mode": {
    "name": "ipython",
    "version": 3
   },
   "file_extension": ".py",
   "mimetype": "text/x-python",
   "name": "python",
   "nbconvert_exporter": "python",
   "pygments_lexer": "ipython3",
   "version": "3.9.7"
  }
 },
 "nbformat": 4,
 "nbformat_minor": 5
}
