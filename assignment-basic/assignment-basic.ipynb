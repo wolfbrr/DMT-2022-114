{
 "cells": [
  {
   "cell_type": "code",
   "execution_count": 1,
   "id": "9e70f8f0",
   "metadata": {},
   "outputs": [],
   "source": [
    "import pandas as pd\n",
    "import seaborn as sns\n",
    "import matplotlib.pyplot as plt\n",
    "import numpy as np\n",
    "from mltools import my_convert_to_number\n",
    "from wordcloud import WordCloud\n",
    "from collections import Counter\n",
    "sns.set(style=\"darkgrid\")"
   ]
  },
  {
   "cell_type": "code",
   "execution_count": 2,
   "id": "2d55986a",
   "metadata": {},
   "outputs": [],
   "source": [
    "odi_df = pd.read_csv('ODI-2022.csv',delimiter=\";\")"
   ]
  },
  {
   "cell_type": "markdown",
   "id": "18d9e0c5",
   "metadata": {},
   "source": [
    "### Number of records"
   ]
  },
  {
   "cell_type": "code",
   "execution_count": 3,
   "id": "4c21d83b",
   "metadata": {},
   "outputs": [
    {
     "name": "stdout",
     "output_type": "stream",
     "text": [
      "304\n"
     ]
    }
   ],
   "source": [
    "print(len(odi_df.index))"
   ]
  },
  {
   "cell_type": "markdown",
   "id": "f1cd0561",
   "metadata": {},
   "source": [
    "### Number of attributes"
   ]
  },
  {
   "cell_type": "code",
   "execution_count": 4,
   "id": "10ce2e07",
   "metadata": {},
   "outputs": [
    {
     "name": "stdout",
     "output_type": "stream",
     "text": [
      "17\n"
     ]
    }
   ],
   "source": [
    "print(len(odi_df.columns))"
   ]
  },
  {
   "cell_type": "markdown",
   "id": "713097d2",
   "metadata": {},
   "source": [
    "### Attributes are\n",
    "    "
   ]
  },
  {
   "cell_type": "code",
   "execution_count": 5,
   "id": "a7a5a8f1",
   "metadata": {},
   "outputs": [
    {
     "name": "stdout",
     "output_type": "stream",
     "text": [
      "Index(['Tijdstempel', 'What programme are you in?',\n",
      "       'Have you taken a course on machine learning?',\n",
      "       'Have you taken a course on information retrieval?',\n",
      "       'Have you taken a course on statistics?',\n",
      "       'Have you taken a course on databases?', 'What is your gender?',\n",
      "       'Chocolate makes you.....', 'When is your birthday (date)?',\n",
      "       'Number of neighbors sitting around you?', 'Did you stand up?',\n",
      "       'What is your stress level (0-100)?',\n",
      "       'You can get 100 euros if you win a local DM competition, or we don’t hold any competitions and I give everyone some money (not the same amount!). How much do you think you would deserve then? ',\n",
      "       'Give a random number', 'Time you went to be Yesterday',\n",
      "       'What makes a good day for you (1)?',\n",
      "       'What makes a good day for you (2)?'],\n",
      "      dtype='object')\n"
     ]
    }
   ],
   "source": [
    "print((odi_df.columns))"
   ]
  },
  {
   "cell_type": "markdown",
   "id": "33faa4e8",
   "metadata": {},
   "source": [
    "### Replace columns name"
   ]
  },
  {
   "cell_type": "code",
   "execution_count": 6,
   "id": "d39db79c",
   "metadata": {},
   "outputs": [
    {
     "data": {
      "text/html": [
       "<div>\n",
       "<style scoped>\n",
       "    .dataframe tbody tr th:only-of-type {\n",
       "        vertical-align: middle;\n",
       "    }\n",
       "\n",
       "    .dataframe tbody tr th {\n",
       "        vertical-align: top;\n",
       "    }\n",
       "\n",
       "    .dataframe thead th {\n",
       "        text-align: right;\n",
       "    }\n",
       "</style>\n",
       "<table border=\"1\" class=\"dataframe\">\n",
       "  <thead>\n",
       "    <tr style=\"text-align: right;\">\n",
       "      <th></th>\n",
       "      <th>time</th>\n",
       "      <th>program</th>\n",
       "      <th>ML</th>\n",
       "      <th>IR</th>\n",
       "      <th>Statistics</th>\n",
       "      <th>DB</th>\n",
       "      <th>Gender</th>\n",
       "      <th>Chocolate_influence</th>\n",
       "      <th>Birthday</th>\n",
       "      <th>neighbors</th>\n",
       "      <th>Stand_Up</th>\n",
       "      <th>Stress</th>\n",
       "      <th>Euros_Question</th>\n",
       "      <th>random_number</th>\n",
       "      <th>time_to_bed</th>\n",
       "      <th>good_day_1</th>\n",
       "      <th>good_day_2</th>\n",
       "    </tr>\n",
       "  </thead>\n",
       "  <tbody>\n",
       "    <tr>\n",
       "      <th>0</th>\n",
       "      <td>4-5-2022 12:12:07</td>\n",
       "      <td>artificial intelligence</td>\n",
       "      <td>yes</td>\n",
       "      <td>0</td>\n",
       "      <td>mu</td>\n",
       "      <td>nee</td>\n",
       "      <td>female</td>\n",
       "      <td>neither</td>\n",
       "      <td>02.05.1998</td>\n",
       "      <td>0</td>\n",
       "      <td>no</td>\n",
       "      <td>0</td>\n",
       "      <td>5</td>\n",
       "      <td>888</td>\n",
       "      <td>23:00</td>\n",
       "      <td>coffee</td>\n",
       "      <td>sun</td>\n",
       "    </tr>\n",
       "    <tr>\n",
       "      <th>1</th>\n",
       "      <td>4-5-2022 12:12:07</td>\n",
       "      <td>big data</td>\n",
       "      <td>yes</td>\n",
       "      <td>0</td>\n",
       "      <td>mu</td>\n",
       "      <td>nee</td>\n",
       "      <td>male</td>\n",
       "      <td>fat</td>\n",
       "      <td>29-02-2000</td>\n",
       "      <td>0</td>\n",
       "      <td>yes</td>\n",
       "      <td>200</td>\n",
       "      <td>1</td>\n",
       "      <td>12</td>\n",
       "      <td>32</td>\n",
       "      <td>7777</td>\n",
       "      <td>8964</td>\n",
       "    </tr>\n",
       "    <tr>\n",
       "      <th>2</th>\n",
       "      <td>4-5-2022 12:12:09</td>\n",
       "      <td>Computational  Science</td>\n",
       "      <td>yes</td>\n",
       "      <td>1</td>\n",
       "      <td>mu</td>\n",
       "      <td>ja</td>\n",
       "      <td>male</td>\n",
       "      <td>fat</td>\n",
       "      <td>29-06-1998</td>\n",
       "      <td>1</td>\n",
       "      <td>no</td>\n",
       "      <td>0</td>\n",
       "      <td>100</td>\n",
       "      <td>9</td>\n",
       "      <td>x</td>\n",
       "      <td>0</td>\n",
       "      <td>0</td>\n",
       "    </tr>\n",
       "    <tr>\n",
       "      <th>3</th>\n",
       "      <td>4-5-2022 12:12:09</td>\n",
       "      <td>Bioinformatics and Systems Biology</td>\n",
       "      <td>yes</td>\n",
       "      <td>0</td>\n",
       "      <td>unknown</td>\n",
       "      <td>nee</td>\n",
       "      <td>male</td>\n",
       "      <td>neither</td>\n",
       "      <td>11/05/97</td>\n",
       "      <td>0</td>\n",
       "      <td>no</td>\n",
       "      <td>20</td>\n",
       "      <td>100</td>\n",
       "      <td>31</td>\n",
       "      <td>14:00</td>\n",
       "      <td>good food</td>\n",
       "      <td>no stress</td>\n",
       "    </tr>\n",
       "    <tr>\n",
       "      <th>4</th>\n",
       "      <td>4-5-2022 12:12:15</td>\n",
       "      <td>AI</td>\n",
       "      <td>yes</td>\n",
       "      <td>1</td>\n",
       "      <td>mu</td>\n",
       "      <td>ja</td>\n",
       "      <td>male</td>\n",
       "      <td>fat</td>\n",
       "      <td>03-10-1997</td>\n",
       "      <td>0</td>\n",
       "      <td>no</td>\n",
       "      <td>2</td>\n",
       "      <td>100</td>\n",
       "      <td>86</td>\n",
       "      <td>07:20</td>\n",
       "      <td>Sunshine</td>\n",
       "      <td>Good Food</td>\n",
       "    </tr>\n",
       "    <tr>\n",
       "      <th>...</th>\n",
       "      <td>...</td>\n",
       "      <td>...</td>\n",
       "      <td>...</td>\n",
       "      <td>...</td>\n",
       "      <td>...</td>\n",
       "      <td>...</td>\n",
       "      <td>...</td>\n",
       "      <td>...</td>\n",
       "      <td>...</td>\n",
       "      <td>...</td>\n",
       "      <td>...</td>\n",
       "      <td>...</td>\n",
       "      <td>...</td>\n",
       "      <td>...</td>\n",
       "      <td>...</td>\n",
       "      <td>...</td>\n",
       "      <td>...</td>\n",
       "    </tr>\n",
       "    <tr>\n",
       "      <th>299</th>\n",
       "      <td>4-5-2022 12:35:31</td>\n",
       "      <td>Ai</td>\n",
       "      <td>yes</td>\n",
       "      <td>1</td>\n",
       "      <td>unknown</td>\n",
       "      <td>nee</td>\n",
       "      <td>not willing to answer</td>\n",
       "      <td>fat</td>\n",
       "      <td>1/1/1956</td>\n",
       "      <td>2</td>\n",
       "      <td>no</td>\n",
       "      <td>30</td>\n",
       "      <td>99</td>\n",
       "      <td>6</td>\n",
       "      <td>5</td>\n",
       "      <td>Yes</td>\n",
       "      <td>No</td>\n",
       "    </tr>\n",
       "    <tr>\n",
       "      <th>300</th>\n",
       "      <td>4-5-2022 12:37:05</td>\n",
       "      <td>E</td>\n",
       "      <td>yes</td>\n",
       "      <td>1</td>\n",
       "      <td>mu</td>\n",
       "      <td>ja</td>\n",
       "      <td>male</td>\n",
       "      <td>slim</td>\n",
       "      <td>9</td>\n",
       "      <td>9</td>\n",
       "      <td>yes</td>\n",
       "      <td>9</td>\n",
       "      <td>5</td>\n",
       "      <td>0</td>\n",
       "      <td>9</td>\n",
       "      <td>9</td>\n",
       "      <td>9</td>\n",
       "    </tr>\n",
       "    <tr>\n",
       "      <th>301</th>\n",
       "      <td>4-5-2022 12:41:59</td>\n",
       "      <td>MSc Computational Science</td>\n",
       "      <td>no</td>\n",
       "      <td>0</td>\n",
       "      <td>mu</td>\n",
       "      <td>nee</td>\n",
       "      <td>male</td>\n",
       "      <td>I have no idea what you are talking about</td>\n",
       "      <td>17/07/1995</td>\n",
       "      <td>0</td>\n",
       "      <td>no</td>\n",
       "      <td>666</td>\n",
       "      <td>1</td>\n",
       "      <td>123</td>\n",
       "      <td>555</td>\n",
       "      <td>Good food</td>\n",
       "      <td>Sleep more than 6 hours</td>\n",
       "    </tr>\n",
       "    <tr>\n",
       "      <th>302</th>\n",
       "      <td>4-5-2022 12:54:39</td>\n",
       "      <td>Artificial Intelligence</td>\n",
       "      <td>yes</td>\n",
       "      <td>0</td>\n",
       "      <td>mu</td>\n",
       "      <td>nee</td>\n",
       "      <td>not willing to answer</td>\n",
       "      <td>neither</td>\n",
       "      <td>17</td>\n",
       "      <td>0</td>\n",
       "      <td>yes</td>\n",
       "      <td>70</td>\n",
       "      <td>87</td>\n",
       "      <td>7</td>\n",
       "      <td>0</td>\n",
       "      <td>nice weather</td>\n",
       "      <td>good mood</td>\n",
       "    </tr>\n",
       "    <tr>\n",
       "      <th>303</th>\n",
       "      <td>4-5-2022 13:27:19</td>\n",
       "      <td>Business Analytics</td>\n",
       "      <td>yes</td>\n",
       "      <td>1</td>\n",
       "      <td>mu</td>\n",
       "      <td>ja</td>\n",
       "      <td>male</td>\n",
       "      <td>neither</td>\n",
       "      <td>12/05/1998</td>\n",
       "      <td>0</td>\n",
       "      <td>no</td>\n",
       "      <td>66</td>\n",
       "      <td>0</td>\n",
       "      <td>789458455584851844184</td>\n",
       "      <td>04:00 AM</td>\n",
       "      <td>-</td>\n",
       "      <td>-</td>\n",
       "    </tr>\n",
       "  </tbody>\n",
       "</table>\n",
       "<p>304 rows × 17 columns</p>\n",
       "</div>"
      ],
      "text/plain": [
       "                  time                             program   ML IR Statistics  \\\n",
       "0    4-5-2022 12:12:07             artificial intelligence  yes  0         mu   \n",
       "1    4-5-2022 12:12:07                            big data  yes  0         mu   \n",
       "2    4-5-2022 12:12:09              Computational  Science  yes  1         mu   \n",
       "3    4-5-2022 12:12:09  Bioinformatics and Systems Biology  yes  0    unknown   \n",
       "4    4-5-2022 12:12:15                                  AI  yes  1         mu   \n",
       "..                 ...                                 ...  ... ..        ...   \n",
       "299  4-5-2022 12:35:31                                  Ai  yes  1    unknown   \n",
       "300  4-5-2022 12:37:05                                   E  yes  1         mu   \n",
       "301  4-5-2022 12:41:59           MSc Computational Science   no  0         mu   \n",
       "302  4-5-2022 12:54:39             Artificial Intelligence  yes  0         mu   \n",
       "303  4-5-2022 13:27:19                  Business Analytics  yes  1         mu   \n",
       "\n",
       "      DB                 Gender                        Chocolate_influence  \\\n",
       "0    nee                 female                                    neither   \n",
       "1    nee                   male                                        fat   \n",
       "2     ja                   male                                        fat   \n",
       "3    nee                   male                                    neither   \n",
       "4     ja                   male                                        fat   \n",
       "..   ...                    ...                                        ...   \n",
       "299  nee  not willing to answer                                        fat   \n",
       "300   ja                   male                                       slim   \n",
       "301  nee                   male  I have no idea what you are talking about   \n",
       "302  nee  not willing to answer                                    neither   \n",
       "303   ja                   male                                    neither   \n",
       "\n",
       "       Birthday neighbors Stand_Up Stress Euros_Question  \\\n",
       "0    02.05.1998         0       no      0              5   \n",
       "1    29-02-2000         0      yes    200              1   \n",
       "2    29-06-1998         1       no      0            100   \n",
       "3      11/05/97         0       no     20            100   \n",
       "4    03-10-1997         0       no      2            100   \n",
       "..          ...       ...      ...    ...            ...   \n",
       "299    1/1/1956         2       no     30             99   \n",
       "300           9         9      yes      9              5   \n",
       "301  17/07/1995         0       no    666              1   \n",
       "302          17         0      yes     70             87   \n",
       "303  12/05/1998         0       no     66              0   \n",
       "\n",
       "             random_number time_to_bed    good_day_1                good_day_2  \n",
       "0                      888       23:00        coffee                       sun  \n",
       "1                       12          32          7777                      8964  \n",
       "2                        9           x             0                         0  \n",
       "3                       31       14:00     good food                 no stress  \n",
       "4                       86       07:20      Sunshine                 Good Food  \n",
       "..                     ...         ...           ...                       ...  \n",
       "299                      6           5           Yes                        No  \n",
       "300                      0           9             9                         9  \n",
       "301                    123         555     Good food  Sleep more than 6 hours   \n",
       "302                      7           0  nice weather                 good mood  \n",
       "303  789458455584851844184    04:00 AM             -                         -  \n",
       "\n",
       "[304 rows x 17 columns]"
      ]
     },
     "metadata": {},
     "output_type": "display_data"
    }
   ],
   "source": [
    " odi_df.columns = ['time',\\\n",
    "                   'program',\\\n",
    "                   'ML',\\\n",
    "                   'IR',\\\n",
    "                   'Statistics',\\\n",
    "                   'DB',\\\n",
    "                   'Gender',\\\n",
    "               'Chocolate_influence',\\\n",
    "                   'Birthday',\\\n",
    "                   'neighbors',\\\n",
    "                   'Stand_Up',\\\n",
    "                   'Stress',\\\n",
    "              'Euros_Question',\\\n",
    "                   'random_number',\\\n",
    "                   'time_to_bed',\\\n",
    "                   'good_day_1',\\\n",
    "                   'good_day_2']\n",
    "display(odi_df)"
   ]
  },
  {
   "cell_type": "markdown",
   "id": "e6973056",
   "metadata": {},
   "source": [
    "### Gender distribution"
   ]
  },
  {
   "cell_type": "code",
   "execution_count": 7,
   "id": "145fc51e",
   "metadata": {},
   "outputs": [
    {
     "data": {
      "text/plain": [
       "Gender\n",
       "female                   102\n",
       "gender fluid               6\n",
       "intersex                   1\n",
       "male                     183\n",
       "not willing to answer     12\n",
       "Name: Gender, dtype: int64"
      ]
     },
     "metadata": {},
     "output_type": "display_data"
    },
    {
     "data": {
      "text/plain": [
       "<matplotlib.axes._subplots.AxesSubplot at 0x7ffa95156fd0>"
      ]
     },
     "execution_count": 7,
     "metadata": {},
     "output_type": "execute_result"
    },
    {
     "data": {
      "image/png": "[encoded data removed]",
      "text/plain": [
       "<Figure size 504x504 with 1 Axes>"
      ]
     },
     "metadata": {},
     "output_type": "display_data"
    }
   ],
   "source": [
    "display(odi_df.groupby('Gender')['Gender'].count())\n",
    "odi_df.groupby('Gender')['Gender'].count().plot.pie(autopct='%.2f',figsize=(7,7))\n",
    "#mask = (odi_df['Gender']!='male') & (odi_df['Gender']!='female')\n",
    "#odi_df['Gender'].loc[mask]"
   ]
  },
  {
   "cell_type": "markdown",
   "id": "14cc3d5a",
   "metadata": {},
   "source": [
    "### Random number"
   ]
  },
  {
   "cell_type": "code",
   "execution_count": 8,
   "id": "4748610f",
   "metadata": {},
   "outputs": [],
   "source": [
    "odi_df['random_number'] = odi_df['random_number'].map(my_convert_to_number)\n",
    "odi_df['Stress'] = odi_df['Stress'].map(my_convert_to_number)\n",
    "odi_df['random_number'] = odi_df['random_number'].map(my_convert_to_number)\n",
    "odi_df['neighbors'] = odi_df['neighbors'].map(my_convert_to_number)\n",
    "odi_df['Euros_Question'] = odi_df['Euros_Question'].map(my_convert_to_number)\n"
   ]
  },
  {
   "cell_type": "markdown",
   "id": "29806f7e",
   "metadata": {},
   "source": [
    "### Distribution of gender who has entred random numbers noise"
   ]
  },
  {
   "cell_type": "code",
   "execution_count": 9,
   "id": "8630f33f",
   "metadata": {},
   "outputs": [
    {
     "data": {
      "text/html": [
       "<div>\n",
       "<style scoped>\n",
       "    .dataframe tbody tr th:only-of-type {\n",
       "        vertical-align: middle;\n",
       "    }\n",
       "\n",
       "    .dataframe tbody tr th {\n",
       "        vertical-align: top;\n",
       "    }\n",
       "\n",
       "    .dataframe thead th {\n",
       "        text-align: right;\n",
       "    }\n",
       "</style>\n",
       "<table border=\"1\" class=\"dataframe\">\n",
       "  <thead>\n",
       "    <tr style=\"text-align: right;\">\n",
       "      <th></th>\n",
       "      <th>Stress</th>\n",
       "      <th>random_number</th>\n",
       "      <th>Gender</th>\n",
       "      <th>Chocolate_influence</th>\n",
       "      <th>time_to_bed</th>\n",
       "    </tr>\n",
       "  </thead>\n",
       "  <tbody>\n",
       "    <tr>\n",
       "      <th>0</th>\n",
       "      <td>0.0</td>\n",
       "      <td>8.880000e+02</td>\n",
       "      <td>female</td>\n",
       "      <td>neither</td>\n",
       "      <td>23:00</td>\n",
       "    </tr>\n",
       "    <tr>\n",
       "      <th>1</th>\n",
       "      <td>200.0</td>\n",
       "      <td>1.200000e+01</td>\n",
       "      <td>male</td>\n",
       "      <td>fat</td>\n",
       "      <td>32</td>\n",
       "    </tr>\n",
       "    <tr>\n",
       "      <th>2</th>\n",
       "      <td>0.0</td>\n",
       "      <td>9.000000e+00</td>\n",
       "      <td>male</td>\n",
       "      <td>fat</td>\n",
       "      <td>x</td>\n",
       "    </tr>\n",
       "    <tr>\n",
       "      <th>3</th>\n",
       "      <td>20.0</td>\n",
       "      <td>3.100000e+01</td>\n",
       "      <td>male</td>\n",
       "      <td>neither</td>\n",
       "      <td>14:00</td>\n",
       "    </tr>\n",
       "    <tr>\n",
       "      <th>4</th>\n",
       "      <td>2.0</td>\n",
       "      <td>8.600000e+01</td>\n",
       "      <td>male</td>\n",
       "      <td>fat</td>\n",
       "      <td>07:20</td>\n",
       "    </tr>\n",
       "    <tr>\n",
       "      <th>...</th>\n",
       "      <td>...</td>\n",
       "      <td>...</td>\n",
       "      <td>...</td>\n",
       "      <td>...</td>\n",
       "      <td>...</td>\n",
       "    </tr>\n",
       "    <tr>\n",
       "      <th>299</th>\n",
       "      <td>30.0</td>\n",
       "      <td>6.000000e+00</td>\n",
       "      <td>not willing to answer</td>\n",
       "      <td>fat</td>\n",
       "      <td>5</td>\n",
       "    </tr>\n",
       "    <tr>\n",
       "      <th>300</th>\n",
       "      <td>9.0</td>\n",
       "      <td>0.000000e+00</td>\n",
       "      <td>male</td>\n",
       "      <td>slim</td>\n",
       "      <td>9</td>\n",
       "    </tr>\n",
       "    <tr>\n",
       "      <th>301</th>\n",
       "      <td>666.0</td>\n",
       "      <td>1.230000e+02</td>\n",
       "      <td>male</td>\n",
       "      <td>I have no idea what you are talking about</td>\n",
       "      <td>555</td>\n",
       "    </tr>\n",
       "    <tr>\n",
       "      <th>302</th>\n",
       "      <td>70.0</td>\n",
       "      <td>7.000000e+00</td>\n",
       "      <td>not willing to answer</td>\n",
       "      <td>neither</td>\n",
       "      <td>0</td>\n",
       "    </tr>\n",
       "    <tr>\n",
       "      <th>303</th>\n",
       "      <td>66.0</td>\n",
       "      <td>7.894585e+20</td>\n",
       "      <td>male</td>\n",
       "      <td>neither</td>\n",
       "      <td>04:00 AM</td>\n",
       "    </tr>\n",
       "  </tbody>\n",
       "</table>\n",
       "<p>291 rows × 5 columns</p>\n",
       "</div>"
      ],
      "text/plain": [
       "     Stress  random_number                 Gender  \\\n",
       "0       0.0   8.880000e+02                 female   \n",
       "1     200.0   1.200000e+01                   male   \n",
       "2       0.0   9.000000e+00                   male   \n",
       "3      20.0   3.100000e+01                   male   \n",
       "4       2.0   8.600000e+01                   male   \n",
       "..      ...            ...                    ...   \n",
       "299    30.0   6.000000e+00  not willing to answer   \n",
       "300     9.0   0.000000e+00                   male   \n",
       "301   666.0   1.230000e+02                   male   \n",
       "302    70.0   7.000000e+00  not willing to answer   \n",
       "303    66.0   7.894585e+20                   male   \n",
       "\n",
       "                           Chocolate_influence time_to_bed  \n",
       "0                                      neither       23:00  \n",
       "1                                          fat          32  \n",
       "2                                          fat           x  \n",
       "3                                      neither       14:00  \n",
       "4                                          fat       07:20  \n",
       "..                                         ...         ...  \n",
       "299                                        fat           5  \n",
       "300                                       slim           9  \n",
       "301  I have no idea what you are talking about         555  \n",
       "302                                    neither           0  \n",
       "303                                    neither    04:00 AM  \n",
       "\n",
       "[291 rows x 5 columns]"
      ]
     },
     "metadata": {},
     "output_type": "display_data"
    }
   ],
   "source": [
    "display(odi_df[['Stress','random_number','Gender','Chocolate_influence','time_to_bed']].loc[odi_df['random_number'].isna()==False])\n"
   ]
  },
  {
   "cell_type": "code",
   "execution_count": 10,
   "id": "e1e83cbf",
   "metadata": {},
   "outputs": [
    {
     "data": {
      "text/html": [
       "<div>\n",
       "<style scoped>\n",
       "    .dataframe tbody tr th:only-of-type {\n",
       "        vertical-align: middle;\n",
       "    }\n",
       "\n",
       "    .dataframe tbody tr th {\n",
       "        vertical-align: top;\n",
       "    }\n",
       "\n",
       "    .dataframe thead th {\n",
       "        text-align: right;\n",
       "    }\n",
       "</style>\n",
       "<table border=\"1\" class=\"dataframe\">\n",
       "  <thead>\n",
       "    <tr style=\"text-align: right;\">\n",
       "      <th></th>\n",
       "      <th>neighbors</th>\n",
       "      <th>Stress</th>\n",
       "      <th>Euros_Question</th>\n",
       "      <th>random_number</th>\n",
       "    </tr>\n",
       "  </thead>\n",
       "  <tbody>\n",
       "    <tr>\n",
       "      <th>neighbors</th>\n",
       "      <td>1.000000</td>\n",
       "      <td>-0.003453</td>\n",
       "      <td>-0.006193</td>\n",
       "      <td>-0.005803</td>\n",
       "    </tr>\n",
       "    <tr>\n",
       "      <th>Stress</th>\n",
       "      <td>-0.003453</td>\n",
       "      <td>1.000000</td>\n",
       "      <td>-0.006156</td>\n",
       "      <td>-0.000000</td>\n",
       "    </tr>\n",
       "    <tr>\n",
       "      <th>Euros_Question</th>\n",
       "      <td>-0.006193</td>\n",
       "      <td>-0.006156</td>\n",
       "      <td>1.000000</td>\n",
       "      <td>-0.006399</td>\n",
       "    </tr>\n",
       "    <tr>\n",
       "      <th>random_number</th>\n",
       "      <td>-0.005803</td>\n",
       "      <td>-0.000000</td>\n",
       "      <td>-0.006399</td>\n",
       "      <td>0.000000</td>\n",
       "    </tr>\n",
       "  </tbody>\n",
       "</table>\n",
       "</div>"
      ],
      "text/plain": [
       "                neighbors    Stress  Euros_Question  random_number\n",
       "neighbors        1.000000 -0.003453       -0.006193      -0.005803\n",
       "Stress          -0.003453  1.000000       -0.006156      -0.000000\n",
       "Euros_Question  -0.006193 -0.006156        1.000000      -0.006399\n",
       "random_number   -0.005803 -0.000000       -0.006399       0.000000"
      ]
     },
     "execution_count": 10,
     "metadata": {},
     "output_type": "execute_result"
    }
   ],
   "source": [
    "odi_df.corr(method ='pearson')"
   ]
  },
  {
   "cell_type": "markdown",
   "id": "44633faa",
   "metadata": {},
   "source": [
    "### Pie chart of Gender put None as random number - no rule obeing "
   ]
  },
  {
   "cell_type": "code",
   "execution_count": 11,
   "id": "b0bcdfdd",
   "metadata": {},
   "outputs": [
    {
     "data": {
      "text/plain": [
       "Text(0.5,1,'gender distribution for correct data in random number')"
      ]
     },
     "execution_count": 11,
     "metadata": {},
     "output_type": "execute_result"
    },
    {
     "data": {
      "image/png": "[encoded data removed]",
      "text/plain": [
       "<Figure size 504x504 with 1 Axes>"
      ]
     },
     "metadata": {},
     "output_type": "display_data"
    },
    {
     "data": {
      "image/png": "[encoded data removed]",
      "text/plain": [
       "<Figure size 504x504 with 1 Axes>"
      ]
     },
     "metadata": {},
     "output_type": "display_data"
    }
   ],
   "source": [
    "plt.figure(1)\n",
    "odi_df[['Gender']].loc[odi_df['random_number'] .isna()].groupby('Gender')['Gender'].count().plot.pie(autopct='%.2f',figsize=(7,7))\n",
    "plt.title('gender distribution for erronious data in random number')\n",
    "\n",
    "plt.figure(2)\n",
    "odi_df[['Gender']].loc[odi_df['random_number'] .isna()==False].groupby('Gender')['Gender'].count().plot.pie(autopct='%.2f',figsize=(7,7))\n",
    "plt.title('gender distribution for correct data in random number')\n"
   ]
  },
  {
   "cell_type": "code",
   "execution_count": null,
   "id": "71e54b15",
   "metadata": {},
   "outputs": [],
   "source": []
  },
  {
   "cell_type": "markdown",
   "id": "5cf40df3",
   "metadata": {},
   "source": [
    "### Good day distribution"
   ]
  },
  {
   "cell_type": "code",
   "execution_count": 24,
   "id": "7b7ca556",
   "metadata": {},
   "outputs": [
    {
     "ename": "NameError",
     "evalue": "name 'index' is not defined",
     "output_type": "error",
     "traceback": [
      "\u001b[0;31m---------------------------------------------------------------------------\u001b[0m",
      "\u001b[0;31mNameError\u001b[0m                                 Traceback (most recent call last)",
      "\u001b[0;32m/tmp/ipykernel_11290/2188334020.py\u001b[0m in \u001b[0;36m<module>\u001b[0;34m\u001b[0m\n\u001b[1;32m      1\u001b[0m \u001b[0mdictionary\u001b[0m\u001b[0;34m=\u001b[0m\u001b[0mCounter\u001b[0m\u001b[0;34m(\u001b[0m\u001b[0mlist\u001b[0m\u001b[0;34m(\u001b[0m\u001b[0modi_df\u001b[0m\u001b[0;34m[\u001b[0m\u001b[0;34m'good_day_1'\u001b[0m\u001b[0;34m]\u001b[0m\u001b[0;34m.\u001b[0m\u001b[0mmap\u001b[0m\u001b[0;34m(\u001b[0m\u001b[0;32mlambda\u001b[0m \u001b[0mx\u001b[0m\u001b[0;34m:\u001b[0m \u001b[0mx\u001b[0m\u001b[0;34m.\u001b[0m\u001b[0mlower\u001b[0m\u001b[0;34m(\u001b[0m\u001b[0;34m)\u001b[0m\u001b[0;34m)\u001b[0m\u001b[0;34m)\u001b[0m\u001b[0;34m+\u001b[0m\u001b[0mlist\u001b[0m\u001b[0;34m(\u001b[0m\u001b[0modi_df\u001b[0m\u001b[0;34m[\u001b[0m\u001b[0;34m'good_day_2'\u001b[0m\u001b[0;34m]\u001b[0m\u001b[0;34m.\u001b[0m\u001b[0mmap\u001b[0m\u001b[0;34m(\u001b[0m\u001b[0;32mlambda\u001b[0m \u001b[0mx\u001b[0m\u001b[0;34m:\u001b[0m \u001b[0mx\u001b[0m\u001b[0;34m.\u001b[0m\u001b[0mlower\u001b[0m\u001b[0;34m(\u001b[0m\u001b[0;34m)\u001b[0m\u001b[0;34m)\u001b[0m\u001b[0;34m)\u001b[0m\u001b[0;34m)\u001b[0m\u001b[0;34m\u001b[0m\u001b[0;34m\u001b[0m\u001b[0m\n\u001b[0;32m----> 2\u001b[0;31m \u001b[0msns\u001b[0m\u001b[0;34m.\u001b[0m\u001b[0mboxplot\u001b[0m\u001b[0;34m(\u001b[0m\u001b[0mpd\u001b[0m\u001b[0;34m.\u001b[0m\u001b[0mSeries\u001b[0m\u001b[0;34m(\u001b[0m\u001b[0mdictionary\u001b[0m\u001b[0;34m,\u001b[0m \u001b[0mindex\u001b[0m\u001b[0;34m=\u001b[0m\u001b[0mdictionary\u001b[0m\u001b[0;34m.\u001b[0m\u001b[0mkeys\u001b[0m\u001b[0;34m(\u001b[0m\u001b[0;34m)\u001b[0m\u001b[0;34m)\u001b[0m\u001b[0;34m.\u001b[0m\u001b[0msort_values\u001b[0m\u001b[0;34m(\u001b[0m\u001b[0mascending\u001b[0m\u001b[0;34m=\u001b[0m\u001b[0;32mFalse\u001b[0m\u001b[0;34m)\u001b[0m\u001b[0;34m,\u001b[0m \u001b[0mx\u001b[0m\u001b[0;34m=\u001b[0m\u001b[0mindex\u001b[0m\u001b[0;34m)\u001b[0m\u001b[0;34m\u001b[0m\u001b[0;34m\u001b[0m\u001b[0m\n\u001b[0m\u001b[1;32m      3\u001b[0m \u001b[0;31m#cloud = WordCloud(max_font_size=80,colormap=\"hsv\").generate_from_frequencies(dictionary)\u001b[0m\u001b[0;34m\u001b[0m\u001b[0;34m\u001b[0m\u001b[0;34m\u001b[0m\u001b[0m\n\u001b[1;32m      4\u001b[0m \u001b[0;31m#plt.figure(figsize=(16,12))\u001b[0m\u001b[0;34m\u001b[0m\u001b[0;34m\u001b[0m\u001b[0;34m\u001b[0m\u001b[0m\n\u001b[1;32m      5\u001b[0m \u001b[0;31m#plt.imshow(cloud, interpolation='bilinear')\u001b[0m\u001b[0;34m\u001b[0m\u001b[0;34m\u001b[0m\u001b[0;34m\u001b[0m\u001b[0m\n",
      "\u001b[0;31mNameError\u001b[0m: name 'index' is not defined"
     ]
    }
   ],
   "source": [
    "dictionary=Counter(list(odi_df['good_day_1'].map(lambda x: x.lower()))+list(odi_df['good_day_2'].map(lambda x: x.lower())))\n",
    "sns.boxplot(pd.Series(dictionary, index=dictionary.keys()).sort_values(ascending=False), x=index)\n",
    "#cloud = WordCloud(max_font_size=80,colormap=\"hsv\").generate_from_frequencies(dictionary)\n",
    "#plt.figure(figsize=(16,12))\n",
    "#plt.imshow(cloud, interpolation='bilinear')\n",
    "#plt.axis('off')\n",
    "#plt.show()\n",
    "\n",
    "#plt.bar(dictionary)"
   ]
  },
  {
   "cell_type": "code",
   "execution_count": null,
   "id": "406602bc",
   "metadata": {},
   "outputs": [],
   "source": []
  },
  {
   "cell_type": "code",
   "execution_count": null,
   "id": "ef81795f",
   "metadata": {},
   "outputs": [],
   "source": []
  }
 ],
 "metadata": {
  "kernelspec": {
   "display_name": "Python 3 (ipykernel)",
   "language": "python",
   "name": "python3"
  },
  "language_info": {
   "codemirror_mode": {
    "name": "ipython",
    "version": 3
   },
   "file_extension": ".py",
   "mimetype": "text/x-python",
   "name": "python",
   "nbconvert_exporter": "python",
   "pygments_lexer": "ipython3",
   "version": "3.7.10"
  }
 },
 "nbformat": 4,
 "nbformat_minor": 5
}
