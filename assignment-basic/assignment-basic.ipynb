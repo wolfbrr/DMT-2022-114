{
 "cells": [
  {
   "cell_type": "code",
   "execution_count": 1,
   "id": "9e70f8f0",
   "metadata": {},
   "outputs": [],
   "source": [
    "import pandas as pd\n",
    "import seaborn as sns\n",
    "import matplotlib.pyplot as plt\n",
    "import numpy as np\n",
    "from mltools import my_convert_to_number, my_convert_to_date\n",
    "from wordcloud import WordCloud\n",
    "from collections import Counter\n",
    "from mlxtend.frequent_patterns import apriori\n",
    "from mlxtend.frequent_patterns import association_rules\n",
    "from sklearn.neighbors import KNeighborsClassifier\n",
    "from sklearn.tree import DecisionTreeClassifier\n",
    "from sklearn.model_selection import train_test_split, cross_val_score, KFold\n",
    "\n",
    "#pd.set_option(\"display.max_rows\", None, \"display.max_columns\", None)\n",
    "sns.set(style=\"darkgrid\")"
   ]
  },
  {
   "cell_type": "markdown",
   "id": "da03024f",
   "metadata": {},
   "source": [
    "## Load ODI"
   ]
  },
  {
   "cell_type": "code",
   "execution_count": 2,
   "id": "2d55986a",
   "metadata": {},
   "outputs": [
    {
     "data": {
      "text/plain": [
       "'0.11.2'"
      ]
     },
     "execution_count": 2,
     "metadata": {},
     "output_type": "execute_result"
    }
   ],
   "source": [
    "odi_df = pd.read_csv('ODI-2022.csv',delimiter=\";\")\n",
    "sns.__version__"
   ]
  },
  {
   "cell_type": "markdown",
   "id": "18d9e0c5",
   "metadata": {},
   "source": [
    "### Number of records"
   ]
  },
  {
   "cell_type": "code",
   "execution_count": 3,
   "id": "4c21d83b",
   "metadata": {},
   "outputs": [
    {
     "name": "stdout",
     "output_type": "stream",
     "text": [
      "304\n"
     ]
    }
   ],
   "source": [
    "print(len(odi_df.index))"
   ]
  },
  {
   "cell_type": "markdown",
   "id": "f1cd0561",
   "metadata": {},
   "source": [
    "### Number of attributes"
   ]
  },
  {
   "cell_type": "code",
   "execution_count": 4,
   "id": "10ce2e07",
   "metadata": {},
   "outputs": [
    {
     "name": "stdout",
     "output_type": "stream",
     "text": [
      "17\n"
     ]
    }
   ],
   "source": [
    "print(len(odi_df.columns))"
   ]
  },
  {
   "cell_type": "markdown",
   "id": "713097d2",
   "metadata": {},
   "source": [
    "### Attributes\n",
    "    "
   ]
  },
  {
   "cell_type": "code",
   "execution_count": 5,
   "id": "a7a5a8f1",
   "metadata": {},
   "outputs": [
    {
     "name": "stdout",
     "output_type": "stream",
     "text": [
      "Index(['Tijdstempel', 'What programme are you in?',\n",
      "       'Have you taken a course on machine learning?',\n",
      "       'Have you taken a course on information retrieval?',\n",
      "       'Have you taken a course on statistics?',\n",
      "       'Have you taken a course on databases?', 'What is your gender?',\n",
      "       'Chocolate makes you.....', 'When is your birthday (date)?',\n",
      "       'Number of neighbors sitting around you?', 'Did you stand up?',\n",
      "       'What is your stress level (0-100)?',\n",
      "       'You can get 100 euros if you win a local DM competition, or we don’t hold any competitions and I give everyone some money (not the same amount!). How much do you think you would deserve then? ',\n",
      "       'Give a random number', 'Time you went to be Yesterday',\n",
      "       'What makes a good day for you (1)?',\n",
      "       'What makes a good day for you (2)?'],\n",
      "      dtype='object')\n"
     ]
    }
   ],
   "source": [
    "print((odi_df.columns))"
   ]
  },
  {
   "cell_type": "markdown",
   "id": "88da4fba",
   "metadata": {},
   "source": [
    "## Data treatment"
   ]
  },
  {
   "cell_type": "markdown",
   "id": "33faa4e8",
   "metadata": {},
   "source": [
    "### Rename columns"
   ]
  },
  {
   "cell_type": "code",
   "execution_count": 6,
   "id": "d39db79c",
   "metadata": {
    "scrolled": true
   },
   "outputs": [
    {
     "data": {
      "text/html": [
       "<div>\n",
       "<style scoped>\n",
       "    .dataframe tbody tr th:only-of-type {\n",
       "        vertical-align: middle;\n",
       "    }\n",
       "\n",
       "    .dataframe tbody tr th {\n",
       "        vertical-align: top;\n",
       "    }\n",
       "\n",
       "    .dataframe thead th {\n",
       "        text-align: right;\n",
       "    }\n",
       "</style>\n",
       "<table border=\"1\" class=\"dataframe\">\n",
       "  <thead>\n",
       "    <tr style=\"text-align: right;\">\n",
       "      <th></th>\n",
       "      <th>time</th>\n",
       "      <th>program</th>\n",
       "      <th>ML</th>\n",
       "      <th>IR</th>\n",
       "      <th>Statistics</th>\n",
       "      <th>DB</th>\n",
       "      <th>Gender</th>\n",
       "      <th>Chocolate_influence</th>\n",
       "      <th>Birthday</th>\n",
       "      <th>neighbors</th>\n",
       "      <th>Stand_Up</th>\n",
       "      <th>stress</th>\n",
       "      <th>euro_question</th>\n",
       "      <th>random_number</th>\n",
       "      <th>time_to_bed</th>\n",
       "      <th>good_day_1</th>\n",
       "      <th>good_day_2</th>\n",
       "    </tr>\n",
       "  </thead>\n",
       "  <tbody>\n",
       "    <tr>\n",
       "      <th>0</th>\n",
       "      <td>4-5-2022 12:12:07</td>\n",
       "      <td>artificial intelligence</td>\n",
       "      <td>yes</td>\n",
       "      <td>0</td>\n",
       "      <td>mu</td>\n",
       "      <td>nee</td>\n",
       "      <td>female</td>\n",
       "      <td>neither</td>\n",
       "      <td>02.05.1998</td>\n",
       "      <td>0</td>\n",
       "      <td>no</td>\n",
       "      <td>0</td>\n",
       "      <td>5</td>\n",
       "      <td>888</td>\n",
       "      <td>23:00</td>\n",
       "      <td>coffee</td>\n",
       "      <td>sun</td>\n",
       "    </tr>\n",
       "    <tr>\n",
       "      <th>1</th>\n",
       "      <td>4-5-2022 12:12:07</td>\n",
       "      <td>big data</td>\n",
       "      <td>yes</td>\n",
       "      <td>0</td>\n",
       "      <td>mu</td>\n",
       "      <td>nee</td>\n",
       "      <td>male</td>\n",
       "      <td>fat</td>\n",
       "      <td>29-02-2000</td>\n",
       "      <td>0</td>\n",
       "      <td>yes</td>\n",
       "      <td>200</td>\n",
       "      <td>1</td>\n",
       "      <td>12</td>\n",
       "      <td>32</td>\n",
       "      <td>7777</td>\n",
       "      <td>8964</td>\n",
       "    </tr>\n",
       "    <tr>\n",
       "      <th>2</th>\n",
       "      <td>4-5-2022 12:12:09</td>\n",
       "      <td>Computational  Science</td>\n",
       "      <td>yes</td>\n",
       "      <td>1</td>\n",
       "      <td>mu</td>\n",
       "      <td>ja</td>\n",
       "      <td>male</td>\n",
       "      <td>fat</td>\n",
       "      <td>29-06-1998</td>\n",
       "      <td>1</td>\n",
       "      <td>no</td>\n",
       "      <td>0</td>\n",
       "      <td>100</td>\n",
       "      <td>9</td>\n",
       "      <td>x</td>\n",
       "      <td>0</td>\n",
       "      <td>0</td>\n",
       "    </tr>\n",
       "    <tr>\n",
       "      <th>3</th>\n",
       "      <td>4-5-2022 12:12:09</td>\n",
       "      <td>Bioinformatics and Systems Biology</td>\n",
       "      <td>yes</td>\n",
       "      <td>0</td>\n",
       "      <td>unknown</td>\n",
       "      <td>nee</td>\n",
       "      <td>male</td>\n",
       "      <td>neither</td>\n",
       "      <td>11/05/97</td>\n",
       "      <td>0</td>\n",
       "      <td>no</td>\n",
       "      <td>20</td>\n",
       "      <td>100</td>\n",
       "      <td>31</td>\n",
       "      <td>14:00</td>\n",
       "      <td>good food</td>\n",
       "      <td>no stress</td>\n",
       "    </tr>\n",
       "    <tr>\n",
       "      <th>4</th>\n",
       "      <td>4-5-2022 12:12:15</td>\n",
       "      <td>AI</td>\n",
       "      <td>yes</td>\n",
       "      <td>1</td>\n",
       "      <td>mu</td>\n",
       "      <td>ja</td>\n",
       "      <td>male</td>\n",
       "      <td>fat</td>\n",
       "      <td>03-10-1997</td>\n",
       "      <td>0</td>\n",
       "      <td>no</td>\n",
       "      <td>2</td>\n",
       "      <td>100</td>\n",
       "      <td>86</td>\n",
       "      <td>07:20</td>\n",
       "      <td>Sunshine</td>\n",
       "      <td>Good Food</td>\n",
       "    </tr>\n",
       "    <tr>\n",
       "      <th>...</th>\n",
       "      <td>...</td>\n",
       "      <td>...</td>\n",
       "      <td>...</td>\n",
       "      <td>...</td>\n",
       "      <td>...</td>\n",
       "      <td>...</td>\n",
       "      <td>...</td>\n",
       "      <td>...</td>\n",
       "      <td>...</td>\n",
       "      <td>...</td>\n",
       "      <td>...</td>\n",
       "      <td>...</td>\n",
       "      <td>...</td>\n",
       "      <td>...</td>\n",
       "      <td>...</td>\n",
       "      <td>...</td>\n",
       "      <td>...</td>\n",
       "    </tr>\n",
       "    <tr>\n",
       "      <th>299</th>\n",
       "      <td>4-5-2022 12:35:31</td>\n",
       "      <td>Ai</td>\n",
       "      <td>yes</td>\n",
       "      <td>1</td>\n",
       "      <td>unknown</td>\n",
       "      <td>nee</td>\n",
       "      <td>not willing to answer</td>\n",
       "      <td>fat</td>\n",
       "      <td>1/1/1956</td>\n",
       "      <td>2</td>\n",
       "      <td>no</td>\n",
       "      <td>30</td>\n",
       "      <td>99</td>\n",
       "      <td>6</td>\n",
       "      <td>5</td>\n",
       "      <td>Yes</td>\n",
       "      <td>No</td>\n",
       "    </tr>\n",
       "    <tr>\n",
       "      <th>300</th>\n",
       "      <td>4-5-2022 12:37:05</td>\n",
       "      <td>E</td>\n",
       "      <td>yes</td>\n",
       "      <td>1</td>\n",
       "      <td>mu</td>\n",
       "      <td>ja</td>\n",
       "      <td>male</td>\n",
       "      <td>slim</td>\n",
       "      <td>9</td>\n",
       "      <td>9</td>\n",
       "      <td>yes</td>\n",
       "      <td>9</td>\n",
       "      <td>5</td>\n",
       "      <td>0</td>\n",
       "      <td>9</td>\n",
       "      <td>9</td>\n",
       "      <td>9</td>\n",
       "    </tr>\n",
       "    <tr>\n",
       "      <th>301</th>\n",
       "      <td>4-5-2022 12:41:59</td>\n",
       "      <td>MSc Computational Science</td>\n",
       "      <td>no</td>\n",
       "      <td>0</td>\n",
       "      <td>mu</td>\n",
       "      <td>nee</td>\n",
       "      <td>male</td>\n",
       "      <td>I have no idea what you are talking about</td>\n",
       "      <td>17/07/1995</td>\n",
       "      <td>0</td>\n",
       "      <td>no</td>\n",
       "      <td>666</td>\n",
       "      <td>1</td>\n",
       "      <td>123</td>\n",
       "      <td>555</td>\n",
       "      <td>Good food</td>\n",
       "      <td>Sleep more than 6 hours</td>\n",
       "    </tr>\n",
       "    <tr>\n",
       "      <th>302</th>\n",
       "      <td>4-5-2022 12:54:39</td>\n",
       "      <td>Artificial Intelligence</td>\n",
       "      <td>yes</td>\n",
       "      <td>0</td>\n",
       "      <td>mu</td>\n",
       "      <td>nee</td>\n",
       "      <td>not willing to answer</td>\n",
       "      <td>neither</td>\n",
       "      <td>17</td>\n",
       "      <td>0</td>\n",
       "      <td>yes</td>\n",
       "      <td>70</td>\n",
       "      <td>87</td>\n",
       "      <td>7</td>\n",
       "      <td>0</td>\n",
       "      <td>nice weather</td>\n",
       "      <td>good mood</td>\n",
       "    </tr>\n",
       "    <tr>\n",
       "      <th>303</th>\n",
       "      <td>4-5-2022 13:27:19</td>\n",
       "      <td>Business Analytics</td>\n",
       "      <td>yes</td>\n",
       "      <td>1</td>\n",
       "      <td>mu</td>\n",
       "      <td>ja</td>\n",
       "      <td>male</td>\n",
       "      <td>neither</td>\n",
       "      <td>12/05/1998</td>\n",
       "      <td>0</td>\n",
       "      <td>no</td>\n",
       "      <td>66</td>\n",
       "      <td>0</td>\n",
       "      <td>789458455584851844184</td>\n",
       "      <td>04:00 AM</td>\n",
       "      <td>-</td>\n",
       "      <td>-</td>\n",
       "    </tr>\n",
       "  </tbody>\n",
       "</table>\n",
       "<p>304 rows × 17 columns</p>\n",
       "</div>"
      ],
      "text/plain": [
       "                  time                             program   ML IR Statistics  \\\n",
       "0    4-5-2022 12:12:07             artificial intelligence  yes  0         mu   \n",
       "1    4-5-2022 12:12:07                            big data  yes  0         mu   \n",
       "2    4-5-2022 12:12:09              Computational  Science  yes  1         mu   \n",
       "3    4-5-2022 12:12:09  Bioinformatics and Systems Biology  yes  0    unknown   \n",
       "4    4-5-2022 12:12:15                                  AI  yes  1         mu   \n",
       "..                 ...                                 ...  ... ..        ...   \n",
       "299  4-5-2022 12:35:31                                  Ai  yes  1    unknown   \n",
       "300  4-5-2022 12:37:05                                   E  yes  1         mu   \n",
       "301  4-5-2022 12:41:59           MSc Computational Science   no  0         mu   \n",
       "302  4-5-2022 12:54:39             Artificial Intelligence  yes  0         mu   \n",
       "303  4-5-2022 13:27:19                  Business Analytics  yes  1         mu   \n",
       "\n",
       "      DB                 Gender                        Chocolate_influence  \\\n",
       "0    nee                 female                                    neither   \n",
       "1    nee                   male                                        fat   \n",
       "2     ja                   male                                        fat   \n",
       "3    nee                   male                                    neither   \n",
       "4     ja                   male                                        fat   \n",
       "..   ...                    ...                                        ...   \n",
       "299  nee  not willing to answer                                        fat   \n",
       "300   ja                   male                                       slim   \n",
       "301  nee                   male  I have no idea what you are talking about   \n",
       "302  nee  not willing to answer                                    neither   \n",
       "303   ja                   male                                    neither   \n",
       "\n",
       "       Birthday neighbors Stand_Up stress euro_question  \\\n",
       "0    02.05.1998         0       no      0             5   \n",
       "1    29-02-2000         0      yes    200             1   \n",
       "2    29-06-1998         1       no      0           100   \n",
       "3      11/05/97         0       no     20           100   \n",
       "4    03-10-1997         0       no      2           100   \n",
       "..          ...       ...      ...    ...           ...   \n",
       "299    1/1/1956         2       no     30            99   \n",
       "300           9         9      yes      9             5   \n",
       "301  17/07/1995         0       no    666             1   \n",
       "302          17         0      yes     70            87   \n",
       "303  12/05/1998         0       no     66             0   \n",
       "\n",
       "             random_number time_to_bed    good_day_1                good_day_2  \n",
       "0                      888       23:00        coffee                       sun  \n",
       "1                       12          32          7777                      8964  \n",
       "2                        9           x             0                         0  \n",
       "3                       31       14:00     good food                 no stress  \n",
       "4                       86       07:20      Sunshine                 Good Food  \n",
       "..                     ...         ...           ...                       ...  \n",
       "299                      6           5           Yes                        No  \n",
       "300                      0           9             9                         9  \n",
       "301                    123         555     Good food  Sleep more than 6 hours   \n",
       "302                      7           0  nice weather                 good mood  \n",
       "303  789458455584851844184    04:00 AM             -                         -  \n",
       "\n",
       "[304 rows x 17 columns]"
      ]
     },
     "metadata": {},
     "output_type": "display_data"
    }
   ],
   "source": [
    " odi_df.columns = ['time',\\\n",
    "                   'program',\\\n",
    "                   'ML',\\\n",
    "                   'IR',\\\n",
    "                   'Statistics',\\\n",
    "                   'DB',\\\n",
    "                   'Gender',\\\n",
    "               'Chocolate_influence',\\\n",
    "                   'Birthday',\\\n",
    "                   'neighbors',\\\n",
    "                   'Stand_Up',\\\n",
    "                   'stress',\\\n",
    "              'euro_question',\\\n",
    "                   'random_number',\\\n",
    "                   'time_to_bed',\\\n",
    "                   'good_day_1',\\\n",
    "                   'good_day_2']\n",
    "display(odi_df)"
   ]
  },
  {
   "cell_type": "markdown",
   "id": "fe61cda2",
   "metadata": {},
   "source": [
    "### Data conversion to physical values"
   ]
  },
  {
   "cell_type": "code",
   "execution_count": 7,
   "id": "c2fc7205",
   "metadata": {},
   "outputs": [
    {
     "data": {
      "text/plain": [
       "0        AI\n",
       "1        CS\n",
       "2       CLS\n",
       "3       BIO\n",
       "4        AI\n",
       "       ... \n",
       "299      AI\n",
       "300    REST\n",
       "301     CLS\n",
       "302      AI\n",
       "303      CS\n",
       "Name: program, Length: 304, dtype: object"
      ]
     },
     "metadata": {},
     "output_type": "display_data"
    }
   ],
   "source": [
    "#treating years as nan when less than Timestamp.min or gretaer than timestamp.max\n",
    "odi_df['Birthday' ] = pd.to_datetime(odi_df['Birthday' ], errors = 'coerce')\n",
    "odi_df['time'] = odi_df[['time']].applymap(my_convert_to_date, default=pd.NaT)\n",
    "odi_df[['random_number', 'stress', 'neighbors', 'euro_question' ]] = odi_df[['random_number', 'stress', 'neighbors', 'euro_question']].applymap(my_convert_to_number)\n",
    "odi_df[['ML','IR','DB','Stand_Up']] = odi_df[['ML','IR','DB', 'Stand_Up']].replace({\"yes\", 'ja', \"1\"}, True)\n",
    "odi_df[['ML','IR','DB', 'Stand_Up']] = odi_df[['ML','IR','DB', 'Stand_Up']].replace({\"no\", 'nee', \"0\"}, False)\n",
    "odi_df[['ML','IR','DB', 'Stand_Up']] = odi_df[['ML','IR','DB', 'Stand_Up']].replace(\"unknown\", None)\n",
    "odi_df['time_to_bed' ]= pd.to_datetime(odi_df['time_to_bed' ], errors = 'coerce').dt.hour\n",
    "\n",
    "\n",
    "odi_df['program']=odi_df['program'].str.lower()\n",
    "\n",
    "mask1 = odi_df['program'].str.contains('tificial|ellig|ai')\n",
    "odi_df.loc[mask1,'program'] = 'AI'\n",
    "mask2 = odi_df['program'].str.contains('bio|bioinformatics')\n",
    "odi_df.loc[mask2,'program'] = 'BIO'\n",
    "mask3 = odi_df['program'].str.contains('big|computer|cs')\n",
    "odi_df.loc[mask3,'program'] = 'CS'\n",
    "mask4 = odi_df['program'].str.contains('busines|ba')\n",
    "odi_df.loc[mask4,'program'] = 'BA'\n",
    "mask5 = odi_df['program'].str.contains('fin|quantitative')\n",
    "odi_df.loc[mask5,'program'] = 'FINANCE'\n",
    "mask6 = odi_df['program'].str.contains('conometric|metric')\n",
    "odi_df.loc[mask6,'program'] = 'ECONOM'\n",
    "mask7 = odi_df['program'].str.contains('data science|information')\n",
    "odi_df.loc[mask6,'program'] = 'inform'\n",
    "mask7 = odi_df['program'].str.contains('cls|computational')\n",
    "odi_df.loc[mask7,'program'] = 'CLS'\n",
    "\n",
    "odi_df.loc[(mask1 | mask2 | mask3 | mask4 | mask5 | mask6| mask7)==False,'program']='REST'\n",
    "\n",
    "display(odi_df['program'])\n",
    "#odi_df['program'] = odi_df['program'].replace({'Masters Computer Science','computational science','Computational Science(CLS)','Computational  Science','MSc Computer Science','MSc Computational Science','Computer Science','Computational Science', 'Computational science'},'CS')\n",
    "#odi_df['program'] = odi_df['program'].replace({'Bioinformatics and Systems Biology', 'Masters Bioinformatics','Bioinformatics'},'BIO')\n",
    "#odi_df['program'] = odi_df['program'].replace({'Business Analytics Master (Computational Intel...','Business analytics','Business Analytics'}, 'BA')\n",
    "#display(odi_df['program'])"
   ]
  },
  {
   "cell_type": "markdown",
   "id": "735c9c14",
   "metadata": {},
   "source": [
    "### age calculation\n"
   ]
  },
  {
   "cell_type": "code",
   "execution_count": 8,
   "id": "9b4535f8",
   "metadata": {},
   "outputs": [],
   "source": [
    "odi_df['age'] = odi_df['time'] - odi_df['Birthday']\n",
    "#setting age more than 90 years and less than 10 to None\n",
    "odi_df['age'] = odi_df['age'].dt.days/365\n"
   ]
  },
  {
   "cell_type": "markdown",
   "id": "0069d2da",
   "metadata": {},
   "source": [
    "### Outliers"
   ]
  },
  {
   "cell_type": "code",
   "execution_count": 9,
   "id": "9d4e0abd",
   "metadata": {},
   "outputs": [],
   "source": [
    "odi_df.loc[(odi_df['random_number']>=200)|(odi_df['random_number']<0), 'random_number'] = None\n",
    "odi_df.loc[(odi_df['euro_question']>100)|(odi_df['euro_question']<0), 'euro_question'] = None\n",
    "odi_df.loc[(odi_df['stress']>100)|(odi_df['stress']<0), 'stress'] = None\n",
    "odi_df.loc[(odi_df['neighbors']>10)|(odi_df['neighbors']<0), 'neighbors'] = None\n",
    "\n",
    "odi_df.loc[(odi_df['age']>90) | (odi_df['age']<10),'age']=None"
   ]
  },
  {
   "cell_type": "markdown",
   "id": "6e78a1b2",
   "metadata": {},
   "source": [
    "### Distributions"
   ]
  },
  {
   "cell_type": "code",
   "execution_count": 10,
   "id": "b8b5d0a1",
   "metadata": {},
   "outputs": [
    {
     "data": {
      "text/plain": [
       "0      False\n",
       "1       True\n",
       "2      False\n",
       "3      False\n",
       "4      False\n",
       "       ...  \n",
       "299    False\n",
       "300     True\n",
       "301    False\n",
       "302     True\n",
       "303    False\n",
       "Name: Stand_Up, Length: 304, dtype: object"
      ]
     },
     "execution_count": 10,
     "metadata": {},
     "output_type": "execute_result"
    }
   ],
   "source": [
    "odi_df['Stand_Up']"
   ]
  },
  {
   "cell_type": "code",
   "execution_count": 25,
   "id": "7a53a63f",
   "metadata": {},
   "outputs": [
    {
     "data": {
      "text/plain": [
       "Text(0.5, 1.0, 'Statistics Question')"
      ]
     },
     "execution_count": 25,
     "metadata": {},
     "output_type": "execute_result"
    },
    {
     "data": {
      "image/png": "[encoded data removed]",
      "text/plain": [
       "<Figure size 432x288 with 1 Axes>"
      ]
     },
     "metadata": {},
     "output_type": "display_data"
    },
    {
     "data": {
      "image/png": "[encoded data removed]",
      "text/plain": [
       "<Figure size 432x288 with 1 Axes>"
      ]
     },
     "metadata": {},
     "output_type": "display_data"
    },
    {
     "data": {
      "image/png": "[encoded data removed]",
      "text/plain": [
       "<Figure size 432x288 with 1 Axes>"
      ]
     },
     "metadata": {},
     "output_type": "display_data"
    },
    {
     "data": {
      "image/png": "[encoded data removed]",
      "text/plain": [
       "<Figure size 504x504 with 1 Axes>"
      ]
     },
     "metadata": {},
     "output_type": "display_data"
    },
    {
     "data": {
      "image/png": "[encoded data removed]",
      "text/plain": [
       "<Figure size 504x504 with 1 Axes>"
      ]
     },
     "metadata": {},
     "output_type": "display_data"
    }
   ],
   "source": [
    "plt.figure(1)\n",
    "ax = sns.boxplot(data=odi_df[['time_to_bed','age']], orient=\"h\", palette=\"Set2\")\n",
    "plt.figure(2)\n",
    "ax = sns.boxplot(data=odi_df[['neighbors']], orient=\"h\", palette=\"Set2\")\n",
    "plt.figure(4)\n",
    "ax = sns.boxplot(data=odi_df[[ 'time_to_bed', 'euro_question', 'random_number','stress']], orient=\"h\", palette=\"Set2\")\n",
    "\n",
    "#plt.figure(3)\n",
    "#ax = sns.boxplot(data=odi_df, orient=\"h\", palette=\"Set2\")\n",
    "\n",
    "#ax = sns.displot(data = odi_df, x='age')\n",
    "#plt.title('age distribution')\n",
    "#plt.xlabel('age')\n",
    "#plt.ylabel('count')\n",
    "\n",
    "#sns.displot(data = odi_df, x='time_to_bed')\n",
    "#plt.title('time to bed distribution')\n",
    "#plt.xlabel('hour')\n",
    "#plt.ylabel('count')\n",
    "#plt.figure(3)\n",
    "\n",
    "#sns.displot(data = odi_df, x='euro_question')\n",
    "#plt.title('euro_question')\n",
    "#plt.xlabel('euro')\n",
    "#plt.ylabel('count')\n",
    "\n",
    "#plt.figure(4)\n",
    "#sns.displot(data = odi_df, x='random_number')\n",
    "#plt.title('random_number')\n",
    "#plt.xlabel('number')\n",
    "#plt.ylabel('count')\n",
    "\n",
    "#plt.figure(5)\n",
    "#sns.displot(data = odi_df, x='Stand_Up')\n",
    "#plt.title('Stand_Up')\n",
    "#plt.xlabel('Stand_Up')\n",
    "#plt.ylabel('count')\n",
    "\n",
    "plt.figure(6)\n",
    "odi_df.groupby('program')['program'].count().plot.pie(autopct='%d%%',figsize=(7,7))\n",
    "plt.title('Program')\n",
    "\n",
    "\n",
    "plt.figure(7)\n",
    "odi_df.groupby('Statistics')['Statistics'].count().plot.pie(autopct='%d%%',figsize=(7,7))\n",
    "plt.title('Statistics Question')\n",
    "\n",
    "\n"
   ]
  },
  {
   "cell_type": "code",
   "execution_count": 19,
   "id": "78afa089",
   "metadata": {},
   "outputs": [
    {
     "data": {
      "text/plain": [
       "<AxesSubplot:ylabel='Chocolate_influence'>"
      ]
     },
     "execution_count": 19,
     "metadata": {},
     "output_type": "execute_result"
    },
    {
     "data": {
      "image/png": "[encoded data removed]",
      "text/plain": [
       "<Figure size 504x504 with 1 Axes>"
      ]
     },
     "metadata": {},
     "output_type": "display_data"
    }
   ],
   "source": [
    "\n",
    "odi_df.groupby('Chocolate_influence')['Chocolate_influence'].count().plot.pie(autopct='%d%%',figsize=(7,7))\n"
   ]
  },
  {
   "cell_type": "markdown",
   "id": "e6973056",
   "metadata": {},
   "source": [
    "### Gender distribution"
   ]
  },
  {
   "cell_type": "code",
   "execution_count": 20,
   "id": "145fc51e",
   "metadata": {},
   "outputs": [
    {
     "data": {
      "text/plain": [
       "<AxesSubplot:ylabel='Gender'>"
      ]
     },
     "execution_count": 20,
     "metadata": {},
     "output_type": "execute_result"
    },
    {
     "data": {
      "image/png": "[encoded data removed]",
      "text/plain": [
       "<Figure size 504x504 with 1 Axes>"
      ]
     },
     "metadata": {},
     "output_type": "display_data"
    }
   ],
   "source": [
    "#display(odi_df.groupby('Gender')['Gender'].count())\n",
    "odi_df.groupby('Gender')['Gender'].count().plot.pie(autopct='%d%%',figsize=(7,7))\n",
    "#mask = (odi_df['Gender']!='male') & (odi_df['Gender']!='female')\n",
    "#odi_df['Gender'].loc[mask]\n",
    "#sns.displot(data=odi_df,x='Gender')\n"
   ]
  },
  {
   "cell_type": "markdown",
   "id": "29806f7e",
   "metadata": {},
   "source": [
    "### correlations"
   ]
  },
  {
   "cell_type": "code",
   "execution_count": 21,
   "id": "e1e83cbf",
   "metadata": {},
   "outputs": [
    {
     "data": {
      "image/png": "[encoded data removed]",
      "text/plain": [
       "<Figure size 432x288 with 2 Axes>"
      ]
     },
     "metadata": {},
     "output_type": "display_data"
    }
   ],
   "source": [
    "odi_df.corr(method ='pearson')\n",
    "\n",
    "\n",
    "dataplot=sns.heatmap(odi_df.corr('pearson'), xticklabels=True, yticklabels=True, cmap=\"YlGnBu\")\n"
   ]
  },
  {
   "cell_type": "markdown",
   "id": "f83143ca",
   "metadata": {},
   "source": [
    "### correlations\n"
   ]
  },
  {
   "cell_type": "code",
   "execution_count": null,
   "id": "a98813b4",
   "metadata": {},
   "outputs": [],
   "source": [
    "plt.figure(1)\n",
    "\n",
    "sns.scatterplot(data=odi_df,x='stress', y='neighbors', hue='Gender')\n",
    "plt.figure(2)\n",
    "\n",
    "sns.scatterplot(data=odi_df,x='time_to_bed', y='stress', hue='Gender')\n",
    "plt.figure(3)\n",
    "\n",
    "sns.scatterplot(data=odi_df,x='program', y='stress')\n",
    "\n"
   ]
  },
  {
   "cell_type": "markdown",
   "id": "44633faa",
   "metadata": {},
   "source": [
    "### Pie chart of Gender put None as random number - no rule obeing "
   ]
  },
  {
   "cell_type": "code",
   "execution_count": null,
   "id": "b0bcdfdd",
   "metadata": {},
   "outputs": [],
   "source": [
    "plt.figure(1)\n",
    "odi_df[['Gender']].loc[odi_df['random_number'] .isna()].groupby('Gender')['Gender'].count().plot.pie(autopct='%.2f',figsize=(7,7))\n",
    "plt.title('gender distribution for erronious data in random number')\n",
    "\n",
    "plt.figure(2)\n",
    "odi_df[['Gender']].loc[odi_df['random_number'] .isna()==False].groupby('Gender')['Gender'].count().plot.pie(autopct='%.2f',figsize=(7,7))\n",
    "plt.title('gender distribution for correct data in random number')\n"
   ]
  },
  {
   "cell_type": "code",
   "execution_count": null,
   "id": "71e54b15",
   "metadata": {},
   "outputs": [],
   "source": []
  },
  {
   "cell_type": "markdown",
   "id": "5cf40df3",
   "metadata": {},
   "source": [
    "### Good day distribution"
   ]
  },
  {
   "cell_type": "code",
   "execution_count": null,
   "id": "7b7ca556",
   "metadata": {},
   "outputs": [],
   "source": [
    "dictionary=Counter(list(odi_df['good_day_1'].map(str.lower))+list(odi_df['good_day_2'].map(str.lower)))\n",
    "#dd = pd.DataFrame(dictionary, index=dictionary.keys)\n",
    "#display(dd)\n",
    "#sns.distplot( , x=index)\n",
    "cloud = WordCloud(max_font_size=80,colormap=\"hsv\").generate_from_frequencies(dictionary)\n",
    "plt.figure(figsize=(16,12))\n",
    "plt.imshow(cloud, interpolation='bilinear')\n",
    "plt.axis('off')\n",
    "plt.show()\n",
    "\n"
   ]
  },
  {
   "cell_type": "markdown",
   "id": "e8651dbf",
   "metadata": {},
   "source": [
    "## Classifier"
   ]
  },
  {
   "cell_type": "code",
   "execution_count": null,
   "id": "a3339714",
   "metadata": {},
   "outputs": [],
   "source": [
    "odi_df['MALE'] = odi_df['Gender']=='male'\n",
    "odi_df['FEMALE'] = odi_df['Gender']=='female'\n",
    "frequent_itemsets= apriori(odi_df[['ML','IR','DB','MALE','FEMALE']], min_support=0.07, use_colnames=True)\n",
    "rules = association_rules(frequent_itemsets, metric=\"lift\", min_threshold=1)\n",
    "rules = rules.sort_values(by=[ 'support', 'confidence',], ascending=False)\n",
    "\n",
    "rules[['antecedents', 'consequents','support','confidence']].iloc[0:10]\n"
   ]
  },
  {
   "cell_type": "markdown",
   "id": "173eba38",
   "metadata": {},
   "source": [
    "### Test split "
   ]
  },
  {
   "cell_type": "code",
   "execution_count": null,
   "id": "08d3485a",
   "metadata": {},
   "outputs": [],
   "source": [
    "mask = odi_df['stress'].isna()==False\n",
    "X = odi_df[['ML','IR','DB','MALE','FEMALE','stress']].loc[mask]\n",
    "Y = odi_df['program'].loc[mask]\n",
    "X_train, X_test, Y_train, Y_test = train_test_split(X, Y, test_size=0.3, random_state=0)\n",
    "dummy, X_vaidation, dummy, Y_validation = train_test_split(X_train, Y_train, test_size=0.3, random_state=0)\n",
    "\n",
    "kfold = KFold(n_splits=5)\n"
   ]
  },
  {
   "cell_type": "code",
   "execution_count": null,
   "id": "9cc92ec5",
   "metadata": {},
   "outputs": [],
   "source": []
  },
  {
   "cell_type": "code",
   "execution_count": null,
   "id": "5a1d24fa",
   "metadata": {},
   "outputs": [],
   "source": [
    "cv_scores = []\n",
    "neighbors = [x for x in range(1,30) if x % 2 != 0]\n",
    "for k in neighbors:\n",
    "    knn = KNeighborsClassifier(n_neighbors=k)\n",
    "    scores = cross_val_score(knn, X_vaidation, Y_validation, cv=kfold, scoring='accuracy')\n",
    "    cv_scores.append(scores.mean())#graphical view\n",
    "#misclassification error\n",
    "MSE = [1-x for x in cv_scores]\n",
    "#optimal K\n",
    "optimal_k_index = MSE.index(min(MSE))\n",
    "optimal_k = neighbors[optimal_k_index]\n",
    "print(optimal_k)# plot misclassification error vs k\n",
    "plt.plot(neighbors, MSE)\n",
    "plt.xlabel('Number of Neighbors K')\n",
    "plt.ylabel('Misclassification Error')\n",
    "plt.show()\n",
    "\n",
    "\n",
    "from sklearn.metrics import accuracy_score\n",
    "\n",
    "neigh = KNeighborsClassifier(n_neighbors=optimal_k)\n",
    "neigh.fit(X_train,Y_train)\n",
    "\n",
    "scores = cross_val_score(neigh, X_train, Y_train, cv=kfold)\n",
    "print(\"Kfold %0.2f accuracy with a standard deviation of %0.2f\" % (scores.mean(), scores.std()))\n",
    "\n",
    "Y_pred = neigh.predict(X_test)#calculating accuracy\n",
    "print('Actual accuracy score is {}'.format(accuracy_score(Y_test, Y_pred)))\n"
   ]
  },
  {
   "cell_type": "code",
   "execution_count": null,
   "id": "1a816e2c",
   "metadata": {},
   "outputs": [],
   "source": [
    "tree = DecisionTreeClassifier()\n",
    "tree.fit(X_train,Y_train)\n",
    "scores_tree = cross_val_score(tree, X_train, Y_train, cv=kfold)\n",
    "print(\"K fold %0.2f accuracy with a standard deviation of %0.2f\" % (scores_tree.mean(), scores_tree.std()))\n",
    "Y_pred = tree.predict(X_test)#calculating accuracy\n",
    "print('Accuracy score is {}'.format(accuracy_score(Y_test, Y_pred)))"
   ]
  },
  {
   "cell_type": "code",
   "execution_count": null,
   "id": "adbd46e0",
   "metadata": {},
   "outputs": [],
   "source": []
  }
 ],
 "metadata": {
  "kernelspec": {
   "display_name": "Python 3 (ipykernel)",
   "language": "python",
   "name": "python3"
  },
  "language_info": {
   "codemirror_mode": {
    "name": "ipython",
    "version": 3
   },
   "file_extension": ".py",
   "mimetype": "text/x-python",
   "name": "python",
   "nbconvert_exporter": "python",
   "pygments_lexer": "ipython3",
   "version": "3.7.10"
  }
 },
 "nbformat": 4,
 "nbformat_minor": 5
}
