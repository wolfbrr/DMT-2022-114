{
 "cells": [
  {
   "cell_type": "code",
   "execution_count": 1,
   "id": "9e70f8f0",
   "metadata": {},
   "outputs": [],
   "source": [
    "import string\n",
    "from sklearn.model_selection import train_test_split, cross_val_score, KFold"
   ]
  },
  {
   "cell_type": "markdown",
   "id": "da03024f",
   "metadata": {},
   "source": [
    "## Load sms\n"
   ]
  },
  {
   "cell_type": "code",
   "execution_count": 2,
   "id": "2d55986a",
   "metadata": {},
   "outputs": [],
   "source": [
    "spam_bow=dict()\n",
    "ham_bow=dict()\n",
    "spam_list = list()\n",
    "spam_cnt = 0\n",
    "ham_list = list()\n",
    "def convert_and_tokenze_string(s, tokens=dict()):\n",
    "    \"\"\"\n",
    "    Strips a word from all puncuation, whitespace. Then converts\n",
    "    the word into all lower case.\n",
    "    \"\"\"\n",
    "    #remove new lines and spaces behind and infront of the string\n",
    "    for word in s.split():\n",
    "        word = word.strip(string.punctuation + \\\n",
    "            string.whitespace + \\\n",
    "            \"”\" + \"“\" + \"‘\" + \"’\" + \"―\" + \"—\" + \\\n",
    "            string.digits).lower()\n",
    "        if len(word)>0:\n",
    "            if word in tokens:\n",
    "                tokens[word]+=1\n",
    "            else:\n",
    "                tokens[word]=1\n",
    "    return tokens\n",
    "\n",
    "def calculate_score(vocabulary, subject):\n",
    "    score = 0\n",
    "    tokens = convert_and_tokenze_string(subject, dict())\n",
    "    print(tokens)\n",
    "    for s in tokens:\n",
    "        score += vocabulary.get(s, 0)*tokens[s]\n",
    "    return score\n",
    "\n",
    "with open('SmsCollection.csv', encoding='utf-8',  errors='ignore') as email_file:\n",
    "    for line in email_file:\n",
    "        if line.startswith(\"spam;\"):\n",
    "            subject = line.lstrip(\"spam;\")\n",
    "            spam_list.append(subject)\n",
    "            spam_bow = convert_and_tokenze_string(subject, spam_bow)\n",
    "            spam_cnt +=1\n",
    "        elif line.startswith(\"ham;\"):\n",
    "            subject = line.lstrip(\"ham;\")\n",
    "            ham_list.append(subject)\n",
    "            ham_bow = convert_and_tokenze_string(subject, ham_bow)\n"
   ]
  },
  {
   "cell_type": "markdown",
   "id": "18d9e0c5",
   "metadata": {},
   "source": [
    "### Number of records"
   ]
  },
  {
   "cell_type": "code",
   "execution_count": 3,
   "id": "5245a08b",
   "metadata": {},
   "outputs": [
    {
     "name": "stdout",
     "output_type": "stream",
     "text": [
      "number of spam 747, number of ham 4827, total 5574\n"
     ]
    }
   ],
   "source": [
    "number_of_spam = len(spam_list)\n",
    "number_of_ham = len(ham_list)\n",
    "number_total = len(ham_list)+len(spam_list)\n",
    "print(f'number of spam {number_of_spam}, number of ham {number_of_ham}, total {number_total}')"
   ]
  },
  {
   "cell_type": "code",
   "execution_count": 4,
   "id": "387aff32",
   "metadata": {},
   "outputs": [],
   "source": [
    "spam_train, spam_test = train_test_split(spam_list, test_size=0.33)\n",
    "ham_train, ham_test = train_test_split(spam_list, test_size=0.33)"
   ]
  },
  {
   "cell_type": "markdown",
   "id": "88da4fba",
   "metadata": {},
   "source": [
    "## Classifier"
   ]
  },
  {
   "cell_type": "code",
   "execution_count": 5,
   "id": "0d776342",
   "metadata": {},
   "outputs": [
    {
     "name": "stdout",
     "output_type": "stream",
     "text": [
      "{'ok': 1, 'lar': 1, 'joking': 1, 'wif': 1, 'u': 1, 'oni': 1}\n"
     ]
    },
    {
     "data": {
      "text/plain": [
       "1349"
      ]
     },
     "execution_count": 5,
     "metadata": {},
     "output_type": "execute_result"
    }
   ],
   "source": [
    "calculate_score(ham_bow, ham_list[1])"
   ]
  },
  {
   "cell_type": "code",
   "execution_count": null,
   "id": "6e711752",
   "metadata": {},
   "outputs": [],
   "source": []
  },
  {
   "cell_type": "code",
   "execution_count": null,
   "id": "a5887477",
   "metadata": {},
   "outputs": [],
   "source": [
    "\n"
   ]
  }
 ],
 "metadata": {
  "kernelspec": {
   "display_name": "Python 3",
   "language": "python",
   "name": "python3"
  },
  "language_info": {
   "codemirror_mode": {
    "name": "ipython",
    "version": 3
   },
   "file_extension": ".py",
   "mimetype": "text/x-python",
   "name": "python",
   "nbconvert_exporter": "python",
   "pygments_lexer": "ipython3",
   "version": "3.9.7"
  }
 },
 "nbformat": 4,
 "nbformat_minor": 5
}
