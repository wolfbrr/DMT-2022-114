{
 "cells": [
  {
   "cell_type": "code",
   "execution_count": 4,
   "id": "9e70f8f0",
   "metadata": {},
   "outputs": [],
   "source": [
    "import string\n",
    "from sklearn.model_selection import train_test_split, cross_val_score, KFold"
   ]
  },
  {
   "cell_type": "markdown",
   "id": "da03024f",
   "metadata": {},
   "source": [
    "## Load sms\n"
   ]
  },
  {
   "cell_type": "code",
   "execution_count": 24,
   "id": "2d55986a",
   "metadata": {},
   "outputs": [],
   "source": [
    "spam_bow=dict()\n",
    "ham_bow=dict()\n",
    "spam_list = list()\n",
    "spam_cnt = 0\n",
    "ham_list = list()\n",
    "def convert_and_tokenze_string(s, token):\n",
    "    \"\"\"\n",
    "    Strips a word from all puncuation, whitespace. Then converts\n",
    "    the word into all lower case.\n",
    "    \"\"\"\n",
    "    #remove new lines and spaces behind and infront of the string\n",
    "    for word in s.split():\n",
    "        word = word.strip(string.punctuation + \\\n",
    "            string.whitespace + \\\n",
    "            \"”\" + \"“\" + \"‘\" + \"’\" + \"―\" + \"—\" + \\\n",
    "            string.digits).lower()\n",
    "        if len(word)>0:\n",
    "            if word in token:\n",
    "                token[word]+=1\n",
    "            else:\n",
    "                token[word]=1\n",
    "    return token\n",
    "\n",
    "with open('SmsCollection.csv', encoding='utf-8',  errors='ignore') as email_file:\n",
    "    for line in email_file:\n",
    "        if line.startswith(\"spam;\"):\n",
    "            subject = line.lstrip(\"spam;\")\n",
    "            spam_list.append(subject)\n",
    "            spam_bow = convert_and_tokenze_string(subject, spam_bow)\n",
    "            spam_cnt +=1\n",
    "        elif line.startswith(\"ham;\"):\n",
    "            subject = line.lstrip(\"ham;\")\n",
    "            ham_list.append(subject)\n",
    "            ham_bow = convert_and_tokenze_string(subject, ham_bow)\n"
   ]
  },
  {
   "cell_type": "markdown",
   "id": "18d9e0c5",
   "metadata": {},
   "source": [
    "### Number of records"
   ]
  },
  {
   "cell_type": "code",
   "execution_count": 25,
   "id": "db9659c7",
   "metadata": {},
   "outputs": [
    {
     "name": "stdout",
     "output_type": "stream",
     "text": [
      "747\n"
     ]
    },
    {
     "data": {
      "text/plain": [
       "747"
      ]
     },
     "execution_count": 25,
     "metadata": {},
     "output_type": "execute_result"
    }
   ],
   "source": [
    "print(len(spam_list))"
   ]
  },
  {
   "cell_type": "code",
   "execution_count": 22,
   "id": "4c21d83b",
   "metadata": {},
   "outputs": [
    {
     "name": "stdout",
     "output_type": "stream",
     "text": [
      "4827\n"
     ]
    }
   ],
   "source": [
    "print(len(ham_list))"
   ]
  },
  {
   "cell_type": "code",
   "execution_count": 23,
   "id": "c25cea7b",
   "metadata": {},
   "outputs": [
    {
     "data": {
      "text/plain": [
       "5574"
      ]
     },
     "execution_count": 23,
     "metadata": {},
     "output_type": "execute_result"
    }
   ],
   "source": [
    "len(ham_list)+len(spam_list)"
   ]
  },
  {
   "cell_type": "markdown",
   "id": "713097d2",
   "metadata": {},
   "source": [
    "### Attributes\n",
    "    "
   ]
  },
  {
   "cell_type": "code",
   "execution_count": 28,
   "id": "a7a5a8f1",
   "metadata": {},
   "outputs": [
    {
     "name": "stdout",
     "output_type": "stream",
     "text": [
      "Index(['label', 'text'], dtype='object')\n"
     ]
    }
   ],
   "source": [
    "print((sms_df.columns))"
   ]
  },
  {
   "cell_type": "markdown",
   "id": "88da4fba",
   "metadata": {},
   "source": [
    "## Data treatment"
   ]
  }
 ],
 "metadata": {
  "kernelspec": {
   "display_name": "Python 3",
   "language": "python",
   "name": "python3"
  },
  "language_info": {
   "codemirror_mode": {
    "name": "ipython",
    "version": 3
   },
   "file_extension": ".py",
   "mimetype": "text/x-python",
   "name": "python",
   "nbconvert_exporter": "python",
   "pygments_lexer": "ipython3",
   "version": "3.9.7"
  }
 },
 "nbformat": 4,
 "nbformat_minor": 5
}
